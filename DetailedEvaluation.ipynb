{
 "cells": [
  {
   "cell_type": "markdown",
   "metadata": {},
   "source": [
    "# NescienceDecisionTree\n",
    "### Evaluation"
   ]
  },
  {
   "cell_type": "markdown",
   "metadata": {},
   "source": [
    "Detailed evaluation of the algorithm to compute a decision tree based on the minimum nescience principle, and a comparison with the decision tree algorithm implemented by scikit learn."
   ]
  },
  {
   "cell_type": "code",
   "execution_count": 1,
   "metadata": {
    "scrolled": true
   },
   "outputs": [],
   "source": [
    "import pandas as pd\n",
    "import numpy as np\n",
    "import random\n",
    "\n",
    "# Graphics\n",
    "import matplotlib.pyplot as plt\n",
    "import graphviz\n",
    "from sklearn import tree\n",
    "\n",
    "# Datasets\n",
    "from sklearn.datasets import make_blobs\n",
    "from sklearn.datasets import load_iris\n",
    "from sklearn.datasets import load_breast_cancer\n",
    "from sklearn.datasets import load_digits\n",
    "from sklearn.datasets import load_boston\n",
    "from sklearn.datasets import load_diabetes\n",
    "\n",
    "# Models\n",
    "from NescienceDecisionTree import NescienceDecisionTreeClassifier\n",
    "from NescienceDecisionTree import NescienceDecisionTreeRegressor\n",
    "from sklearn.tree import DecisionTreeClassifier\n",
    "from sklearn.tree import DecisionTreeRegressor\n",
    "\n",
    "# Evaluation of models\n",
    "from sklearn.model_selection import train_test_split\n",
    "from sklearn.model_selection import cross_val_score"
   ]
  },
  {
   "cell_type": "markdown",
   "metadata": {},
   "source": [
    "## Synthetic Datasets"
   ]
  },
  {
   "cell_type": "markdown",
   "metadata": {},
   "source": [
    "### One single line"
   ]
  },
  {
   "cell_type": "code",
   "execution_count": 2,
   "metadata": {},
   "outputs": [],
   "source": [
    "# We always add this line for the reproducibility of results\n",
    "random.seed(0)\n",
    "\n",
    "X = list()\n",
    "y = list()\n",
    "\n",
    "for i in range(1000):\n",
    "    \n",
    "    p = list([random.randint(0, 100), random.randint(0, 100)])\n",
    "    X.append(p)\n",
    "    \n",
    "    if p[0] >= 50:\n",
    "        y.append(1)\n",
    "    else:\n",
    "        y.append(0)"
   ]
  },
  {
   "cell_type": "code",
   "execution_count": 3,
   "metadata": {},
   "outputs": [
    {
     "data": {
      "image/png": "[encoded data removed]",
      "text/plain": [
       "<Figure size 432x288 with 1 Axes>"
      ]
     },
     "metadata": {
      "needs_background": "light"
     },
     "output_type": "display_data"
    }
   ],
   "source": [
    "for i in range(len(X)):\n",
    "    px = X[i][0]\n",
    "    py = X[i][1]\n",
    "    if y[i] == 1:\n",
    "        plt.scatter(px, py, color=['red'])\n",
    "    else:\n",
    "        plt.scatter(px, py, color=['blue'])\n",
    "\n",
    "plt.xlabel(\"X1\")\n",
    "plt.ylabel(\"X2\")\n",
    "plt.show()"
   ]
  },
  {
   "cell_type": "code",
   "execution_count": 4,
   "metadata": {},
   "outputs": [
    {
     "name": "stdout",
     "output_type": "stream",
     "text": [
      "Miscoding:  0.01571190643505571 Inaccuracy:  1.136881498637552e-16 Surfeit:  0.23750000000000004 Nescience:  0.2380191462967296\n",
      "Miscoding:  0.01571190643505571 Inaccuracy:  1.136881498637552e-16 Surfeit:  0.23750000000000004 Nescience:  0.2380191462967296\n",
      "Final nescience: 0.2380191462967296\n",
      "def tree{'X1'}:\n",
      "    if X1 < 49.500:\n",
      "        return 0\n",
      "    else:\n",
      "        return 1\n",
      "\n"
     ]
    }
   ],
   "source": [
    "model = NescienceDecisionTreeClassifier(verbose=True)\n",
    "model.fit(X, y)"
   ]
  },
  {
   "cell_type": "code",
   "execution_count": 5,
   "metadata": {},
   "outputs": [
    {
     "data": {
      "text/plain": [
       "1.0"
      ]
     },
     "execution_count": 5,
     "metadata": {},
     "output_type": "execute_result"
    }
   ],
   "source": [
    "model.score(X, y)"
   ]
  },
  {
   "cell_type": "markdown",
   "metadata": {},
   "source": [
    "Perfect result. Compare with scikit learn"
   ]
  },
  {
   "cell_type": "code",
   "execution_count": 6,
   "metadata": {},
   "outputs": [
    {
     "data": {
      "text/plain": [
       "1.0"
      ]
     },
     "execution_count": 6,
     "metadata": {},
     "output_type": "execute_result"
    }
   ],
   "source": [
    "model_sk = DecisionTreeClassifier()\n",
    "model_sk.fit(X, y)\n",
    "model_sk.score(X, y)"
   ]
  },
  {
   "cell_type": "code",
   "execution_count": 7,
   "metadata": {},
   "outputs": [
    {
     "data": {
      "image/svg+xml": [
       "<?xml version=\"1.0\" encoding=\"UTF-8\" standalone=\"no\"?>\n",
       "<!DOCTYPE svg PUBLIC \"-//W3C//DTD SVG 1.1//EN\"\n",
       " \"http://www.w3.org/Graphics/SVG/1.1/DTD/svg11.dtd\">\n",
       "<!-- Generated by graphviz version 2.40.1 (20161225.0304)\n",
       " -->\n",
       "<!-- Title: Tree Pages: 1 -->\n",
       "<svg width=\"236pt\" height=\"165pt\"\n",
       " viewBox=\"0.00 0.00 236.00 165.00\" xmlns=\"http://www.w3.org/2000/svg\" xmlns:xlink=\"http://www.w3.org/1999/xlink\">\n",
       "<g id=\"graph0\" class=\"graph\" transform=\"scale(1 1) rotate(0) translate(4 161)\">\n",
       "<title>Tree</title>\n",
       "<polygon fill=\"#ffffff\" stroke=\"transparent\" points=\"-4,4 -4,-161 232,-161 232,4 -4,4\"/>\n",
       "<!-- 0 -->\n",
       "<g id=\"node1\" class=\"node\">\n",
       "<title>0</title>\n",
       "<polygon fill=\"none\" stroke=\"#000000\" points=\"173,-157 54,-157 54,-89 173,-89 173,-157\"/>\n",
       "<text text-anchor=\"middle\" x=\"113.5\" y=\"-141.8\" font-family=\"Times,serif\" font-size=\"14.00\" fill=\"#000000\">X[0] &lt;= 49.5</text>\n",
       "<text text-anchor=\"middle\" x=\"113.5\" y=\"-126.8\" font-family=\"Times,serif\" font-size=\"14.00\" fill=\"#000000\">gini = 0.5</text>\n",
       "<text text-anchor=\"middle\" x=\"113.5\" y=\"-111.8\" font-family=\"Times,serif\" font-size=\"14.00\" fill=\"#000000\">samples = 1000</text>\n",
       "<text text-anchor=\"middle\" x=\"113.5\" y=\"-96.8\" font-family=\"Times,serif\" font-size=\"14.00\" fill=\"#000000\">value = [502, 498]</text>\n",
       "</g>\n",
       "<!-- 1 -->\n",
       "<g id=\"node2\" class=\"node\">\n",
       "<title>1</title>\n",
       "<polygon fill=\"none\" stroke=\"#000000\" points=\"105,-53 0,-53 0,0 105,0 105,-53\"/>\n",
       "<text text-anchor=\"middle\" x=\"52.5\" y=\"-37.8\" font-family=\"Times,serif\" font-size=\"14.00\" fill=\"#000000\">gini = 0.0</text>\n",
       "<text text-anchor=\"middle\" x=\"52.5\" y=\"-22.8\" font-family=\"Times,serif\" font-size=\"14.00\" fill=\"#000000\">samples = 502</text>\n",
       "<text text-anchor=\"middle\" x=\"52.5\" y=\"-7.8\" font-family=\"Times,serif\" font-size=\"14.00\" fill=\"#000000\">value = [502, 0]</text>\n",
       "</g>\n",
       "<!-- 0&#45;&gt;1 -->\n",
       "<g id=\"edge1\" class=\"edge\">\n",
       "<title>0&#45;&gt;1</title>\n",
       "<path fill=\"none\" stroke=\"#000000\" d=\"M91.9937,-88.9777C86.4369,-80.187 80.4427,-70.7044 74.8441,-61.8477\"/>\n",
       "<polygon fill=\"#000000\" stroke=\"#000000\" points=\"77.7101,-59.8312 69.4084,-53.2485 71.7931,-63.5714 77.7101,-59.8312\"/>\n",
       "<text text-anchor=\"middle\" x=\"65.0108\" y=\"-69.059\" font-family=\"Times,serif\" font-size=\"14.00\" fill=\"#000000\">True</text>\n",
       "</g>\n",
       "<!-- 2 -->\n",
       "<g id=\"node3\" class=\"node\">\n",
       "<title>2</title>\n",
       "<polygon fill=\"none\" stroke=\"#000000\" points=\"228,-53 123,-53 123,0 228,0 228,-53\"/>\n",
       "<text text-anchor=\"middle\" x=\"175.5\" y=\"-37.8\" font-family=\"Times,serif\" font-size=\"14.00\" fill=\"#000000\">gini = 0.0</text>\n",
       "<text text-anchor=\"middle\" x=\"175.5\" y=\"-22.8\" font-family=\"Times,serif\" font-size=\"14.00\" fill=\"#000000\">samples = 498</text>\n",
       "<text text-anchor=\"middle\" x=\"175.5\" y=\"-7.8\" font-family=\"Times,serif\" font-size=\"14.00\" fill=\"#000000\">value = [0, 498]</text>\n",
       "</g>\n",
       "<!-- 0&#45;&gt;2 -->\n",
       "<g id=\"edge2\" class=\"edge\">\n",
       "<title>0&#45;&gt;2</title>\n",
       "<path fill=\"none\" stroke=\"#000000\" d=\"M135.3589,-88.9777C141.0068,-80.187 147.0993,-70.7044 152.7896,-61.8477\"/>\n",
       "<polygon fill=\"#000000\" stroke=\"#000000\" points=\"155.8537,-63.5536 158.3144,-53.2485 149.9644,-59.7698 155.8537,-63.5536\"/>\n",
       "<text text-anchor=\"middle\" x=\"162.5682\" y=\"-69.0909\" font-family=\"Times,serif\" font-size=\"14.00\" fill=\"#000000\">False</text>\n",
       "</g>\n",
       "</g>\n",
       "</svg>\n"
      ],
      "text/plain": [
       "<graphviz.files.Source at 0x7efecfe68130>"
      ]
     },
     "execution_count": 7,
     "metadata": {},
     "output_type": "execute_result"
    }
   ],
   "source": [
    "dot_data = tree.export_graphviz(model_sk, out_file=None)\n",
    "graph = graphviz.Source(dot_data)\n",
    "graph"
   ]
  },
  {
   "cell_type": "markdown",
   "metadata": {},
   "source": [
    "We have got the same result."
   ]
  },
  {
   "cell_type": "markdown",
   "metadata": {},
   "source": [
    "### One single line with small error"
   ]
  },
  {
   "cell_type": "code",
   "execution_count": 8,
   "metadata": {},
   "outputs": [],
   "source": [
    "# We always add this line for the reproducibility of results\n",
    "random.seed(0)\n",
    "\n",
    "X = list()\n",
    "y = list()\n",
    "\n",
    "for i in range(1000):\n",
    "    \n",
    "    p = list([random.randint(0, 100), random.randint(0, 100)])\n",
    "    X.append(p)\n",
    "    \n",
    "    if p[0] >= 50:\n",
    "        y.append(1)\n",
    "    else:\n",
    "        y.append(0)"
   ]
  },
  {
   "cell_type": "markdown",
   "metadata": {},
   "source": [
    "Let's introduce a small error"
   ]
  },
  {
   "cell_type": "code",
   "execution_count": 9,
   "metadata": {},
   "outputs": [],
   "source": [
    "p = list([20, 20])\n",
    "X.append(p)\n",
    "y.append(1)"
   ]
  },
  {
   "cell_type": "code",
   "execution_count": 10,
   "metadata": {},
   "outputs": [
    {
     "data": {
      "image/png": "[encoded data removed]",
      "text/plain": [
       "<Figure size 432x288 with 1 Axes>"
      ]
     },
     "metadata": {
      "needs_background": "light"
     },
     "output_type": "display_data"
    }
   ],
   "source": [
    "for i in range(len(X)):\n",
    "    px = X[i][0]\n",
    "    py = X[i][1]\n",
    "    if y[i] == 1:\n",
    "        plt.scatter(px, py, color=['red'])\n",
    "    else:\n",
    "        plt.scatter(px, py, color=['blue'])\n",
    "        \n",
    "plt.xlabel(\"X1\")\n",
    "plt.ylabel(\"X2\")\n",
    "plt.show()        "
   ]
  },
  {
   "cell_type": "code",
   "execution_count": 11,
   "metadata": {},
   "outputs": [
    {
     "name": "stdout",
     "output_type": "stream",
     "text": [
      "Miscoding:  0.015460878212030682 Inaccuracy:  0.010405336737545333 Surfeit:  0.23750000000000004 Nescience:  0.23823005643224152\n",
      "Miscoding:  0.0 Inaccuracy:  0.010405336737545333 Surfeit:  0.46308724832214765 Nescience:  0.46320413490296064\n",
      "Miscoding:  0.0 Inaccuracy:  0.010405336737545333 Surfeit:  0.59375 Nescience:  0.5938411686070795\n",
      "Miscoding:  0.0 Inaccuracy:  0.010405336737545333 Surfeit:  0.6591639871382637 Nescience:  0.6592461095620018\n",
      "Miscoding:  0.0 Inaccuracy:  0.010405336737545333 Surfeit:  0.7146341463414634 Nescience:  0.7147098950971742\n",
      "Miscoding:  0.0 Inaccuracy:  0.010405336737545333 Surfeit:  0.7146341463414634 Nescience:  0.7147098950971742\n",
      "Final nescience: 0.23823005643224152\n",
      "def tree{'X1'}:\n",
      "    if X1 < 49.500:\n",
      "        return 0\n",
      "    else:\n",
      "        return 1\n",
      "\n"
     ]
    }
   ],
   "source": [
    "model = NescienceDecisionTreeClassifier(verbose=True)\n",
    "model.fit(X, y)"
   ]
  },
  {
   "cell_type": "code",
   "execution_count": 12,
   "metadata": {},
   "outputs": [
    {
     "data": {
      "text/plain": [
       "0.999000999000999"
      ]
     },
     "execution_count": 12,
     "metadata": {},
     "output_type": "execute_result"
    }
   ],
   "source": [
    "model.score(X, y)"
   ]
  },
  {
   "cell_type": "markdown",
   "metadata": {},
   "source": [
    "Nice! The algorithm says that there is no point in trying to model the error!"
   ]
  },
  {
   "cell_type": "code",
   "execution_count": 13,
   "metadata": {},
   "outputs": [
    {
     "data": {
      "text/plain": [
       "0.999000999000999"
      ]
     },
     "execution_count": 13,
     "metadata": {},
     "output_type": "execute_result"
    }
   ],
   "source": [
    "model_sk = DecisionTreeClassifier()\n",
    "model_sk.fit(X, y)\n",
    "model_sk.score(X, y)"
   ]
  },
  {
   "cell_type": "code",
   "execution_count": 14,
   "metadata": {},
   "outputs": [
    {
     "data": {
      "image/svg+xml": [
       "<?xml version=\"1.0\" encoding=\"UTF-8\" standalone=\"no\"?>\n",
       "<!DOCTYPE svg PUBLIC \"-//W3C//DTD SVG 1.1//EN\"\n",
       " \"http://www.w3.org/Graphics/SVG/1.1/DTD/svg11.dtd\">\n",
       "<!-- Generated by graphviz version 2.40.1 (20161225.0304)\n",
       " -->\n",
       "<!-- Title: Tree Pages: 1 -->\n",
       "<svg width=\"357pt\" height=\"581pt\"\n",
       " viewBox=\"0.00 0.00 357.00 581.00\" xmlns=\"http://www.w3.org/2000/svg\" xmlns:xlink=\"http://www.w3.org/1999/xlink\">\n",
       "<g id=\"graph0\" class=\"graph\" transform=\"scale(1 1) rotate(0) translate(4 577)\">\n",
       "<title>Tree</title>\n",
       "<polygon fill=\"#ffffff\" stroke=\"transparent\" points=\"-4,4 -4,-577 353,-577 353,4 -4,4\"/>\n",
       "<!-- 0 -->\n",
       "<g id=\"node1\" class=\"node\">\n",
       "<title>0</title>\n",
       "<polygon fill=\"none\" stroke=\"#000000\" points=\"294,-573 175,-573 175,-505 294,-505 294,-573\"/>\n",
       "<text text-anchor=\"middle\" x=\"234.5\" y=\"-557.8\" font-family=\"Times,serif\" font-size=\"14.00\" fill=\"#000000\">X[0] &lt;= 49.5</text>\n",
       "<text text-anchor=\"middle\" x=\"234.5\" y=\"-542.8\" font-family=\"Times,serif\" font-size=\"14.00\" fill=\"#000000\">gini = 0.5</text>\n",
       "<text text-anchor=\"middle\" x=\"234.5\" y=\"-527.8\" font-family=\"Times,serif\" font-size=\"14.00\" fill=\"#000000\">samples = 1001</text>\n",
       "<text text-anchor=\"middle\" x=\"234.5\" y=\"-512.8\" font-family=\"Times,serif\" font-size=\"14.00\" fill=\"#000000\">value = [502, 499]</text>\n",
       "</g>\n",
       "<!-- 1 -->\n",
       "<g id=\"node2\" class=\"node\">\n",
       "<title>1</title>\n",
       "<polygon fill=\"none\" stroke=\"#000000\" points=\"226,-469 121,-469 121,-401 226,-401 226,-469\"/>\n",
       "<text text-anchor=\"middle\" x=\"173.5\" y=\"-453.8\" font-family=\"Times,serif\" font-size=\"14.00\" fill=\"#000000\">X[1] &lt;= 20.5</text>\n",
       "<text text-anchor=\"middle\" x=\"173.5\" y=\"-438.8\" font-family=\"Times,serif\" font-size=\"14.00\" fill=\"#000000\">gini = 0.004</text>\n",
       "<text text-anchor=\"middle\" x=\"173.5\" y=\"-423.8\" font-family=\"Times,serif\" font-size=\"14.00\" fill=\"#000000\">samples = 503</text>\n",
       "<text text-anchor=\"middle\" x=\"173.5\" y=\"-408.8\" font-family=\"Times,serif\" font-size=\"14.00\" fill=\"#000000\">value = [502, 1]</text>\n",
       "</g>\n",
       "<!-- 0&#45;&gt;1 -->\n",
       "<g id=\"edge1\" class=\"edge\">\n",
       "<title>0&#45;&gt;1</title>\n",
       "<path fill=\"none\" stroke=\"#000000\" d=\"M214.5263,-504.9465C209.4707,-496.3271 203.9753,-486.9579 198.6983,-477.9611\"/>\n",
       "<polygon fill=\"#000000\" stroke=\"#000000\" points=\"201.5969,-475.985 193.5186,-469.13 195.5589,-479.5265 201.5969,-475.985\"/>\n",
       "<text text-anchor=\"middle\" x=\"188.4749\" y=\"-484.7836\" font-family=\"Times,serif\" font-size=\"14.00\" fill=\"#000000\">True</text>\n",
       "</g>\n",
       "<!-- 10 -->\n",
       "<g id=\"node11\" class=\"node\">\n",
       "<title>10</title>\n",
       "<polygon fill=\"none\" stroke=\"#000000\" points=\"349,-461.5 244,-461.5 244,-408.5 349,-408.5 349,-461.5\"/>\n",
       "<text text-anchor=\"middle\" x=\"296.5\" y=\"-446.3\" font-family=\"Times,serif\" font-size=\"14.00\" fill=\"#000000\">gini = 0.0</text>\n",
       "<text text-anchor=\"middle\" x=\"296.5\" y=\"-431.3\" font-family=\"Times,serif\" font-size=\"14.00\" fill=\"#000000\">samples = 498</text>\n",
       "<text text-anchor=\"middle\" x=\"296.5\" y=\"-416.3\" font-family=\"Times,serif\" font-size=\"14.00\" fill=\"#000000\">value = [0, 498]</text>\n",
       "</g>\n",
       "<!-- 0&#45;&gt;10 -->\n",
       "<g id=\"edge10\" class=\"edge\">\n",
       "<title>0&#45;&gt;10</title>\n",
       "<path fill=\"none\" stroke=\"#000000\" d=\"M254.8011,-504.9465C261.4334,-493.8215 268.8103,-481.4473 275.4933,-470.237\"/>\n",
       "<polygon fill=\"#000000\" stroke=\"#000000\" points=\"278.5624,-471.9239 280.6768,-461.5422 272.5498,-468.3394 278.5624,-471.9239\"/>\n",
       "<text text-anchor=\"middle\" x=\"285.5824\" y=\"-477.2312\" font-family=\"Times,serif\" font-size=\"14.00\" fill=\"#000000\">False</text>\n",
       "</g>\n",
       "<!-- 2 -->\n",
       "<g id=\"node3\" class=\"node\">\n",
       "<title>2</title>\n",
       "<polygon fill=\"none\" stroke=\"#000000\" points=\"165,-365 60,-365 60,-297 165,-297 165,-365\"/>\n",
       "<text text-anchor=\"middle\" x=\"112.5\" y=\"-349.8\" font-family=\"Times,serif\" font-size=\"14.00\" fill=\"#000000\">X[1] &lt;= 19.5</text>\n",
       "<text text-anchor=\"middle\" x=\"112.5\" y=\"-334.8\" font-family=\"Times,serif\" font-size=\"14.00\" fill=\"#000000\">gini = 0.017</text>\n",
       "<text text-anchor=\"middle\" x=\"112.5\" y=\"-319.8\" font-family=\"Times,serif\" font-size=\"14.00\" fill=\"#000000\">samples = 119</text>\n",
       "<text text-anchor=\"middle\" x=\"112.5\" y=\"-304.8\" font-family=\"Times,serif\" font-size=\"14.00\" fill=\"#000000\">value = [118, 1]</text>\n",
       "</g>\n",
       "<!-- 1&#45;&gt;2 -->\n",
       "<g id=\"edge2\" class=\"edge\">\n",
       "<title>1&#45;&gt;2</title>\n",
       "<path fill=\"none\" stroke=\"#000000\" d=\"M153.5263,-400.9465C148.4707,-392.3271 142.9753,-382.9579 137.6983,-373.9611\"/>\n",
       "<polygon fill=\"#000000\" stroke=\"#000000\" points=\"140.5969,-371.985 132.5186,-365.13 134.5589,-375.5265 140.5969,-371.985\"/>\n",
       "</g>\n",
       "<!-- 9 -->\n",
       "<g id=\"node10\" class=\"node\">\n",
       "<title>9</title>\n",
       "<polygon fill=\"none\" stroke=\"#000000\" points=\"288,-357.5 183,-357.5 183,-304.5 288,-304.5 288,-357.5\"/>\n",
       "<text text-anchor=\"middle\" x=\"235.5\" y=\"-342.3\" font-family=\"Times,serif\" font-size=\"14.00\" fill=\"#000000\">gini = 0.0</text>\n",
       "<text text-anchor=\"middle\" x=\"235.5\" y=\"-327.3\" font-family=\"Times,serif\" font-size=\"14.00\" fill=\"#000000\">samples = 384</text>\n",
       "<text text-anchor=\"middle\" x=\"235.5\" y=\"-312.3\" font-family=\"Times,serif\" font-size=\"14.00\" fill=\"#000000\">value = [384, 0]</text>\n",
       "</g>\n",
       "<!-- 1&#45;&gt;9 -->\n",
       "<g id=\"edge9\" class=\"edge\">\n",
       "<title>1&#45;&gt;9</title>\n",
       "<path fill=\"none\" stroke=\"#000000\" d=\"M193.8011,-400.9465C200.4334,-389.8215 207.8103,-377.4473 214.4933,-366.237\"/>\n",
       "<polygon fill=\"#000000\" stroke=\"#000000\" points=\"217.5624,-367.9239 219.6768,-357.5422 211.5498,-364.3394 217.5624,-367.9239\"/>\n",
       "</g>\n",
       "<!-- 3 -->\n",
       "<g id=\"node4\" class=\"node\">\n",
       "<title>3</title>\n",
       "<polygon fill=\"none\" stroke=\"#000000\" points=\"105,-253.5 0,-253.5 0,-200.5 105,-200.5 105,-253.5\"/>\n",
       "<text text-anchor=\"middle\" x=\"52.5\" y=\"-238.3\" font-family=\"Times,serif\" font-size=\"14.00\" fill=\"#000000\">gini = 0.0</text>\n",
       "<text text-anchor=\"middle\" x=\"52.5\" y=\"-223.3\" font-family=\"Times,serif\" font-size=\"14.00\" fill=\"#000000\">samples = 108</text>\n",
       "<text text-anchor=\"middle\" x=\"52.5\" y=\"-208.3\" font-family=\"Times,serif\" font-size=\"14.00\" fill=\"#000000\">value = [108, 0]</text>\n",
       "</g>\n",
       "<!-- 2&#45;&gt;3 -->\n",
       "<g id=\"edge3\" class=\"edge\">\n",
       "<title>2&#45;&gt;3</title>\n",
       "<path fill=\"none\" stroke=\"#000000\" d=\"M92.8538,-296.9465C86.4355,-285.8215 79.2965,-273.4473 72.829,-262.237\"/>\n",
       "<polygon fill=\"#000000\" stroke=\"#000000\" points=\"75.8417,-260.455 67.8128,-253.5422 69.7784,-263.9531 75.8417,-260.455\"/>\n",
       "</g>\n",
       "<!-- 4 -->\n",
       "<g id=\"node5\" class=\"node\">\n",
       "<title>4</title>\n",
       "<polygon fill=\"none\" stroke=\"#000000\" points=\"221.5,-261 123.5,-261 123.5,-193 221.5,-193 221.5,-261\"/>\n",
       "<text text-anchor=\"middle\" x=\"172.5\" y=\"-245.8\" font-family=\"Times,serif\" font-size=\"14.00\" fill=\"#000000\">X[0] &lt;= 24.0</text>\n",
       "<text text-anchor=\"middle\" x=\"172.5\" y=\"-230.8\" font-family=\"Times,serif\" font-size=\"14.00\" fill=\"#000000\">gini = 0.165</text>\n",
       "<text text-anchor=\"middle\" x=\"172.5\" y=\"-215.8\" font-family=\"Times,serif\" font-size=\"14.00\" fill=\"#000000\">samples = 11</text>\n",
       "<text text-anchor=\"middle\" x=\"172.5\" y=\"-200.8\" font-family=\"Times,serif\" font-size=\"14.00\" fill=\"#000000\">value = [10, 1]</text>\n",
       "</g>\n",
       "<!-- 2&#45;&gt;4 -->\n",
       "<g id=\"edge4\" class=\"edge\">\n",
       "<title>2&#45;&gt;4</title>\n",
       "<path fill=\"none\" stroke=\"#000000\" d=\"M132.1462,-296.9465C137.119,-288.3271 142.5243,-278.9579 147.7148,-269.9611\"/>\n",
       "<polygon fill=\"#000000\" stroke=\"#000000\" points=\"150.844,-271.5409 152.8096,-261.13 144.7807,-268.0428 150.844,-271.5409\"/>\n",
       "</g>\n",
       "<!-- 5 -->\n",
       "<g id=\"node6\" class=\"node\">\n",
       "<title>5</title>\n",
       "<polygon fill=\"none\" stroke=\"#000000\" points=\"163.5,-157 71.5,-157 71.5,-89 163.5,-89 163.5,-157\"/>\n",
       "<text text-anchor=\"middle\" x=\"117.5\" y=\"-141.8\" font-family=\"Times,serif\" font-size=\"14.00\" fill=\"#000000\">X[0] &lt;= 19.0</text>\n",
       "<text text-anchor=\"middle\" x=\"117.5\" y=\"-126.8\" font-family=\"Times,serif\" font-size=\"14.00\" fill=\"#000000\">gini = 0.278</text>\n",
       "<text text-anchor=\"middle\" x=\"117.5\" y=\"-111.8\" font-family=\"Times,serif\" font-size=\"14.00\" fill=\"#000000\">samples = 6</text>\n",
       "<text text-anchor=\"middle\" x=\"117.5\" y=\"-96.8\" font-family=\"Times,serif\" font-size=\"14.00\" fill=\"#000000\">value = [5, 1]</text>\n",
       "</g>\n",
       "<!-- 4&#45;&gt;5 -->\n",
       "<g id=\"edge5\" class=\"edge\">\n",
       "<title>4&#45;&gt;5</title>\n",
       "<path fill=\"none\" stroke=\"#000000\" d=\"M154.4909,-192.9465C149.9801,-184.4169 145.0809,-175.153 140.3686,-166.2424\"/>\n",
       "<polygon fill=\"#000000\" stroke=\"#000000\" points=\"143.3185,-164.3337 135.5495,-157.13 137.1306,-167.6062 143.3185,-164.3337\"/>\n",
       "</g>\n",
       "<!-- 8 -->\n",
       "<g id=\"node9\" class=\"node\">\n",
       "<title>8</title>\n",
       "<polygon fill=\"none\" stroke=\"#000000\" points=\"273.5,-149.5 181.5,-149.5 181.5,-96.5 273.5,-96.5 273.5,-149.5\"/>\n",
       "<text text-anchor=\"middle\" x=\"227.5\" y=\"-134.3\" font-family=\"Times,serif\" font-size=\"14.00\" fill=\"#000000\">gini = 0.0</text>\n",
       "<text text-anchor=\"middle\" x=\"227.5\" y=\"-119.3\" font-family=\"Times,serif\" font-size=\"14.00\" fill=\"#000000\">samples = 5</text>\n",
       "<text text-anchor=\"middle\" x=\"227.5\" y=\"-104.3\" font-family=\"Times,serif\" font-size=\"14.00\" fill=\"#000000\">value = [5, 0]</text>\n",
       "</g>\n",
       "<!-- 4&#45;&gt;8 -->\n",
       "<g id=\"edge8\" class=\"edge\">\n",
       "<title>4&#45;&gt;8</title>\n",
       "<path fill=\"none\" stroke=\"#000000\" d=\"M190.5091,-192.9465C196.3342,-181.9316 202.807,-169.6922 208.6888,-158.5703\"/>\n",
       "<polygon fill=\"#000000\" stroke=\"#000000\" points=\"211.8822,-160.0184 213.4633,-149.5422 205.6943,-156.7459 211.8822,-160.0184\"/>\n",
       "</g>\n",
       "<!-- 6 -->\n",
       "<g id=\"node7\" class=\"node\">\n",
       "<title>6</title>\n",
       "<polygon fill=\"none\" stroke=\"#000000\" points=\"108.5,-53 16.5,-53 16.5,0 108.5,0 108.5,-53\"/>\n",
       "<text text-anchor=\"middle\" x=\"62.5\" y=\"-37.8\" font-family=\"Times,serif\" font-size=\"14.00\" fill=\"#000000\">gini = 0.0</text>\n",
       "<text text-anchor=\"middle\" x=\"62.5\" y=\"-22.8\" font-family=\"Times,serif\" font-size=\"14.00\" fill=\"#000000\">samples = 4</text>\n",
       "<text text-anchor=\"middle\" x=\"62.5\" y=\"-7.8\" font-family=\"Times,serif\" font-size=\"14.00\" fill=\"#000000\">value = [4, 0]</text>\n",
       "</g>\n",
       "<!-- 5&#45;&gt;6 -->\n",
       "<g id=\"edge6\" class=\"edge\">\n",
       "<title>5&#45;&gt;6</title>\n",
       "<path fill=\"none\" stroke=\"#000000\" d=\"M98.1091,-88.9777C93.151,-80.2786 87.8067,-70.9018 82.8042,-62.1247\"/>\n",
       "<polygon fill=\"#000000\" stroke=\"#000000\" points=\"85.7378,-60.2033 77.7452,-53.2485 79.6562,-63.6696 85.7378,-60.2033\"/>\n",
       "</g>\n",
       "<!-- 7 -->\n",
       "<g id=\"node8\" class=\"node\">\n",
       "<title>7</title>\n",
       "<polygon fill=\"none\" stroke=\"#000000\" points=\"218.5,-53 126.5,-53 126.5,0 218.5,0 218.5,-53\"/>\n",
       "<text text-anchor=\"middle\" x=\"172.5\" y=\"-37.8\" font-family=\"Times,serif\" font-size=\"14.00\" fill=\"#000000\">gini = 0.5</text>\n",
       "<text text-anchor=\"middle\" x=\"172.5\" y=\"-22.8\" font-family=\"Times,serif\" font-size=\"14.00\" fill=\"#000000\">samples = 2</text>\n",
       "<text text-anchor=\"middle\" x=\"172.5\" y=\"-7.8\" font-family=\"Times,serif\" font-size=\"14.00\" fill=\"#000000\">value = [1, 1]</text>\n",
       "</g>\n",
       "<!-- 5&#45;&gt;7 -->\n",
       "<g id=\"edge7\" class=\"edge\">\n",
       "<title>5&#45;&gt;7</title>\n",
       "<path fill=\"none\" stroke=\"#000000\" d=\"M136.8909,-88.9777C141.849,-80.2786 147.1933,-70.9018 152.1958,-62.1247\"/>\n",
       "<polygon fill=\"#000000\" stroke=\"#000000\" points=\"155.3438,-63.6696 157.2548,-53.2485 149.2622,-60.2033 155.3438,-63.6696\"/>\n",
       "</g>\n",
       "</g>\n",
       "</svg>\n"
      ],
      "text/plain": [
       "<graphviz.files.Source at 0x7efefd0e1fd0>"
      ]
     },
     "execution_count": 14,
     "metadata": {},
     "output_type": "execute_result"
    }
   ],
   "source": [
    "dot_data = tree.export_graphviz(model_sk, out_file=None)\n",
    "graph = graphviz.Source(dot_data)\n",
    "graph"
   ]
  },
  {
   "cell_type": "markdown",
   "metadata": {},
   "source": [
    "The standard algorith can not deal with the error properly."
   ]
  },
  {
   "cell_type": "markdown",
   "metadata": {},
   "source": [
    "Of course, we could limit the depth of the tree, or require a minimun number of samples per leaf, but that would imply to optimize an additional hyperparameter."
   ]
  },
  {
   "cell_type": "markdown",
   "metadata": {},
   "source": [
    "Let's check with a minimun number of 5 samples per leaf node, a standard technique to avoid overoptimization in decision trees."
   ]
  },
  {
   "cell_type": "code",
   "execution_count": 15,
   "metadata": {},
   "outputs": [
    {
     "data": {
      "text/plain": [
       "0.999000999000999"
      ]
     },
     "execution_count": 15,
     "metadata": {},
     "output_type": "execute_result"
    }
   ],
   "source": [
    "model_sk = DecisionTreeClassifier(min_samples_leaf=5)\n",
    "model_sk.fit(X, y)\n",
    "model_sk.score(X, y)"
   ]
  },
  {
   "cell_type": "code",
   "execution_count": 16,
   "metadata": {},
   "outputs": [
    {
     "data": {
      "image/svg+xml": [
       "<?xml version=\"1.0\" encoding=\"UTF-8\" standalone=\"no\"?>\n",
       "<!DOCTYPE svg PUBLIC \"-//W3C//DTD SVG 1.1//EN\"\n",
       " \"http://www.w3.org/Graphics/SVG/1.1/DTD/svg11.dtd\">\n",
       "<!-- Generated by graphviz version 2.40.1 (20161225.0304)\n",
       " -->\n",
       "<!-- Title: Tree Pages: 1 -->\n",
       "<svg width=\"357pt\" height=\"477pt\"\n",
       " viewBox=\"0.00 0.00 357.00 477.00\" xmlns=\"http://www.w3.org/2000/svg\" xmlns:xlink=\"http://www.w3.org/1999/xlink\">\n",
       "<g id=\"graph0\" class=\"graph\" transform=\"scale(1 1) rotate(0) translate(4 473)\">\n",
       "<title>Tree</title>\n",
       "<polygon fill=\"#ffffff\" stroke=\"transparent\" points=\"-4,4 -4,-473 353,-473 353,4 -4,4\"/>\n",
       "<!-- 0 -->\n",
       "<g id=\"node1\" class=\"node\">\n",
       "<title>0</title>\n",
       "<polygon fill=\"none\" stroke=\"#000000\" points=\"294,-469 175,-469 175,-401 294,-401 294,-469\"/>\n",
       "<text text-anchor=\"middle\" x=\"234.5\" y=\"-453.8\" font-family=\"Times,serif\" font-size=\"14.00\" fill=\"#000000\">X[0] &lt;= 49.5</text>\n",
       "<text text-anchor=\"middle\" x=\"234.5\" y=\"-438.8\" font-family=\"Times,serif\" font-size=\"14.00\" fill=\"#000000\">gini = 0.5</text>\n",
       "<text text-anchor=\"middle\" x=\"234.5\" y=\"-423.8\" font-family=\"Times,serif\" font-size=\"14.00\" fill=\"#000000\">samples = 1001</text>\n",
       "<text text-anchor=\"middle\" x=\"234.5\" y=\"-408.8\" font-family=\"Times,serif\" font-size=\"14.00\" fill=\"#000000\">value = [502, 499]</text>\n",
       "</g>\n",
       "<!-- 1 -->\n",
       "<g id=\"node2\" class=\"node\">\n",
       "<title>1</title>\n",
       "<polygon fill=\"none\" stroke=\"#000000\" points=\"226,-365 121,-365 121,-297 226,-297 226,-365\"/>\n",
       "<text text-anchor=\"middle\" x=\"173.5\" y=\"-349.8\" font-family=\"Times,serif\" font-size=\"14.00\" fill=\"#000000\">X[1] &lt;= 20.5</text>\n",
       "<text text-anchor=\"middle\" x=\"173.5\" y=\"-334.8\" font-family=\"Times,serif\" font-size=\"14.00\" fill=\"#000000\">gini = 0.004</text>\n",
       "<text text-anchor=\"middle\" x=\"173.5\" y=\"-319.8\" font-family=\"Times,serif\" font-size=\"14.00\" fill=\"#000000\">samples = 503</text>\n",
       "<text text-anchor=\"middle\" x=\"173.5\" y=\"-304.8\" font-family=\"Times,serif\" font-size=\"14.00\" fill=\"#000000\">value = [502, 1]</text>\n",
       "</g>\n",
       "<!-- 0&#45;&gt;1 -->\n",
       "<g id=\"edge1\" class=\"edge\">\n",
       "<title>0&#45;&gt;1</title>\n",
       "<path fill=\"none\" stroke=\"#000000\" d=\"M214.5263,-400.9465C209.4707,-392.3271 203.9753,-382.9579 198.6983,-373.9611\"/>\n",
       "<polygon fill=\"#000000\" stroke=\"#000000\" points=\"201.5969,-371.985 193.5186,-365.13 195.5589,-375.5265 201.5969,-371.985\"/>\n",
       "<text text-anchor=\"middle\" x=\"188.4749\" y=\"-380.7836\" font-family=\"Times,serif\" font-size=\"14.00\" fill=\"#000000\">True</text>\n",
       "</g>\n",
       "<!-- 8 -->\n",
       "<g id=\"node9\" class=\"node\">\n",
       "<title>8</title>\n",
       "<polygon fill=\"none\" stroke=\"#000000\" points=\"349,-357.5 244,-357.5 244,-304.5 349,-304.5 349,-357.5\"/>\n",
       "<text text-anchor=\"middle\" x=\"296.5\" y=\"-342.3\" font-family=\"Times,serif\" font-size=\"14.00\" fill=\"#000000\">gini = 0.0</text>\n",
       "<text text-anchor=\"middle\" x=\"296.5\" y=\"-327.3\" font-family=\"Times,serif\" font-size=\"14.00\" fill=\"#000000\">samples = 498</text>\n",
       "<text text-anchor=\"middle\" x=\"296.5\" y=\"-312.3\" font-family=\"Times,serif\" font-size=\"14.00\" fill=\"#000000\">value = [0, 498]</text>\n",
       "</g>\n",
       "<!-- 0&#45;&gt;8 -->\n",
       "<g id=\"edge8\" class=\"edge\">\n",
       "<title>0&#45;&gt;8</title>\n",
       "<path fill=\"none\" stroke=\"#000000\" d=\"M254.8011,-400.9465C261.4334,-389.8215 268.8103,-377.4473 275.4933,-366.237\"/>\n",
       "<polygon fill=\"#000000\" stroke=\"#000000\" points=\"278.5624,-367.9239 280.6768,-357.5422 272.5498,-364.3394 278.5624,-367.9239\"/>\n",
       "<text text-anchor=\"middle\" x=\"285.5824\" y=\"-373.2312\" font-family=\"Times,serif\" font-size=\"14.00\" fill=\"#000000\">False</text>\n",
       "</g>\n",
       "<!-- 2 -->\n",
       "<g id=\"node3\" class=\"node\">\n",
       "<title>2</title>\n",
       "<polygon fill=\"none\" stroke=\"#000000\" points=\"165,-261 60,-261 60,-193 165,-193 165,-261\"/>\n",
       "<text text-anchor=\"middle\" x=\"112.5\" y=\"-245.8\" font-family=\"Times,serif\" font-size=\"14.00\" fill=\"#000000\">X[1] &lt;= 19.5</text>\n",
       "<text text-anchor=\"middle\" x=\"112.5\" y=\"-230.8\" font-family=\"Times,serif\" font-size=\"14.00\" fill=\"#000000\">gini = 0.017</text>\n",
       "<text text-anchor=\"middle\" x=\"112.5\" y=\"-215.8\" font-family=\"Times,serif\" font-size=\"14.00\" fill=\"#000000\">samples = 119</text>\n",
       "<text text-anchor=\"middle\" x=\"112.5\" y=\"-200.8\" font-family=\"Times,serif\" font-size=\"14.00\" fill=\"#000000\">value = [118, 1]</text>\n",
       "</g>\n",
       "<!-- 1&#45;&gt;2 -->\n",
       "<g id=\"edge2\" class=\"edge\">\n",
       "<title>1&#45;&gt;2</title>\n",
       "<path fill=\"none\" stroke=\"#000000\" d=\"M153.5263,-296.9465C148.4707,-288.3271 142.9753,-278.9579 137.6983,-269.9611\"/>\n",
       "<polygon fill=\"#000000\" stroke=\"#000000\" points=\"140.5969,-267.985 132.5186,-261.13 134.5589,-271.5265 140.5969,-267.985\"/>\n",
       "</g>\n",
       "<!-- 7 -->\n",
       "<g id=\"node8\" class=\"node\">\n",
       "<title>7</title>\n",
       "<polygon fill=\"none\" stroke=\"#000000\" points=\"288,-253.5 183,-253.5 183,-200.5 288,-200.5 288,-253.5\"/>\n",
       "<text text-anchor=\"middle\" x=\"235.5\" y=\"-238.3\" font-family=\"Times,serif\" font-size=\"14.00\" fill=\"#000000\">gini = 0.0</text>\n",
       "<text text-anchor=\"middle\" x=\"235.5\" y=\"-223.3\" font-family=\"Times,serif\" font-size=\"14.00\" fill=\"#000000\">samples = 384</text>\n",
       "<text text-anchor=\"middle\" x=\"235.5\" y=\"-208.3\" font-family=\"Times,serif\" font-size=\"14.00\" fill=\"#000000\">value = [384, 0]</text>\n",
       "</g>\n",
       "<!-- 1&#45;&gt;7 -->\n",
       "<g id=\"edge7\" class=\"edge\">\n",
       "<title>1&#45;&gt;7</title>\n",
       "<path fill=\"none\" stroke=\"#000000\" d=\"M193.8011,-296.9465C200.4334,-285.8215 207.8103,-273.4473 214.4933,-262.237\"/>\n",
       "<polygon fill=\"#000000\" stroke=\"#000000\" points=\"217.5624,-263.9239 219.6768,-253.5422 211.5498,-260.3394 217.5624,-263.9239\"/>\n",
       "</g>\n",
       "<!-- 3 -->\n",
       "<g id=\"node4\" class=\"node\">\n",
       "<title>3</title>\n",
       "<polygon fill=\"none\" stroke=\"#000000\" points=\"105,-149.5 0,-149.5 0,-96.5 105,-96.5 105,-149.5\"/>\n",
       "<text text-anchor=\"middle\" x=\"52.5\" y=\"-134.3\" font-family=\"Times,serif\" font-size=\"14.00\" fill=\"#000000\">gini = 0.0</text>\n",
       "<text text-anchor=\"middle\" x=\"52.5\" y=\"-119.3\" font-family=\"Times,serif\" font-size=\"14.00\" fill=\"#000000\">samples = 108</text>\n",
       "<text text-anchor=\"middle\" x=\"52.5\" y=\"-104.3\" font-family=\"Times,serif\" font-size=\"14.00\" fill=\"#000000\">value = [108, 0]</text>\n",
       "</g>\n",
       "<!-- 2&#45;&gt;3 -->\n",
       "<g id=\"edge3\" class=\"edge\">\n",
       "<title>2&#45;&gt;3</title>\n",
       "<path fill=\"none\" stroke=\"#000000\" d=\"M92.8538,-192.9465C86.4355,-181.8215 79.2965,-169.4473 72.829,-158.237\"/>\n",
       "<polygon fill=\"#000000\" stroke=\"#000000\" points=\"75.8417,-156.455 67.8128,-149.5422 69.7784,-159.9531 75.8417,-156.455\"/>\n",
       "</g>\n",
       "<!-- 4 -->\n",
       "<g id=\"node5\" class=\"node\">\n",
       "<title>4</title>\n",
       "<polygon fill=\"none\" stroke=\"#000000\" points=\"221.5,-157 123.5,-157 123.5,-89 221.5,-89 221.5,-157\"/>\n",
       "<text text-anchor=\"middle\" x=\"172.5\" y=\"-141.8\" font-family=\"Times,serif\" font-size=\"14.00\" fill=\"#000000\">X[0] &lt;= 24.0</text>\n",
       "<text text-anchor=\"middle\" x=\"172.5\" y=\"-126.8\" font-family=\"Times,serif\" font-size=\"14.00\" fill=\"#000000\">gini = 0.165</text>\n",
       "<text text-anchor=\"middle\" x=\"172.5\" y=\"-111.8\" font-family=\"Times,serif\" font-size=\"14.00\" fill=\"#000000\">samples = 11</text>\n",
       "<text text-anchor=\"middle\" x=\"172.5\" y=\"-96.8\" font-family=\"Times,serif\" font-size=\"14.00\" fill=\"#000000\">value = [10, 1]</text>\n",
       "</g>\n",
       "<!-- 2&#45;&gt;4 -->\n",
       "<g id=\"edge4\" class=\"edge\">\n",
       "<title>2&#45;&gt;4</title>\n",
       "<path fill=\"none\" stroke=\"#000000\" d=\"M132.1462,-192.9465C137.119,-184.3271 142.5243,-174.9579 147.7148,-165.9611\"/>\n",
       "<polygon fill=\"#000000\" stroke=\"#000000\" points=\"150.844,-167.5409 152.8096,-157.13 144.7807,-164.0428 150.844,-167.5409\"/>\n",
       "</g>\n",
       "<!-- 5 -->\n",
       "<g id=\"node6\" class=\"node\">\n",
       "<title>5</title>\n",
       "<polygon fill=\"none\" stroke=\"#000000\" points=\"163.5,-53 71.5,-53 71.5,0 163.5,0 163.5,-53\"/>\n",
       "<text text-anchor=\"middle\" x=\"117.5\" y=\"-37.8\" font-family=\"Times,serif\" font-size=\"14.00\" fill=\"#000000\">gini = 0.278</text>\n",
       "<text text-anchor=\"middle\" x=\"117.5\" y=\"-22.8\" font-family=\"Times,serif\" font-size=\"14.00\" fill=\"#000000\">samples = 6</text>\n",
       "<text text-anchor=\"middle\" x=\"117.5\" y=\"-7.8\" font-family=\"Times,serif\" font-size=\"14.00\" fill=\"#000000\">value = [5, 1]</text>\n",
       "</g>\n",
       "<!-- 4&#45;&gt;5 -->\n",
       "<g id=\"edge5\" class=\"edge\">\n",
       "<title>4&#45;&gt;5</title>\n",
       "<path fill=\"none\" stroke=\"#000000\" d=\"M153.1091,-88.9777C148.151,-80.2786 142.8067,-70.9018 137.8042,-62.1247\"/>\n",
       "<polygon fill=\"#000000\" stroke=\"#000000\" points=\"140.7378,-60.2033 132.7452,-53.2485 134.6562,-63.6696 140.7378,-60.2033\"/>\n",
       "</g>\n",
       "<!-- 6 -->\n",
       "<g id=\"node7\" class=\"node\">\n",
       "<title>6</title>\n",
       "<polygon fill=\"none\" stroke=\"#000000\" points=\"273.5,-53 181.5,-53 181.5,0 273.5,0 273.5,-53\"/>\n",
       "<text text-anchor=\"middle\" x=\"227.5\" y=\"-37.8\" font-family=\"Times,serif\" font-size=\"14.00\" fill=\"#000000\">gini = 0.0</text>\n",
       "<text text-anchor=\"middle\" x=\"227.5\" y=\"-22.8\" font-family=\"Times,serif\" font-size=\"14.00\" fill=\"#000000\">samples = 5</text>\n",
       "<text text-anchor=\"middle\" x=\"227.5\" y=\"-7.8\" font-family=\"Times,serif\" font-size=\"14.00\" fill=\"#000000\">value = [5, 0]</text>\n",
       "</g>\n",
       "<!-- 4&#45;&gt;6 -->\n",
       "<g id=\"edge6\" class=\"edge\">\n",
       "<title>4&#45;&gt;6</title>\n",
       "<path fill=\"none\" stroke=\"#000000\" d=\"M191.8909,-88.9777C196.849,-80.2786 202.1933,-70.9018 207.1958,-62.1247\"/>\n",
       "<polygon fill=\"#000000\" stroke=\"#000000\" points=\"210.3438,-63.6696 212.2548,-53.2485 204.2622,-60.2033 210.3438,-63.6696\"/>\n",
       "</g>\n",
       "</g>\n",
       "</svg>\n"
      ],
      "text/plain": [
       "<graphviz.files.Source at 0x7efed080fcd0>"
      ]
     },
     "execution_count": 16,
     "metadata": {},
     "output_type": "execute_result"
    }
   ],
   "source": [
    "dot_data = tree.export_graphviz(model_sk, out_file=None)\n",
    "graph = graphviz.Source(dot_data)\n",
    "graph"
   ]
  },
  {
   "cell_type": "markdown",
   "metadata": {},
   "source": [
    "That's a surprising result!"
   ]
  },
  {
   "cell_type": "markdown",
   "metadata": {},
   "source": [
    "### Two lines"
   ]
  },
  {
   "cell_type": "code",
   "execution_count": 17,
   "metadata": {},
   "outputs": [],
   "source": [
    "random.seed(0)\n",
    "\n",
    "X = list()\n",
    "y = list()\n",
    "\n",
    "for i in range(1000):\n",
    "    \n",
    "    p = list([random.randint(0, 100), random.randint(0, 100)])\n",
    "    X.append(p)\n",
    "    \n",
    "    if p[0] >= 50:\n",
    "        y.append(1)\n",
    "    else:\n",
    "        if p[1] >= 20:\n",
    "            y.append(0)\n",
    "        else:\n",
    "            y.append(1)"
   ]
  },
  {
   "cell_type": "code",
   "execution_count": 18,
   "metadata": {},
   "outputs": [
    {
     "data": {
      "image/png": "[encoded data removed]",
      "text/plain": [
       "<Figure size 432x288 with 1 Axes>"
      ]
     },
     "metadata": {
      "needs_background": "light"
     },
     "output_type": "display_data"
    }
   ],
   "source": [
    "for i in range(len(X)):\n",
    "    px = X[i][0]\n",
    "    py = X[i][1]\n",
    "    if y[i] == 1:\n",
    "        plt.scatter(px, py, color=['red'])\n",
    "    else:\n",
    "        plt.scatter(px, py, color=['blue'])\n",
    "        \n",
    "plt.xlabel(\"X1\")\n",
    "plt.ylabel(\"X2\")\n",
    "plt.show()        "
   ]
  },
  {
   "cell_type": "code",
   "execution_count": 19,
   "metadata": {},
   "outputs": [
    {
     "name": "stdout",
     "output_type": "stream",
     "text": [
      "Miscoding:  0.2586098590114435 Inaccuracy:  0.4097593508559283 Surfeit:  0.23750000000000004 Nescience:  0.5396184159123838\n",
      "Miscoding:  0.0 Inaccuracy:  0.0 Surfeit:  0.4697986577181208 Nescience:  0.4697986577181208\n",
      "Miscoding:  0.0 Inaccuracy:  0.0 Surfeit:  0.4697986577181208 Nescience:  0.4697986577181208\n",
      "Final nescience: 0.4697986577181208\n",
      "def tree{'X1', 'X2'}:\n",
      "    if X1 < 49.500:\n",
      "        if X2 < 19.500:\n",
      "            return 1\n",
      "        else:\n",
      "            return 0\n",
      "    else:\n",
      "        return 1\n",
      "\n"
     ]
    }
   ],
   "source": [
    "model = NescienceDecisionTreeClassifier(verbose=True)\n",
    "model.fit(X, y)"
   ]
  },
  {
   "cell_type": "code",
   "execution_count": 20,
   "metadata": {},
   "outputs": [
    {
     "data": {
      "text/plain": [
       "1.0"
      ]
     },
     "execution_count": 20,
     "metadata": {},
     "output_type": "execute_result"
    }
   ],
   "source": [
    "model.score(X, y)"
   ]
  },
  {
   "cell_type": "markdown",
   "metadata": {},
   "source": [
    "Compare with scikit learn"
   ]
  },
  {
   "cell_type": "code",
   "execution_count": 21,
   "metadata": {},
   "outputs": [
    {
     "data": {
      "text/plain": [
       "1.0"
      ]
     },
     "execution_count": 21,
     "metadata": {},
     "output_type": "execute_result"
    }
   ],
   "source": [
    "model_sk = DecisionTreeClassifier()\n",
    "model_sk.fit(X, y)\n",
    "model_sk.score(X, y)"
   ]
  },
  {
   "cell_type": "code",
   "execution_count": 22,
   "metadata": {},
   "outputs": [
    {
     "data": {
      "image/svg+xml": [
       "<?xml version=\"1.0\" encoding=\"UTF-8\" standalone=\"no\"?>\n",
       "<!DOCTYPE svg PUBLIC \"-//W3C//DTD SVG 1.1//EN\"\n",
       " \"http://www.w3.org/Graphics/SVG/1.1/DTD/svg11.dtd\">\n",
       "<!-- Generated by graphviz version 2.40.1 (20161225.0304)\n",
       " -->\n",
       "<!-- Title: Tree Pages: 1 -->\n",
       "<svg width=\"304pt\" height=\"269pt\"\n",
       " viewBox=\"0.00 0.00 304.00 269.00\" xmlns=\"http://www.w3.org/2000/svg\" xmlns:xlink=\"http://www.w3.org/1999/xlink\">\n",
       "<g id=\"graph0\" class=\"graph\" transform=\"scale(1 1) rotate(0) translate(4 265)\">\n",
       "<title>Tree</title>\n",
       "<polygon fill=\"#ffffff\" stroke=\"transparent\" points=\"-4,4 -4,-265 300,-265 300,4 -4,4\"/>\n",
       "<!-- 0 -->\n",
       "<g id=\"node1\" class=\"node\">\n",
       "<title>0</title>\n",
       "<polygon fill=\"none\" stroke=\"#000000\" points=\"238,-261 119,-261 119,-193 238,-193 238,-261\"/>\n",
       "<text text-anchor=\"middle\" x=\"178.5\" y=\"-245.8\" font-family=\"Times,serif\" font-size=\"14.00\" fill=\"#000000\">X[0] &lt;= 49.5</text>\n",
       "<text text-anchor=\"middle\" x=\"178.5\" y=\"-230.8\" font-family=\"Times,serif\" font-size=\"14.00\" fill=\"#000000\">gini = 0.478</text>\n",
       "<text text-anchor=\"middle\" x=\"178.5\" y=\"-215.8\" font-family=\"Times,serif\" font-size=\"14.00\" fill=\"#000000\">samples = 1000</text>\n",
       "<text text-anchor=\"middle\" x=\"178.5\" y=\"-200.8\" font-family=\"Times,serif\" font-size=\"14.00\" fill=\"#000000\">value = [394, 606]</text>\n",
       "</g>\n",
       "<!-- 1 -->\n",
       "<g id=\"node2\" class=\"node\">\n",
       "<title>1</title>\n",
       "<polygon fill=\"none\" stroke=\"#000000\" points=\"173,-157 54,-157 54,-89 173,-89 173,-157\"/>\n",
       "<text text-anchor=\"middle\" x=\"113.5\" y=\"-141.8\" font-family=\"Times,serif\" font-size=\"14.00\" fill=\"#000000\">X[1] &lt;= 19.5</text>\n",
       "<text text-anchor=\"middle\" x=\"113.5\" y=\"-126.8\" font-family=\"Times,serif\" font-size=\"14.00\" fill=\"#000000\">gini = 0.338</text>\n",
       "<text text-anchor=\"middle\" x=\"113.5\" y=\"-111.8\" font-family=\"Times,serif\" font-size=\"14.00\" fill=\"#000000\">samples = 502</text>\n",
       "<text text-anchor=\"middle\" x=\"113.5\" y=\"-96.8\" font-family=\"Times,serif\" font-size=\"14.00\" fill=\"#000000\">value = [394, 108]</text>\n",
       "</g>\n",
       "<!-- 0&#45;&gt;1 -->\n",
       "<g id=\"edge1\" class=\"edge\">\n",
       "<title>0&#45;&gt;1</title>\n",
       "<path fill=\"none\" stroke=\"#000000\" d=\"M157.2166,-192.9465C151.7733,-184.2373 145.8516,-174.7626 140.175,-165.6801\"/>\n",
       "<polygon fill=\"#000000\" stroke=\"#000000\" points=\"143.0993,-163.755 134.8312,-157.13 137.1633,-167.465 143.0993,-163.755\"/>\n",
       "<text text-anchor=\"middle\" x=\"130.3341\" y=\"-172.9178\" font-family=\"Times,serif\" font-size=\"14.00\" fill=\"#000000\">True</text>\n",
       "</g>\n",
       "<!-- 4 -->\n",
       "<g id=\"node5\" class=\"node\">\n",
       "<title>4</title>\n",
       "<polygon fill=\"none\" stroke=\"#000000\" points=\"296,-149.5 191,-149.5 191,-96.5 296,-96.5 296,-149.5\"/>\n",
       "<text text-anchor=\"middle\" x=\"243.5\" y=\"-134.3\" font-family=\"Times,serif\" font-size=\"14.00\" fill=\"#000000\">gini = 0.0</text>\n",
       "<text text-anchor=\"middle\" x=\"243.5\" y=\"-119.3\" font-family=\"Times,serif\" font-size=\"14.00\" fill=\"#000000\">samples = 498</text>\n",
       "<text text-anchor=\"middle\" x=\"243.5\" y=\"-104.3\" font-family=\"Times,serif\" font-size=\"14.00\" fill=\"#000000\">value = [0, 498]</text>\n",
       "</g>\n",
       "<!-- 0&#45;&gt;4 -->\n",
       "<g id=\"edge4\" class=\"edge\">\n",
       "<title>0&#45;&gt;4</title>\n",
       "<path fill=\"none\" stroke=\"#000000\" d=\"M199.7834,-192.9465C206.7366,-181.8215 214.4705,-169.4473 221.4769,-158.237\"/>\n",
       "<polygon fill=\"#000000\" stroke=\"#000000\" points=\"224.5791,-159.8772 226.9111,-149.5422 218.6431,-156.1671 224.5791,-159.8772\"/>\n",
       "<text text-anchor=\"middle\" x=\"231.4083\" y=\"-165.33\" font-family=\"Times,serif\" font-size=\"14.00\" fill=\"#000000\">False</text>\n",
       "</g>\n",
       "<!-- 2 -->\n",
       "<g id=\"node3\" class=\"node\">\n",
       "<title>2</title>\n",
       "<polygon fill=\"none\" stroke=\"#000000\" points=\"105,-53 0,-53 0,0 105,0 105,-53\"/>\n",
       "<text text-anchor=\"middle\" x=\"52.5\" y=\"-37.8\" font-family=\"Times,serif\" font-size=\"14.00\" fill=\"#000000\">gini = 0.0</text>\n",
       "<text text-anchor=\"middle\" x=\"52.5\" y=\"-22.8\" font-family=\"Times,serif\" font-size=\"14.00\" fill=\"#000000\">samples = 108</text>\n",
       "<text text-anchor=\"middle\" x=\"52.5\" y=\"-7.8\" font-family=\"Times,serif\" font-size=\"14.00\" fill=\"#000000\">value = [0, 108]</text>\n",
       "</g>\n",
       "<!-- 1&#45;&gt;2 -->\n",
       "<g id=\"edge2\" class=\"edge\">\n",
       "<title>1&#45;&gt;2</title>\n",
       "<path fill=\"none\" stroke=\"#000000\" d=\"M91.9937,-88.9777C86.4369,-80.187 80.4427,-70.7044 74.8441,-61.8477\"/>\n",
       "<polygon fill=\"#000000\" stroke=\"#000000\" points=\"77.7101,-59.8312 69.4084,-53.2485 71.7931,-63.5714 77.7101,-59.8312\"/>\n",
       "</g>\n",
       "<!-- 3 -->\n",
       "<g id=\"node4\" class=\"node\">\n",
       "<title>3</title>\n",
       "<polygon fill=\"none\" stroke=\"#000000\" points=\"228,-53 123,-53 123,0 228,0 228,-53\"/>\n",
       "<text text-anchor=\"middle\" x=\"175.5\" y=\"-37.8\" font-family=\"Times,serif\" font-size=\"14.00\" fill=\"#000000\">gini = 0.0</text>\n",
       "<text text-anchor=\"middle\" x=\"175.5\" y=\"-22.8\" font-family=\"Times,serif\" font-size=\"14.00\" fill=\"#000000\">samples = 394</text>\n",
       "<text text-anchor=\"middle\" x=\"175.5\" y=\"-7.8\" font-family=\"Times,serif\" font-size=\"14.00\" fill=\"#000000\">value = [394, 0]</text>\n",
       "</g>\n",
       "<!-- 1&#45;&gt;3 -->\n",
       "<g id=\"edge3\" class=\"edge\">\n",
       "<title>1&#45;&gt;3</title>\n",
       "<path fill=\"none\" stroke=\"#000000\" d=\"M135.3589,-88.9777C141.0068,-80.187 147.0993,-70.7044 152.7896,-61.8477\"/>\n",
       "<polygon fill=\"#000000\" stroke=\"#000000\" points=\"155.8537,-63.5536 158.3144,-53.2485 149.9644,-59.7698 155.8537,-63.5536\"/>\n",
       "</g>\n",
       "</g>\n",
       "</svg>\n"
      ],
      "text/plain": [
       "<graphviz.files.Source at 0x7efecfe68400>"
      ]
     },
     "execution_count": 22,
     "metadata": {},
     "output_type": "execute_result"
    }
   ],
   "source": [
    "dot_data = tree.export_graphviz(model_sk, out_file=None)\n",
    "graph = graphviz.Source(dot_data)\n",
    "graph"
   ]
  },
  {
   "cell_type": "markdown",
   "metadata": {},
   "source": [
    "We have got the same result."
   ]
  },
  {
   "cell_type": "markdown",
   "metadata": {},
   "source": [
    "### Three lines"
   ]
  },
  {
   "cell_type": "code",
   "execution_count": 23,
   "metadata": {},
   "outputs": [],
   "source": [
    "random.seed(0)\n",
    "\n",
    "X = list()\n",
    "y = list()\n",
    "\n",
    "for i in range(1000):\n",
    "    \n",
    "    p = list([random.randint(0, 100), random.randint(0, 100)])    \n",
    "    X.append(p)\n",
    "    \n",
    "    if p[0] >= 50:\n",
    "        if p[1] >= 30:\n",
    "            y.append(1)\n",
    "        else:\n",
    "            y.append(0)\n",
    "    else:\n",
    "        if p[1] >= 20:\n",
    "            y.append(0)\n",
    "        else:\n",
    "            y.append(1)"
   ]
  },
  {
   "cell_type": "code",
   "execution_count": 24,
   "metadata": {},
   "outputs": [
    {
     "data": {
      "image/png": "[encoded data removed]",
      "text/plain": [
       "<Figure size 432x288 with 1 Axes>"
      ]
     },
     "metadata": {
      "needs_background": "light"
     },
     "output_type": "display_data"
    }
   ],
   "source": [
    "for i in range(len(X)):\n",
    "    px = X[i][0]\n",
    "    py = X[i][1]\n",
    "    if y[i] == 1:\n",
    "        plt.scatter(px, py, color=['red'])\n",
    "    else:\n",
    "        plt.scatter(px, py, color=['blue'])\n",
    "\n",
    "plt.xlabel(\"X1\")\n",
    "plt.ylabel(\"X2\")\n",
    "plt.show()"
   ]
  },
  {
   "cell_type": "code",
   "execution_count": 25,
   "metadata": {},
   "outputs": [
    {
     "name": "stdout",
     "output_type": "stream",
     "text": [
      "Miscoding:  0.3630701525021536 Inaccuracy:  0.8266743349895735 Surfeit:  0.23750000000000004 Nescience:  0.9336041140485568\n",
      "Miscoding:  0.0 Inaccuracy:  0.4257626947076416 Surfeit:  0.44966442953020136 Nescience:  0.619251137576213\n",
      "Miscoding:  0.0 Inaccuracy:  0.0 Surfeit:  0.5849056603773585 Nescience:  0.5849056603773585\n",
      "Miscoding:  0.0 Inaccuracy:  0.0 Surfeit:  0.5849056603773585 Nescience:  0.5849056603773585\n",
      "Final nescience: 0.5849056603773585\n",
      "def tree{'X1', 'X2'}:\n",
      "    if X1 < 49.500:\n",
      "        if X2 < 19.500:\n",
      "            return 1\n",
      "        else:\n",
      "            return 0\n",
      "    else:\n",
      "        if X2 < 29.500:\n",
      "            return 0\n",
      "        else:\n",
      "            return 1\n",
      "\n"
     ]
    }
   ],
   "source": [
    "model = NescienceDecisionTreeClassifier(verbose=True)\n",
    "model.fit(X, y)"
   ]
  },
  {
   "cell_type": "code",
   "execution_count": 26,
   "metadata": {},
   "outputs": [
    {
     "data": {
      "text/plain": [
       "1.0"
      ]
     },
     "execution_count": 26,
     "metadata": {},
     "output_type": "execute_result"
    }
   ],
   "source": [
    "model.score(X, y)"
   ]
  },
  {
   "cell_type": "markdown",
   "metadata": {},
   "source": [
    "Compare with scikit learn"
   ]
  },
  {
   "cell_type": "code",
   "execution_count": 27,
   "metadata": {},
   "outputs": [
    {
     "data": {
      "text/plain": [
       "1.0"
      ]
     },
     "execution_count": 27,
     "metadata": {},
     "output_type": "execute_result"
    }
   ],
   "source": [
    "model_sk = DecisionTreeClassifier()\n",
    "model_sk.fit(X, y)\n",
    "model_sk.score(X, y)"
   ]
  },
  {
   "cell_type": "code",
   "execution_count": 28,
   "metadata": {},
   "outputs": [
    {
     "data": {
      "image/svg+xml": [
       "<?xml version=\"1.0\" encoding=\"UTF-8\" standalone=\"no\"?>\n",
       "<!DOCTYPE svg PUBLIC \"-//W3C//DTD SVG 1.1//EN\"\n",
       " \"http://www.w3.org/Graphics/SVG/1.1/DTD/svg11.dtd\">\n",
       "<!-- Generated by graphviz version 2.40.1 (20161225.0304)\n",
       " -->\n",
       "<!-- Title: Tree Pages: 1 -->\n",
       "<svg width=\"489pt\" height=\"269pt\"\n",
       " viewBox=\"0.00 0.00 489.00 269.00\" xmlns=\"http://www.w3.org/2000/svg\" xmlns:xlink=\"http://www.w3.org/1999/xlink\">\n",
       "<g id=\"graph0\" class=\"graph\" transform=\"scale(1 1) rotate(0) translate(4 265)\">\n",
       "<title>Tree</title>\n",
       "<polygon fill=\"#ffffff\" stroke=\"transparent\" points=\"-4,4 -4,-265 485,-265 485,4 -4,4\"/>\n",
       "<!-- 0 -->\n",
       "<g id=\"node1\" class=\"node\">\n",
       "<title>0</title>\n",
       "<polygon fill=\"none\" stroke=\"#000000\" points=\"299,-261 180,-261 180,-193 299,-193 299,-261\"/>\n",
       "<text text-anchor=\"middle\" x=\"239.5\" y=\"-245.8\" font-family=\"Times,serif\" font-size=\"14.00\" fill=\"#000000\">X[0] &lt;= 49.5</text>\n",
       "<text text-anchor=\"middle\" x=\"239.5\" y=\"-230.8\" font-family=\"Times,serif\" font-size=\"14.00\" fill=\"#000000\">gini = 0.496</text>\n",
       "<text text-anchor=\"middle\" x=\"239.5\" y=\"-215.8\" font-family=\"Times,serif\" font-size=\"14.00\" fill=\"#000000\">samples = 1000</text>\n",
       "<text text-anchor=\"middle\" x=\"239.5\" y=\"-200.8\" font-family=\"Times,serif\" font-size=\"14.00\" fill=\"#000000\">value = [547, 453]</text>\n",
       "</g>\n",
       "<!-- 1 -->\n",
       "<g id=\"node2\" class=\"node\">\n",
       "<title>1</title>\n",
       "<polygon fill=\"none\" stroke=\"#000000\" points=\"231,-157 112,-157 112,-89 231,-89 231,-157\"/>\n",
       "<text text-anchor=\"middle\" x=\"171.5\" y=\"-141.8\" font-family=\"Times,serif\" font-size=\"14.00\" fill=\"#000000\">X[1] &lt;= 19.5</text>\n",
       "<text text-anchor=\"middle\" x=\"171.5\" y=\"-126.8\" font-family=\"Times,serif\" font-size=\"14.00\" fill=\"#000000\">gini = 0.338</text>\n",
       "<text text-anchor=\"middle\" x=\"171.5\" y=\"-111.8\" font-family=\"Times,serif\" font-size=\"14.00\" fill=\"#000000\">samples = 502</text>\n",
       "<text text-anchor=\"middle\" x=\"171.5\" y=\"-96.8\" font-family=\"Times,serif\" font-size=\"14.00\" fill=\"#000000\">value = [394, 108]</text>\n",
       "</g>\n",
       "<!-- 0&#45;&gt;1 -->\n",
       "<g id=\"edge1\" class=\"edge\">\n",
       "<title>0&#45;&gt;1</title>\n",
       "<path fill=\"none\" stroke=\"#000000\" d=\"M217.2343,-192.9465C211.5398,-184.2373 205.3448,-174.7626 199.4062,-165.6801\"/>\n",
       "<polygon fill=\"#000000\" stroke=\"#000000\" points=\"202.2177,-163.5843 193.8158,-157.13 196.3589,-167.4151 202.2177,-163.5843\"/>\n",
       "<text text-anchor=\"middle\" x=\"189.7185\" y=\"-173.0058\" font-family=\"Times,serif\" font-size=\"14.00\" fill=\"#000000\">True</text>\n",
       "</g>\n",
       "<!-- 4 -->\n",
       "<g id=\"node5\" class=\"node\">\n",
       "<title>4</title>\n",
       "<polygon fill=\"none\" stroke=\"#000000\" points=\"368,-157 249,-157 249,-89 368,-89 368,-157\"/>\n",
       "<text text-anchor=\"middle\" x=\"308.5\" y=\"-141.8\" font-family=\"Times,serif\" font-size=\"14.00\" fill=\"#000000\">X[1] &lt;= 29.5</text>\n",
       "<text text-anchor=\"middle\" x=\"308.5\" y=\"-126.8\" font-family=\"Times,serif\" font-size=\"14.00\" fill=\"#000000\">gini = 0.426</text>\n",
       "<text text-anchor=\"middle\" x=\"308.5\" y=\"-111.8\" font-family=\"Times,serif\" font-size=\"14.00\" fill=\"#000000\">samples = 498</text>\n",
       "<text text-anchor=\"middle\" x=\"308.5\" y=\"-96.8\" font-family=\"Times,serif\" font-size=\"14.00\" fill=\"#000000\">value = [153, 345]</text>\n",
       "</g>\n",
       "<!-- 0&#45;&gt;4 -->\n",
       "<g id=\"edge4\" class=\"edge\">\n",
       "<title>0&#45;&gt;4</title>\n",
       "<path fill=\"none\" stroke=\"#000000\" d=\"M262.0932,-192.9465C267.8714,-184.2373 274.1575,-174.7626 280.1834,-165.6801\"/>\n",
       "<polygon fill=\"#000000\" stroke=\"#000000\" points=\"283.244,-167.3978 285.8561,-157.13 277.411,-163.5278 283.244,-167.3978\"/>\n",
       "<text text-anchor=\"middle\" x=\"289.822\" y=\"-173.0328\" font-family=\"Times,serif\" font-size=\"14.00\" fill=\"#000000\">False</text>\n",
       "</g>\n",
       "<!-- 2 -->\n",
       "<g id=\"node3\" class=\"node\">\n",
       "<title>2</title>\n",
       "<polygon fill=\"none\" stroke=\"#000000\" points=\"105,-53 0,-53 0,0 105,0 105,-53\"/>\n",
       "<text text-anchor=\"middle\" x=\"52.5\" y=\"-37.8\" font-family=\"Times,serif\" font-size=\"14.00\" fill=\"#000000\">gini = 0.0</text>\n",
       "<text text-anchor=\"middle\" x=\"52.5\" y=\"-22.8\" font-family=\"Times,serif\" font-size=\"14.00\" fill=\"#000000\">samples = 108</text>\n",
       "<text text-anchor=\"middle\" x=\"52.5\" y=\"-7.8\" font-family=\"Times,serif\" font-size=\"14.00\" fill=\"#000000\">value = [0, 108]</text>\n",
       "</g>\n",
       "<!-- 1&#45;&gt;2 -->\n",
       "<g id=\"edge2\" class=\"edge\">\n",
       "<title>1&#45;&gt;2</title>\n",
       "<path fill=\"none\" stroke=\"#000000\" d=\"M129.5451,-88.9777C117.8014,-79.4545 105.0562,-69.1191 93.376,-59.6473\"/>\n",
       "<polygon fill=\"#000000\" stroke=\"#000000\" points=\"95.4568,-56.8286 85.4852,-53.2485 91.0478,-62.2656 95.4568,-56.8286\"/>\n",
       "</g>\n",
       "<!-- 3 -->\n",
       "<g id=\"node4\" class=\"node\">\n",
       "<title>3</title>\n",
       "<polygon fill=\"none\" stroke=\"#000000\" points=\"228,-53 123,-53 123,0 228,0 228,-53\"/>\n",
       "<text text-anchor=\"middle\" x=\"175.5\" y=\"-37.8\" font-family=\"Times,serif\" font-size=\"14.00\" fill=\"#000000\">gini = 0.0</text>\n",
       "<text text-anchor=\"middle\" x=\"175.5\" y=\"-22.8\" font-family=\"Times,serif\" font-size=\"14.00\" fill=\"#000000\">samples = 394</text>\n",
       "<text text-anchor=\"middle\" x=\"175.5\" y=\"-7.8\" font-family=\"Times,serif\" font-size=\"14.00\" fill=\"#000000\">value = [394, 0]</text>\n",
       "</g>\n",
       "<!-- 1&#45;&gt;3 -->\n",
       "<g id=\"edge3\" class=\"edge\">\n",
       "<title>1&#45;&gt;3</title>\n",
       "<path fill=\"none\" stroke=\"#000000\" d=\"M172.9103,-88.9777C173.2519,-80.7364 173.6187,-71.887 173.9657,-63.5153\"/>\n",
       "<polygon fill=\"#000000\" stroke=\"#000000\" points=\"177.474,-63.3849 174.3913,-53.2485 170.48,-63.0949 177.474,-63.3849\"/>\n",
       "</g>\n",
       "<!-- 5 -->\n",
       "<g id=\"node6\" class=\"node\">\n",
       "<title>5</title>\n",
       "<polygon fill=\"none\" stroke=\"#000000\" points=\"358,-53 253,-53 253,0 358,0 358,-53\"/>\n",
       "<text text-anchor=\"middle\" x=\"305.5\" y=\"-37.8\" font-family=\"Times,serif\" font-size=\"14.00\" fill=\"#000000\">gini = 0.0</text>\n",
       "<text text-anchor=\"middle\" x=\"305.5\" y=\"-22.8\" font-family=\"Times,serif\" font-size=\"14.00\" fill=\"#000000\">samples = 153</text>\n",
       "<text text-anchor=\"middle\" x=\"305.5\" y=\"-7.8\" font-family=\"Times,serif\" font-size=\"14.00\" fill=\"#000000\">value = [153, 0]</text>\n",
       "</g>\n",
       "<!-- 4&#45;&gt;5 -->\n",
       "<g id=\"edge5\" class=\"edge\">\n",
       "<title>4&#45;&gt;5</title>\n",
       "<path fill=\"none\" stroke=\"#000000\" d=\"M307.4423,-88.9777C307.1861,-80.7364 306.911,-71.887 306.6507,-63.5153\"/>\n",
       "<polygon fill=\"#000000\" stroke=\"#000000\" points=\"310.1407,-63.1349 306.3316,-53.2485 303.1441,-63.3524 310.1407,-63.1349\"/>\n",
       "</g>\n",
       "<!-- 6 -->\n",
       "<g id=\"node7\" class=\"node\">\n",
       "<title>6</title>\n",
       "<polygon fill=\"none\" stroke=\"#000000\" points=\"481,-53 376,-53 376,0 481,0 481,-53\"/>\n",
       "<text text-anchor=\"middle\" x=\"428.5\" y=\"-37.8\" font-family=\"Times,serif\" font-size=\"14.00\" fill=\"#000000\">gini = 0.0</text>\n",
       "<text text-anchor=\"middle\" x=\"428.5\" y=\"-22.8\" font-family=\"Times,serif\" font-size=\"14.00\" fill=\"#000000\">samples = 345</text>\n",
       "<text text-anchor=\"middle\" x=\"428.5\" y=\"-7.8\" font-family=\"Times,serif\" font-size=\"14.00\" fill=\"#000000\">value = [0, 345]</text>\n",
       "</g>\n",
       "<!-- 4&#45;&gt;6 -->\n",
       "<g id=\"edge6\" class=\"edge\">\n",
       "<title>4&#45;&gt;6</title>\n",
       "<path fill=\"none\" stroke=\"#000000\" d=\"M350.8075,-88.9777C362.6499,-79.4545 375.5021,-69.1191 387.2805,-59.6473\"/>\n",
       "<polygon fill=\"#000000\" stroke=\"#000000\" points=\"389.6382,-62.2427 395.2376,-53.2485 385.2514,-56.7877 389.6382,-62.2427\"/>\n",
       "</g>\n",
       "</g>\n",
       "</svg>\n"
      ],
      "text/plain": [
       "<graphviz.files.Source at 0x7efecff0ed60>"
      ]
     },
     "execution_count": 28,
     "metadata": {},
     "output_type": "execute_result"
    }
   ],
   "source": [
    "dot_data = tree.export_graphviz(model_sk, out_file=None)\n",
    "graph = graphviz.Source(dot_data)\n",
    "graph"
   ]
  },
  {
   "cell_type": "markdown",
   "metadata": {},
   "source": [
    "### Four lines"
   ]
  },
  {
   "cell_type": "markdown",
   "metadata": {},
   "source": [
    "This is an interesting example, since a greedy approach is not the optimal way to split the space."
   ]
  },
  {
   "cell_type": "code",
   "execution_count": 29,
   "metadata": {},
   "outputs": [],
   "source": [
    "random.seed(0)\n",
    "\n",
    "X = list()\n",
    "y = list()\n",
    "\n",
    "for i in range(1000):\n",
    "    \n",
    "    p = list([random.randint(0, 100), random.randint(0, 100)])    \n",
    "    X.append(p)\n",
    "    \n",
    "    if p[0] <= 50:\n",
    "        if p[1] <= 70:\n",
    "            if p[1] <= 30:\n",
    "                y.append(0)\n",
    "            else:\n",
    "                y.append(1)\n",
    "        else:\n",
    "            y.append(0)\n",
    "    else:\n",
    "        if p[1] <= 80:\n",
    "            if p[1] <= 20:\n",
    "                y.append(1)\n",
    "            else:\n",
    "                y.append(0)\n",
    "        else:\n",
    "            y.append(1)"
   ]
  },
  {
   "cell_type": "code",
   "execution_count": 30,
   "metadata": {},
   "outputs": [
    {
     "data": {
      "image/png": "[encoded data removed]",
      "text/plain": [
       "<Figure size 432x288 with 1 Axes>"
      ]
     },
     "metadata": {
      "needs_background": "light"
     },
     "output_type": "display_data"
    }
   ],
   "source": [
    "for i in range(len(X)):\n",
    "    px = X[i][0]\n",
    "    py = X[i][1]\n",
    "    if y[i] == 1:\n",
    "        plt.scatter(px, py, color=['red'])\n",
    "    else:\n",
    "        plt.scatter(px, py, color=['blue'])"
   ]
  },
  {
   "cell_type": "code",
   "execution_count": 31,
   "metadata": {},
   "outputs": [
    {
     "name": "stdout",
     "output_type": "stream",
     "text": [
      "Miscoding:  0.055326801983295315 Inaccuracy:  0.991118871016163 Surfeit:  0.23750000000000004 Nescience:  1.0206781674465524\n",
      "Miscoding:  0.0 Inaccuracy:  0.8308727519710223 Surfeit:  0.44966442953020136 Nescience:  0.9447473890689624\n",
      "Miscoding:  0.0 Inaccuracy:  0.8308727519710223 Surfeit:  0.570754716981132 Nescience:  1.0080230537661885\n",
      "Miscoding:  0.0 Inaccuracy:  0.8128696089988751 Surfeit:  0.6411149825783973 Nescience:  1.035270699923688\n",
      "Miscoding:  0.0 Inaccuracy:  0.47557161962482664 Surfeit:  0.6925133689839572 Nescience:  0.8400851930691858\n",
      "Miscoding:  0.0 Inaccuracy:  0.2095501571134134 Surfeit:  0.7310195227765727 Nescience:  0.7604609201180191\n",
      "Miscoding:  0.0 Inaccuracy:  0.1410713248329442 Surfeit:  0.7607142857142857 Nescience:  0.7736842658216063\n",
      "Miscoding:  0.0 Inaccuracy:  0.1410713248329442 Surfeit:  0.7779527559055118 Nescience:  0.7906399996908219\n",
      "Miscoding:  0.0 Inaccuracy:  0.11541132419663754 Surfeit:  0.7880886426592798 Nescience:  0.7964944961776995\n",
      "Miscoding:  0.0 Inaccuracy:  0.10846954516503236 Surfeit:  0.8063337393422656 Nescience:  0.8135967929078811\n",
      "Miscoding:  0.0 Inaccuracy:  0.0 Surfeit:  0.8186695278969958 Nescience:  0.8186695278969958\n",
      "Miscoding:  0.0 Inaccuracy:  0.0 Surfeit:  0.8186695278969958 Nescience:  0.8186695278969958\n",
      "Final nescience: 0.7310195227765727\n",
      "def tree{'X1', 'X2'}:\n",
      "    if X2 < 19.500:\n",
      "        if X1 < 51.000:\n",
      "            return 0\n",
      "        else:\n",
      "            return 1\n",
      "    else:\n",
      "        if X2 < 30.500:\n",
      "            return 0\n",
      "        else:\n",
      "            if X1 < 44.500:\n",
      "                if X2 < 70.500:\n",
      "                    return 1\n",
      "                else:\n",
      "                    return 0\n",
      "            else:\n",
      "                if X2 < 80.500:\n",
      "                    return 0\n",
      "                else:\n",
      "                    return 1\n",
      "\n"
     ]
    }
   ],
   "source": [
    "model = NescienceDecisionTreeClassifier(verbose=True)\n",
    "model.fit(X, y)"
   ]
  },
  {
   "cell_type": "code",
   "execution_count": 32,
   "metadata": {},
   "outputs": [
    {
     "data": {
      "text/plain": [
       "0.968"
      ]
     },
     "execution_count": 32,
     "metadata": {},
     "output_type": "execute_result"
    }
   ],
   "source": [
    "model.score(X, y)"
   ]
  },
  {
   "cell_type": "markdown",
   "metadata": {},
   "source": [
    "It has one level more that the ideal tree."
   ]
  },
  {
   "cell_type": "markdown",
   "metadata": {},
   "source": [
    "Compare with scikit-learn"
   ]
  },
  {
   "cell_type": "code",
   "execution_count": 33,
   "metadata": {},
   "outputs": [
    {
     "data": {
      "text/plain": [
       "1.0"
      ]
     },
     "execution_count": 33,
     "metadata": {},
     "output_type": "execute_result"
    }
   ],
   "source": [
    "model_sk = DecisionTreeClassifier()\n",
    "model_sk.fit(X, y)\n",
    "model_sk.score(X, y)"
   ]
  },
  {
   "cell_type": "code",
   "execution_count": 34,
   "metadata": {},
   "outputs": [
    {
     "data": {
      "image/svg+xml": [
       "<?xml version=\"1.0\" encoding=\"UTF-8\" standalone=\"no\"?>\n",
       "<!DOCTYPE svg PUBLIC \"-//W3C//DTD SVG 1.1//EN\"\n",
       " \"http://www.w3.org/Graphics/SVG/1.1/DTD/svg11.dtd\">\n",
       "<!-- Generated by graphviz version 2.40.1 (20161225.0304)\n",
       " -->\n",
       "<!-- Title: Tree Pages: 1 -->\n",
       "<svg width=\"868pt\" height=\"685pt\"\n",
       " viewBox=\"0.00 0.00 867.50 685.00\" xmlns=\"http://www.w3.org/2000/svg\" xmlns:xlink=\"http://www.w3.org/1999/xlink\">\n",
       "<g id=\"graph0\" class=\"graph\" transform=\"scale(1 1) rotate(0) translate(4 681)\">\n",
       "<title>Tree</title>\n",
       "<polygon fill=\"#ffffff\" stroke=\"transparent\" points=\"-4,4 -4,-681 863.5,-681 863.5,4 -4,4\"/>\n",
       "<!-- 0 -->\n",
       "<g id=\"node1\" class=\"node\">\n",
       "<title>0</title>\n",
       "<polygon fill=\"none\" stroke=\"#000000\" points=\"299,-677 180,-677 180,-609 299,-609 299,-677\"/>\n",
       "<text text-anchor=\"middle\" x=\"239.5\" y=\"-661.8\" font-family=\"Times,serif\" font-size=\"14.00\" fill=\"#000000\">X[1] &lt;= 19.5</text>\n",
       "<text text-anchor=\"middle\" x=\"239.5\" y=\"-646.8\" font-family=\"Times,serif\" font-size=\"14.00\" fill=\"#000000\">gini = 0.481</text>\n",
       "<text text-anchor=\"middle\" x=\"239.5\" y=\"-631.8\" font-family=\"Times,serif\" font-size=\"14.00\" fill=\"#000000\">samples = 1000</text>\n",
       "<text text-anchor=\"middle\" x=\"239.5\" y=\"-616.8\" font-family=\"Times,serif\" font-size=\"14.00\" fill=\"#000000\">value = [598, 402]</text>\n",
       "</g>\n",
       "<!-- 1 -->\n",
       "<g id=\"node2\" class=\"node\">\n",
       "<title>1</title>\n",
       "<polygon fill=\"none\" stroke=\"#000000\" points=\"231,-573 112,-573 112,-505 231,-505 231,-573\"/>\n",
       "<text text-anchor=\"middle\" x=\"171.5\" y=\"-557.8\" font-family=\"Times,serif\" font-size=\"14.00\" fill=\"#000000\">X[0] &lt;= 51.0</text>\n",
       "<text text-anchor=\"middle\" x=\"171.5\" y=\"-542.8\" font-family=\"Times,serif\" font-size=\"14.00\" fill=\"#000000\">gini = 0.5</text>\n",
       "<text text-anchor=\"middle\" x=\"171.5\" y=\"-527.8\" font-family=\"Times,serif\" font-size=\"14.00\" fill=\"#000000\">samples = 225</text>\n",
       "<text text-anchor=\"middle\" x=\"171.5\" y=\"-512.8\" font-family=\"Times,serif\" font-size=\"14.00\" fill=\"#000000\">value = [112, 113]</text>\n",
       "</g>\n",
       "<!-- 0&#45;&gt;1 -->\n",
       "<g id=\"edge1\" class=\"edge\">\n",
       "<title>0&#45;&gt;1</title>\n",
       "<path fill=\"none\" stroke=\"#000000\" d=\"M217.2343,-608.9465C211.5398,-600.2373 205.3448,-590.7626 199.4062,-581.6801\"/>\n",
       "<polygon fill=\"#000000\" stroke=\"#000000\" points=\"202.2177,-579.5843 193.8158,-573.13 196.3589,-583.4151 202.2177,-579.5843\"/>\n",
       "<text text-anchor=\"middle\" x=\"189.7185\" y=\"-589.0058\" font-family=\"Times,serif\" font-size=\"14.00\" fill=\"#000000\">True</text>\n",
       "</g>\n",
       "<!-- 4 -->\n",
       "<g id=\"node5\" class=\"node\">\n",
       "<title>4</title>\n",
       "<polygon fill=\"none\" stroke=\"#000000\" points=\"368,-573 249,-573 249,-505 368,-505 368,-573\"/>\n",
       "<text text-anchor=\"middle\" x=\"308.5\" y=\"-557.8\" font-family=\"Times,serif\" font-size=\"14.00\" fill=\"#000000\">X[1] &lt;= 30.5</text>\n",
       "<text text-anchor=\"middle\" x=\"308.5\" y=\"-542.8\" font-family=\"Times,serif\" font-size=\"14.00\" fill=\"#000000\">gini = 0.468</text>\n",
       "<text text-anchor=\"middle\" x=\"308.5\" y=\"-527.8\" font-family=\"Times,serif\" font-size=\"14.00\" fill=\"#000000\">samples = 775</text>\n",
       "<text text-anchor=\"middle\" x=\"308.5\" y=\"-512.8\" font-family=\"Times,serif\" font-size=\"14.00\" fill=\"#000000\">value = [486, 289]</text>\n",
       "</g>\n",
       "<!-- 0&#45;&gt;4 -->\n",
       "<g id=\"edge4\" class=\"edge\">\n",
       "<title>0&#45;&gt;4</title>\n",
       "<path fill=\"none\" stroke=\"#000000\" d=\"M262.0932,-608.9465C267.8714,-600.2373 274.1575,-590.7626 280.1834,-581.6801\"/>\n",
       "<polygon fill=\"#000000\" stroke=\"#000000\" points=\"283.244,-583.3978 285.8561,-573.13 277.411,-579.5278 283.244,-583.3978\"/>\n",
       "<text text-anchor=\"middle\" x=\"289.822\" y=\"-589.0328\" font-family=\"Times,serif\" font-size=\"14.00\" fill=\"#000000\">False</text>\n",
       "</g>\n",
       "<!-- 2 -->\n",
       "<g id=\"node3\" class=\"node\">\n",
       "<title>2</title>\n",
       "<polygon fill=\"none\" stroke=\"#000000\" points=\"105,-461.5 0,-461.5 0,-408.5 105,-408.5 105,-461.5\"/>\n",
       "<text text-anchor=\"middle\" x=\"52.5\" y=\"-446.3\" font-family=\"Times,serif\" font-size=\"14.00\" fill=\"#000000\">gini = 0.0</text>\n",
       "<text text-anchor=\"middle\" x=\"52.5\" y=\"-431.3\" font-family=\"Times,serif\" font-size=\"14.00\" fill=\"#000000\">samples = 112</text>\n",
       "<text text-anchor=\"middle\" x=\"52.5\" y=\"-416.3\" font-family=\"Times,serif\" font-size=\"14.00\" fill=\"#000000\">value = [112, 0]</text>\n",
       "</g>\n",
       "<!-- 1&#45;&gt;2 -->\n",
       "<g id=\"edge2\" class=\"edge\">\n",
       "<title>1&#45;&gt;2</title>\n",
       "<path fill=\"none\" stroke=\"#000000\" d=\"M132.5349,-504.9465C119.0491,-493.1606 103.9591,-479.9726 90.5479,-468.2519\"/>\n",
       "<polygon fill=\"#000000\" stroke=\"#000000\" points=\"92.7033,-465.4874 82.8704,-461.5422 88.0969,-470.7582 92.7033,-465.4874\"/>\n",
       "</g>\n",
       "<!-- 3 -->\n",
       "<g id=\"node4\" class=\"node\">\n",
       "<title>3</title>\n",
       "<polygon fill=\"none\" stroke=\"#000000\" points=\"228,-461.5 123,-461.5 123,-408.5 228,-408.5 228,-461.5\"/>\n",
       "<text text-anchor=\"middle\" x=\"175.5\" y=\"-446.3\" font-family=\"Times,serif\" font-size=\"14.00\" fill=\"#000000\">gini = 0.0</text>\n",
       "<text text-anchor=\"middle\" x=\"175.5\" y=\"-431.3\" font-family=\"Times,serif\" font-size=\"14.00\" fill=\"#000000\">samples = 113</text>\n",
       "<text text-anchor=\"middle\" x=\"175.5\" y=\"-416.3\" font-family=\"Times,serif\" font-size=\"14.00\" fill=\"#000000\">value = [0, 113]</text>\n",
       "</g>\n",
       "<!-- 1&#45;&gt;3 -->\n",
       "<g id=\"edge3\" class=\"edge\">\n",
       "<title>1&#45;&gt;3</title>\n",
       "<path fill=\"none\" stroke=\"#000000\" d=\"M172.8097,-504.9465C173.2207,-494.2621 173.6759,-482.4254 174.0933,-471.5742\"/>\n",
       "<polygon fill=\"#000000\" stroke=\"#000000\" points=\"177.5921,-471.6693 174.4791,-461.5422 170.5973,-471.4002 177.5921,-471.6693\"/>\n",
       "</g>\n",
       "<!-- 5 -->\n",
       "<g id=\"node6\" class=\"node\">\n",
       "<title>5</title>\n",
       "<polygon fill=\"none\" stroke=\"#000000\" points=\"358,-469 253,-469 253,-401 358,-401 358,-469\"/>\n",
       "<text text-anchor=\"middle\" x=\"305.5\" y=\"-453.8\" font-family=\"Times,serif\" font-size=\"14.00\" fill=\"#000000\">X[1] &lt;= 20.5</text>\n",
       "<text text-anchor=\"middle\" x=\"305.5\" y=\"-438.8\" font-family=\"Times,serif\" font-size=\"14.00\" fill=\"#000000\">gini = 0.091</text>\n",
       "<text text-anchor=\"middle\" x=\"305.5\" y=\"-423.8\" font-family=\"Times,serif\" font-size=\"14.00\" fill=\"#000000\">samples = 105</text>\n",
       "<text text-anchor=\"middle\" x=\"305.5\" y=\"-408.8\" font-family=\"Times,serif\" font-size=\"14.00\" fill=\"#000000\">value = [100, 5]</text>\n",
       "</g>\n",
       "<!-- 4&#45;&gt;5 -->\n",
       "<g id=\"edge5\" class=\"edge\">\n",
       "<title>4&#45;&gt;5</title>\n",
       "<path fill=\"none\" stroke=\"#000000\" d=\"M307.5177,-504.9465C307.282,-496.776 307.0269,-487.9318 306.7799,-479.3697\"/>\n",
       "<polygon fill=\"#000000\" stroke=\"#000000\" points=\"310.2715,-479.0249 306.4845,-469.13 303.2744,-479.2268 310.2715,-479.0249\"/>\n",
       "</g>\n",
       "<!-- 10 -->\n",
       "<g id=\"node11\" class=\"node\">\n",
       "<title>10</title>\n",
       "<polygon fill=\"none\" stroke=\"#000000\" points=\"495,-469 376,-469 376,-401 495,-401 495,-469\"/>\n",
       "<text text-anchor=\"middle\" x=\"435.5\" y=\"-453.8\" font-family=\"Times,serif\" font-size=\"14.00\" fill=\"#000000\">X[0] &lt;= 44.5</text>\n",
       "<text text-anchor=\"middle\" x=\"435.5\" y=\"-438.8\" font-family=\"Times,serif\" font-size=\"14.00\" fill=\"#000000\">gini = 0.488</text>\n",
       "<text text-anchor=\"middle\" x=\"435.5\" y=\"-423.8\" font-family=\"Times,serif\" font-size=\"14.00\" fill=\"#000000\">samples = 670</text>\n",
       "<text text-anchor=\"middle\" x=\"435.5\" y=\"-408.8\" font-family=\"Times,serif\" font-size=\"14.00\" fill=\"#000000\">value = [386, 284]</text>\n",
       "</g>\n",
       "<!-- 4&#45;&gt;10 -->\n",
       "<g id=\"edge10\" class=\"edge\">\n",
       "<title>4&#45;&gt;10</title>\n",
       "<path fill=\"none\" stroke=\"#000000\" d=\"M350.0845,-504.9465C361.4873,-495.6088 373.9647,-485.3911 385.7743,-475.7203\"/>\n",
       "<polygon fill=\"#000000\" stroke=\"#000000\" points=\"388.3026,-478.1736 393.822,-469.13 383.8676,-472.7578 388.3026,-478.1736\"/>\n",
       "</g>\n",
       "<!-- 6 -->\n",
       "<g id=\"node7\" class=\"node\">\n",
       "<title>6</title>\n",
       "<polygon fill=\"none\" stroke=\"#000000\" points=\"239.5,-365 141.5,-365 141.5,-297 239.5,-297 239.5,-365\"/>\n",
       "<text text-anchor=\"middle\" x=\"190.5\" y=\"-349.8\" font-family=\"Times,serif\" font-size=\"14.00\" fill=\"#000000\">X[0] &lt;= 63.0</text>\n",
       "<text text-anchor=\"middle\" x=\"190.5\" y=\"-334.8\" font-family=\"Times,serif\" font-size=\"14.00\" fill=\"#000000\">gini = 0.444</text>\n",
       "<text text-anchor=\"middle\" x=\"190.5\" y=\"-319.8\" font-family=\"Times,serif\" font-size=\"14.00\" fill=\"#000000\">samples = 15</text>\n",
       "<text text-anchor=\"middle\" x=\"190.5\" y=\"-304.8\" font-family=\"Times,serif\" font-size=\"14.00\" fill=\"#000000\">value = [10, 5]</text>\n",
       "</g>\n",
       "<!-- 5&#45;&gt;6 -->\n",
       "<g id=\"edge6\" class=\"edge\">\n",
       "<title>5&#45;&gt;6</title>\n",
       "<path fill=\"none\" stroke=\"#000000\" d=\"M267.8447,-400.9465C257.6187,-391.6986 246.4382,-381.5876 235.8359,-371.9994\"/>\n",
       "<polygon fill=\"#000000\" stroke=\"#000000\" points=\"238.0044,-369.2416 228.2399,-365.13 233.3092,-374.4334 238.0044,-369.2416\"/>\n",
       "</g>\n",
       "<!-- 9 -->\n",
       "<g id=\"node10\" class=\"node\">\n",
       "<title>9</title>\n",
       "<polygon fill=\"none\" stroke=\"#000000\" points=\"355.5,-357.5 257.5,-357.5 257.5,-304.5 355.5,-304.5 355.5,-357.5\"/>\n",
       "<text text-anchor=\"middle\" x=\"306.5\" y=\"-342.3\" font-family=\"Times,serif\" font-size=\"14.00\" fill=\"#000000\">gini = 0.0</text>\n",
       "<text text-anchor=\"middle\" x=\"306.5\" y=\"-327.3\" font-family=\"Times,serif\" font-size=\"14.00\" fill=\"#000000\">samples = 90</text>\n",
       "<text text-anchor=\"middle\" x=\"306.5\" y=\"-312.3\" font-family=\"Times,serif\" font-size=\"14.00\" fill=\"#000000\">value = [90, 0]</text>\n",
       "</g>\n",
       "<!-- 5&#45;&gt;9 -->\n",
       "<g id=\"edge9\" class=\"edge\">\n",
       "<title>5&#45;&gt;9</title>\n",
       "<path fill=\"none\" stroke=\"#000000\" d=\"M305.8274,-400.9465C305.9302,-390.2621 306.044,-378.4254 306.1483,-367.5742\"/>\n",
       "<polygon fill=\"#000000\" stroke=\"#000000\" points=\"309.6484,-367.5754 306.2448,-357.5422 302.6487,-367.508 309.6484,-367.5754\"/>\n",
       "</g>\n",
       "<!-- 7 -->\n",
       "<g id=\"node8\" class=\"node\">\n",
       "<title>7</title>\n",
       "<polygon fill=\"none\" stroke=\"#000000\" points=\"129.5,-253.5 31.5,-253.5 31.5,-200.5 129.5,-200.5 129.5,-253.5\"/>\n",
       "<text text-anchor=\"middle\" x=\"80.5\" y=\"-238.3\" font-family=\"Times,serif\" font-size=\"14.00\" fill=\"#000000\">gini = 0.0</text>\n",
       "<text text-anchor=\"middle\" x=\"80.5\" y=\"-223.3\" font-family=\"Times,serif\" font-size=\"14.00\" fill=\"#000000\">samples = 10</text>\n",
       "<text text-anchor=\"middle\" x=\"80.5\" y=\"-208.3\" font-family=\"Times,serif\" font-size=\"14.00\" fill=\"#000000\">value = [10, 0]</text>\n",
       "</g>\n",
       "<!-- 6&#45;&gt;7 -->\n",
       "<g id=\"edge7\" class=\"edge\">\n",
       "<title>6&#45;&gt;7</title>\n",
       "<path fill=\"none\" stroke=\"#000000\" d=\"M154.4819,-296.9465C142.1325,-285.2707 128.3278,-272.219 116.0183,-260.5809\"/>\n",
       "<polygon fill=\"#000000\" stroke=\"#000000\" points=\"118.2445,-257.869 108.5734,-253.5422 113.4354,-262.9556 118.2445,-257.869\"/>\n",
       "</g>\n",
       "<!-- 8 -->\n",
       "<g id=\"node9\" class=\"node\">\n",
       "<title>8</title>\n",
       "<polygon fill=\"none\" stroke=\"#000000\" points=\"239.5,-253.5 147.5,-253.5 147.5,-200.5 239.5,-200.5 239.5,-253.5\"/>\n",
       "<text text-anchor=\"middle\" x=\"193.5\" y=\"-238.3\" font-family=\"Times,serif\" font-size=\"14.00\" fill=\"#000000\">gini = 0.0</text>\n",
       "<text text-anchor=\"middle\" x=\"193.5\" y=\"-223.3\" font-family=\"Times,serif\" font-size=\"14.00\" fill=\"#000000\">samples = 5</text>\n",
       "<text text-anchor=\"middle\" x=\"193.5\" y=\"-208.3\" font-family=\"Times,serif\" font-size=\"14.00\" fill=\"#000000\">value = [0, 5]</text>\n",
       "</g>\n",
       "<!-- 6&#45;&gt;8 -->\n",
       "<g id=\"edge8\" class=\"edge\">\n",
       "<title>6&#45;&gt;8</title>\n",
       "<path fill=\"none\" stroke=\"#000000\" d=\"M191.4823,-296.9465C191.7905,-286.2621 192.132,-274.4254 192.445,-263.5742\"/>\n",
       "<polygon fill=\"#000000\" stroke=\"#000000\" points=\"195.9445,-263.639 192.7344,-253.5422 188.9474,-263.4371 195.9445,-263.639\"/>\n",
       "</g>\n",
       "<!-- 11 -->\n",
       "<g id=\"node12\" class=\"node\">\n",
       "<title>11</title>\n",
       "<polygon fill=\"none\" stroke=\"#000000\" points=\"494,-365 375,-365 375,-297 494,-297 494,-365\"/>\n",
       "<text text-anchor=\"middle\" x=\"434.5\" y=\"-349.8\" font-family=\"Times,serif\" font-size=\"14.00\" fill=\"#000000\">X[1] &lt;= 70.5</text>\n",
       "<text text-anchor=\"middle\" x=\"434.5\" y=\"-334.8\" font-family=\"Times,serif\" font-size=\"14.00\" fill=\"#000000\">gini = 0.488</text>\n",
       "<text text-anchor=\"middle\" x=\"434.5\" y=\"-319.8\" font-family=\"Times,serif\" font-size=\"14.00\" fill=\"#000000\">samples = 296</text>\n",
       "<text text-anchor=\"middle\" x=\"434.5\" y=\"-304.8\" font-family=\"Times,serif\" font-size=\"14.00\" fill=\"#000000\">value = [125, 171]</text>\n",
       "</g>\n",
       "<!-- 10&#45;&gt;11 -->\n",
       "<g id=\"edge11\" class=\"edge\">\n",
       "<title>10&#45;&gt;11</title>\n",
       "<path fill=\"none\" stroke=\"#000000\" d=\"M435.1726,-400.9465C435.094,-392.776 435.009,-383.9318 434.9266,-375.3697\"/>\n",
       "<polygon fill=\"#000000\" stroke=\"#000000\" points=\"438.4243,-375.0958 434.8282,-365.13 431.4246,-375.1632 438.4243,-375.0958\"/>\n",
       "</g>\n",
       "<!-- 14 -->\n",
       "<g id=\"node15\" class=\"node\">\n",
       "<title>14</title>\n",
       "<polygon fill=\"none\" stroke=\"#000000\" points=\"631,-365 512,-365 512,-297 631,-297 631,-365\"/>\n",
       "<text text-anchor=\"middle\" x=\"571.5\" y=\"-349.8\" font-family=\"Times,serif\" font-size=\"14.00\" fill=\"#000000\">X[1] &lt;= 80.5</text>\n",
       "<text text-anchor=\"middle\" x=\"571.5\" y=\"-334.8\" font-family=\"Times,serif\" font-size=\"14.00\" fill=\"#000000\">gini = 0.422</text>\n",
       "<text text-anchor=\"middle\" x=\"571.5\" y=\"-319.8\" font-family=\"Times,serif\" font-size=\"14.00\" fill=\"#000000\">samples = 374</text>\n",
       "<text text-anchor=\"middle\" x=\"571.5\" y=\"-304.8\" font-family=\"Times,serif\" font-size=\"14.00\" fill=\"#000000\">value = [261, 113]</text>\n",
       "</g>\n",
       "<!-- 10&#45;&gt;14 -->\n",
       "<g id=\"edge14\" class=\"edge\">\n",
       "<title>10&#45;&gt;14</title>\n",
       "<path fill=\"none\" stroke=\"#000000\" d=\"M480.0315,-400.9465C492.3597,-391.519 505.8609,-381.1946 518.615,-371.4415\"/>\n",
       "<polygon fill=\"#000000\" stroke=\"#000000\" points=\"521.051,-373.9848 526.8685,-365.13 516.7988,-368.4243 521.051,-373.9848\"/>\n",
       "</g>\n",
       "<!-- 12 -->\n",
       "<g id=\"node13\" class=\"node\">\n",
       "<title>12</title>\n",
       "<polygon fill=\"none\" stroke=\"#000000\" points=\"369,-253.5 264,-253.5 264,-200.5 369,-200.5 369,-253.5\"/>\n",
       "<text text-anchor=\"middle\" x=\"316.5\" y=\"-238.3\" font-family=\"Times,serif\" font-size=\"14.00\" fill=\"#000000\">gini = 0.0</text>\n",
       "<text text-anchor=\"middle\" x=\"316.5\" y=\"-223.3\" font-family=\"Times,serif\" font-size=\"14.00\" fill=\"#000000\">samples = 171</text>\n",
       "<text text-anchor=\"middle\" x=\"316.5\" y=\"-208.3\" font-family=\"Times,serif\" font-size=\"14.00\" fill=\"#000000\">value = [0, 171]</text>\n",
       "</g>\n",
       "<!-- 11&#45;&gt;12 -->\n",
       "<g id=\"edge12\" class=\"edge\">\n",
       "<title>11&#45;&gt;12</title>\n",
       "<path fill=\"none\" stroke=\"#000000\" d=\"M395.8624,-296.9465C382.4899,-285.1606 367.5266,-271.9726 354.2281,-260.2519\"/>\n",
       "<polygon fill=\"#000000\" stroke=\"#000000\" points=\"356.4315,-257.5285 346.6151,-253.5422 351.803,-262.7799 356.4315,-257.5285\"/>\n",
       "</g>\n",
       "<!-- 13 -->\n",
       "<g id=\"node14\" class=\"node\">\n",
       "<title>13</title>\n",
       "<polygon fill=\"none\" stroke=\"#000000\" points=\"492,-253.5 387,-253.5 387,-200.5 492,-200.5 492,-253.5\"/>\n",
       "<text text-anchor=\"middle\" x=\"439.5\" y=\"-238.3\" font-family=\"Times,serif\" font-size=\"14.00\" fill=\"#000000\">gini = 0.0</text>\n",
       "<text text-anchor=\"middle\" x=\"439.5\" y=\"-223.3\" font-family=\"Times,serif\" font-size=\"14.00\" fill=\"#000000\">samples = 125</text>\n",
       "<text text-anchor=\"middle\" x=\"439.5\" y=\"-208.3\" font-family=\"Times,serif\" font-size=\"14.00\" fill=\"#000000\">value = [125, 0]</text>\n",
       "</g>\n",
       "<!-- 11&#45;&gt;13 -->\n",
       "<g id=\"edge13\" class=\"edge\">\n",
       "<title>11&#45;&gt;13</title>\n",
       "<path fill=\"none\" stroke=\"#000000\" d=\"M436.1372,-296.9465C436.6509,-286.2621 437.2199,-274.4254 437.7416,-263.5742\"/>\n",
       "<polygon fill=\"#000000\" stroke=\"#000000\" points=\"441.2396,-263.6987 438.2239,-253.5422 434.2477,-263.3625 441.2396,-263.6987\"/>\n",
       "</g>\n",
       "<!-- 15 -->\n",
       "<g id=\"node16\" class=\"node\">\n",
       "<title>15</title>\n",
       "<polygon fill=\"none\" stroke=\"#000000\" points=\"625.5,-261 513.5,-261 513.5,-193 625.5,-193 625.5,-261\"/>\n",
       "<text text-anchor=\"middle\" x=\"569.5\" y=\"-245.8\" font-family=\"Times,serif\" font-size=\"14.00\" fill=\"#000000\">X[0] &lt;= 50.5</text>\n",
       "<text text-anchor=\"middle\" x=\"569.5\" y=\"-230.8\" font-family=\"Times,serif\" font-size=\"14.00\" fill=\"#000000\">gini = 0.119</text>\n",
       "<text text-anchor=\"middle\" x=\"569.5\" y=\"-215.8\" font-family=\"Times,serif\" font-size=\"14.00\" fill=\"#000000\">samples = 268</text>\n",
       "<text text-anchor=\"middle\" x=\"569.5\" y=\"-200.8\" font-family=\"Times,serif\" font-size=\"14.00\" fill=\"#000000\">value = [251, 17]</text>\n",
       "</g>\n",
       "<!-- 14&#45;&gt;15 -->\n",
       "<g id=\"edge15\" class=\"edge\">\n",
       "<title>14&#45;&gt;15</title>\n",
       "<path fill=\"none\" stroke=\"#000000\" d=\"M570.8451,-296.9465C570.688,-288.776 570.5179,-279.9318 570.3533,-271.3697\"/>\n",
       "<polygon fill=\"#000000\" stroke=\"#000000\" points=\"573.8481,-271.0608 570.1563,-261.13 566.8494,-271.1955 573.8481,-271.0608\"/>\n",
       "</g>\n",
       "<!-- 20 -->\n",
       "<g id=\"node21\" class=\"node\">\n",
       "<title>20</title>\n",
       "<polygon fill=\"none\" stroke=\"#000000\" points=\"749,-261 644,-261 644,-193 749,-193 749,-261\"/>\n",
       "<text text-anchor=\"middle\" x=\"696.5\" y=\"-245.8\" font-family=\"Times,serif\" font-size=\"14.00\" fill=\"#000000\">X[0] &lt;= 50.5</text>\n",
       "<text text-anchor=\"middle\" x=\"696.5\" y=\"-230.8\" font-family=\"Times,serif\" font-size=\"14.00\" fill=\"#000000\">gini = 0.171</text>\n",
       "<text text-anchor=\"middle\" x=\"696.5\" y=\"-215.8\" font-family=\"Times,serif\" font-size=\"14.00\" fill=\"#000000\">samples = 106</text>\n",
       "<text text-anchor=\"middle\" x=\"696.5\" y=\"-200.8\" font-family=\"Times,serif\" font-size=\"14.00\" fill=\"#000000\">value = [10, 96]</text>\n",
       "</g>\n",
       "<!-- 14&#45;&gt;20 -->\n",
       "<g id=\"edge20\" class=\"edge\">\n",
       "<title>14&#45;&gt;20</title>\n",
       "<path fill=\"none\" stroke=\"#000000\" d=\"M612.4297,-296.9465C623.6528,-287.6088 635.9337,-277.3911 647.5573,-267.7203\"/>\n",
       "<polygon fill=\"#000000\" stroke=\"#000000\" points=\"650.0296,-270.2164 655.4784,-261.13 645.5526,-264.8353 650.0296,-270.2164\"/>\n",
       "</g>\n",
       "<!-- 16 -->\n",
       "<g id=\"node17\" class=\"node\">\n",
       "<title>16</title>\n",
       "<polygon fill=\"none\" stroke=\"#000000\" points=\"501,-157 396,-157 396,-89 501,-89 501,-157\"/>\n",
       "<text text-anchor=\"middle\" x=\"448.5\" y=\"-141.8\" font-family=\"Times,serif\" font-size=\"14.00\" fill=\"#000000\">X[1] &lt;= 69.5</text>\n",
       "<text text-anchor=\"middle\" x=\"448.5\" y=\"-126.8\" font-family=\"Times,serif\" font-size=\"14.00\" fill=\"#000000\">gini = 0.5</text>\n",
       "<text text-anchor=\"middle\" x=\"448.5\" y=\"-111.8\" font-family=\"Times,serif\" font-size=\"14.00\" fill=\"#000000\">samples = 33</text>\n",
       "<text text-anchor=\"middle\" x=\"448.5\" y=\"-96.8\" font-family=\"Times,serif\" font-size=\"14.00\" fill=\"#000000\">value = [16, 17]</text>\n",
       "</g>\n",
       "<!-- 15&#45;&gt;16 -->\n",
       "<g id=\"edge16\" class=\"edge\">\n",
       "<title>15&#45;&gt;16</title>\n",
       "<path fill=\"none\" stroke=\"#000000\" d=\"M529.8801,-192.9465C519.016,-183.6088 507.1282,-173.3911 495.8765,-163.7203\"/>\n",
       "<polygon fill=\"#000000\" stroke=\"#000000\" points=\"498.0741,-160.994 488.2089,-157.13 493.5113,-166.3026 498.0741,-160.994\"/>\n",
       "</g>\n",
       "<!-- 19 -->\n",
       "<g id=\"node20\" class=\"node\">\n",
       "<title>19</title>\n",
       "<polygon fill=\"none\" stroke=\"#000000\" points=\"624,-149.5 519,-149.5 519,-96.5 624,-96.5 624,-149.5\"/>\n",
       "<text text-anchor=\"middle\" x=\"571.5\" y=\"-134.3\" font-family=\"Times,serif\" font-size=\"14.00\" fill=\"#000000\">gini = 0.0</text>\n",
       "<text text-anchor=\"middle\" x=\"571.5\" y=\"-119.3\" font-family=\"Times,serif\" font-size=\"14.00\" fill=\"#000000\">samples = 235</text>\n",
       "<text text-anchor=\"middle\" x=\"571.5\" y=\"-104.3\" font-family=\"Times,serif\" font-size=\"14.00\" fill=\"#000000\">value = [235, 0]</text>\n",
       "</g>\n",
       "<!-- 15&#45;&gt;19 -->\n",
       "<g id=\"edge19\" class=\"edge\">\n",
       "<title>15&#45;&gt;19</title>\n",
       "<path fill=\"none\" stroke=\"#000000\" d=\"M570.1549,-192.9465C570.3603,-182.2621 570.588,-170.4254 570.7966,-159.5742\"/>\n",
       "<polygon fill=\"#000000\" stroke=\"#000000\" points=\"574.2966,-159.6076 570.9896,-149.5422 567.2979,-159.473 574.2966,-159.6076\"/>\n",
       "</g>\n",
       "<!-- 17 -->\n",
       "<g id=\"node18\" class=\"node\">\n",
       "<title>17</title>\n",
       "<polygon fill=\"none\" stroke=\"#000000\" points=\"439.5,-53 341.5,-53 341.5,0 439.5,0 439.5,-53\"/>\n",
       "<text text-anchor=\"middle\" x=\"390.5\" y=\"-37.8\" font-family=\"Times,serif\" font-size=\"14.00\" fill=\"#000000\">gini = 0.0</text>\n",
       "<text text-anchor=\"middle\" x=\"390.5\" y=\"-22.8\" font-family=\"Times,serif\" font-size=\"14.00\" fill=\"#000000\">samples = 17</text>\n",
       "<text text-anchor=\"middle\" x=\"390.5\" y=\"-7.8\" font-family=\"Times,serif\" font-size=\"14.00\" fill=\"#000000\">value = [0, 17]</text>\n",
       "</g>\n",
       "<!-- 16&#45;&gt;17 -->\n",
       "<g id=\"edge17\" class=\"edge\">\n",
       "<title>16&#45;&gt;17</title>\n",
       "<path fill=\"none\" stroke=\"#000000\" d=\"M428.0514,-88.9777C422.7678,-80.187 417.0684,-70.7044 411.7452,-61.8477\"/>\n",
       "<polygon fill=\"#000000\" stroke=\"#000000\" points=\"414.7282,-60.0165 406.5768,-53.2485 408.7285,-63.6225 414.7282,-60.0165\"/>\n",
       "</g>\n",
       "<!-- 18 -->\n",
       "<g id=\"node19\" class=\"node\">\n",
       "<title>18</title>\n",
       "<polygon fill=\"none\" stroke=\"#000000\" points=\"555.5,-53 457.5,-53 457.5,0 555.5,0 555.5,-53\"/>\n",
       "<text text-anchor=\"middle\" x=\"506.5\" y=\"-37.8\" font-family=\"Times,serif\" font-size=\"14.00\" fill=\"#000000\">gini = 0.0</text>\n",
       "<text text-anchor=\"middle\" x=\"506.5\" y=\"-22.8\" font-family=\"Times,serif\" font-size=\"14.00\" fill=\"#000000\">samples = 16</text>\n",
       "<text text-anchor=\"middle\" x=\"506.5\" y=\"-7.8\" font-family=\"Times,serif\" font-size=\"14.00\" fill=\"#000000\">value = [16, 0]</text>\n",
       "</g>\n",
       "<!-- 16&#45;&gt;18 -->\n",
       "<g id=\"edge18\" class=\"edge\">\n",
       "<title>16&#45;&gt;18</title>\n",
       "<path fill=\"none\" stroke=\"#000000\" d=\"M468.9486,-88.9777C474.2322,-80.187 479.9316,-70.7044 485.2548,-61.8477\"/>\n",
       "<polygon fill=\"#000000\" stroke=\"#000000\" points=\"488.2715,-63.6225 490.4232,-53.2485 482.2718,-60.0165 488.2715,-63.6225\"/>\n",
       "</g>\n",
       "<!-- 21 -->\n",
       "<g id=\"node22\" class=\"node\">\n",
       "<title>21</title>\n",
       "<polygon fill=\"none\" stroke=\"#000000\" points=\"743.5,-149.5 645.5,-149.5 645.5,-96.5 743.5,-96.5 743.5,-149.5\"/>\n",
       "<text text-anchor=\"middle\" x=\"694.5\" y=\"-134.3\" font-family=\"Times,serif\" font-size=\"14.00\" fill=\"#000000\">gini = 0.0</text>\n",
       "<text text-anchor=\"middle\" x=\"694.5\" y=\"-119.3\" font-family=\"Times,serif\" font-size=\"14.00\" fill=\"#000000\">samples = 10</text>\n",
       "<text text-anchor=\"middle\" x=\"694.5\" y=\"-104.3\" font-family=\"Times,serif\" font-size=\"14.00\" fill=\"#000000\">value = [10, 0]</text>\n",
       "</g>\n",
       "<!-- 20&#45;&gt;21 -->\n",
       "<g id=\"edge21\" class=\"edge\">\n",
       "<title>20&#45;&gt;21</title>\n",
       "<path fill=\"none\" stroke=\"#000000\" d=\"M695.8451,-192.9465C695.6397,-182.2621 695.412,-170.4254 695.2034,-159.5742\"/>\n",
       "<polygon fill=\"#000000\" stroke=\"#000000\" points=\"698.7021,-159.473 695.0104,-149.5422 691.7034,-159.6076 698.7021,-159.473\"/>\n",
       "</g>\n",
       "<!-- 22 -->\n",
       "<g id=\"node23\" class=\"node\">\n",
       "<title>22</title>\n",
       "<polygon fill=\"none\" stroke=\"#000000\" points=\"859.5,-149.5 761.5,-149.5 761.5,-96.5 859.5,-96.5 859.5,-149.5\"/>\n",
       "<text text-anchor=\"middle\" x=\"810.5\" y=\"-134.3\" font-family=\"Times,serif\" font-size=\"14.00\" fill=\"#000000\">gini = 0.0</text>\n",
       "<text text-anchor=\"middle\" x=\"810.5\" y=\"-119.3\" font-family=\"Times,serif\" font-size=\"14.00\" fill=\"#000000\">samples = 96</text>\n",
       "<text text-anchor=\"middle\" x=\"810.5\" y=\"-104.3\" font-family=\"Times,serif\" font-size=\"14.00\" fill=\"#000000\">value = [0, 96]</text>\n",
       "</g>\n",
       "<!-- 20&#45;&gt;22 -->\n",
       "<g id=\"edge22\" class=\"edge\">\n",
       "<title>20&#45;&gt;22</title>\n",
       "<path fill=\"none\" stroke=\"#000000\" d=\"M733.8279,-192.9465C746.6263,-181.2707 760.933,-168.219 773.6901,-156.5809\"/>\n",
       "<polygon fill=\"#000000\" stroke=\"#000000\" points=\"776.3769,-158.8675 781.4057,-149.5422 771.6591,-153.6961 776.3769,-158.8675\"/>\n",
       "</g>\n",
       "</g>\n",
       "</svg>\n"
      ],
      "text/plain": [
       "<graphviz.files.Source at 0x7efecf9ead30>"
      ]
     },
     "execution_count": 34,
     "metadata": {},
     "output_type": "execute_result"
    }
   ],
   "source": [
    "dot_data = tree.export_graphviz(model_sk, out_file=None)\n",
    "graph = graphviz.Source(dot_data)\n",
    "graph"
   ]
  },
  {
   "cell_type": "markdown",
   "metadata": {},
   "source": [
    "There are a couple of branches that are difficult to explain.\n",
    "\n",
    "Lets force the ideal threelevels"
   ]
  },
  {
   "cell_type": "code",
   "execution_count": 35,
   "metadata": {},
   "outputs": [
    {
     "data": {
      "text/plain": [
       "0.757"
      ]
     },
     "execution_count": 35,
     "metadata": {},
     "output_type": "execute_result"
    }
   ],
   "source": [
    "model_sk = DecisionTreeClassifier(max_depth=3)\n",
    "model_sk.fit(X, y)\n",
    "model_sk.score(X, y)"
   ]
  },
  {
   "cell_type": "markdown",
   "metadata": {},
   "source": [
    "No, it is not a good idea."
   ]
  },
  {
   "cell_type": "markdown",
   "metadata": {},
   "source": [
    "### Non linear dataset"
   ]
  },
  {
   "cell_type": "code",
   "execution_count": 36,
   "metadata": {},
   "outputs": [],
   "source": [
    "random.seed(1)\n",
    "\n",
    "X = list()\n",
    "y = list()\n",
    "\n",
    "for x in range(1000):\n",
    "    \n",
    "    p = list([random.randint(0, 100), random.randint(0, 100)])    \n",
    "    X.append(p)\n",
    "    \n",
    "    if p[0]** 2 + p[1]**2 >= 50**2:\n",
    "        y.append(1)\n",
    "    else:\n",
    "        y.append(0)"
   ]
  },
  {
   "cell_type": "code",
   "execution_count": 37,
   "metadata": {},
   "outputs": [
    {
     "data": {
      "image/png": "[encoded data removed]",
      "text/plain": [
       "<Figure size 432x288 with 1 Axes>"
      ]
     },
     "metadata": {
      "needs_background": "light"
     },
     "output_type": "display_data"
    }
   ],
   "source": [
    "for i in range(len(X)):\n",
    "    px = X[i][0]\n",
    "    py = X[i][1]\n",
    "    if y[i] == 1:\n",
    "        plt.scatter(px, py, color=['red'])\n",
    "    else:\n",
    "        plt.scatter(px, py, color=['blue'])\n",
    "        \n",
    "plt.xlabel(\"X1\")\n",
    "plt.ylabel(\"X2\")\n",
    "plt.show()        "
   ]
  },
  {
   "cell_type": "code",
   "execution_count": 38,
   "metadata": {},
   "outputs": [
    {
     "name": "stdout",
     "output_type": "stream",
     "text": [
      "Miscoding:  0.4649682616252717 Inaccuracy:  1.0 Surfeit:  0.25 Nescience:  1.1307941830053898\n",
      "Miscoding:  0.0 Inaccuracy:  0.2601986523072096 Surfeit:  0.4697986577181208 Nescience:  0.5370420071616709\n",
      "Miscoding:  0.0 Inaccuracy:  0.2601986523072096 Surfeit:  0.5892857142857143 Nescience:  0.6441746593306141\n",
      "Miscoding:  0.0 Inaccuracy:  0.20936438685062386 Surfeit:  0.6655948553054662 Nescience:  0.6977463420831687\n",
      "Miscoding:  0.0 Inaccuracy:  0.20936438685062386 Surfeit:  0.7072538860103628 Nescience:  0.7375916931189619\n",
      "Miscoding:  0.0 Inaccuracy:  0.10462017383468886 Surfeit:  0.7463002114164905 Nescience:  0.7535976289330394\n",
      "Miscoding:  0.0 Inaccuracy:  0.10462017383468886 Surfeit:  0.7604895104895105 Nescience:  0.7676520542132196\n",
      "Miscoding:  0.0 Inaccuracy:  0.09228175623873432 Surfeit:  0.7809239940387481 Nescience:  0.7863575567131887\n",
      "Miscoding:  0.0 Inaccuracy:  0.07469591414152098 Surfeit:  0.7966751918158568 Nescience:  0.8001692576225793\n",
      "Miscoding:  0.0 Inaccuracy:  0.07469591414152098 Surfeit:  0.810126582278481 Nescience:  0.8135628795020394\n",
      "Miscoding:  0.0 Inaccuracy:  0.05190490380274617 Surfeit:  0.8264462809917356 Nescience:  0.8280746188622394\n",
      "Miscoding:  0.0 Inaccuracy:  0.05190490380274617 Surfeit:  0.8341143392689785 Nescience:  0.8357277367737037\n",
      "Miscoding:  0.0 Inaccuracy:  0.028814437528789923 Surfeit:  0.8455008488964346 Nescience:  0.8459917004880675\n",
      "Miscoding:  0.0 Inaccuracy:  0.0 Surfeit:  0.8564778898370831 Nescience:  0.8564778898370831\n",
      "Miscoding:  0.0 Inaccuracy:  0.0 Surfeit:  0.8564778898370831 Nescience:  0.8564778898370831\n",
      "Final nescience: 0.4697986577181208\n",
      "def tree{'X1', 'X2'}:\n",
      "    if X2 < 49.500:\n",
      "        if X1 < 41.500:\n",
      "            return 0\n",
      "        else:\n",
      "            return 1\n",
      "    else:\n",
      "        return 1\n",
      "\n"
     ]
    }
   ],
   "source": [
    "model = NescienceDecisionTreeClassifier(verbose=True)\n",
    "model.fit(X, y)"
   ]
  },
  {
   "cell_type": "code",
   "execution_count": 39,
   "metadata": {},
   "outputs": [
    {
     "data": {
      "text/plain": [
       "0.971"
      ]
     },
     "execution_count": 39,
     "metadata": {},
     "output_type": "execute_result"
    }
   ],
   "source": [
    "model.score(X, y)"
   ]
  },
  {
   "cell_type": "markdown",
   "metadata": {},
   "source": [
    "According to the minimum nescience principle, this is a good approximation of a non linear dataset with a linear model. A more complex model would be an overfitting."
   ]
  },
  {
   "cell_type": "markdown",
   "metadata": {},
   "source": [
    "Compare with scikit-learn"
   ]
  },
  {
   "cell_type": "code",
   "execution_count": 40,
   "metadata": {},
   "outputs": [
    {
     "data": {
      "text/plain": [
       "1.0"
      ]
     },
     "execution_count": 40,
     "metadata": {},
     "output_type": "execute_result"
    }
   ],
   "source": [
    "model_sk = DecisionTreeClassifier()\n",
    "model_sk.fit(X, y)\n",
    "model_sk.score(X, y)"
   ]
  },
  {
   "cell_type": "code",
   "execution_count": 41,
   "metadata": {},
   "outputs": [
    {
     "data": {
      "image/svg+xml": [
       "<?xml version=\"1.0\" encoding=\"UTF-8\" standalone=\"no\"?>\n",
       "<!DOCTYPE svg PUBLIC \"-//W3C//DTD SVG 1.1//EN\"\n",
       " \"http://www.w3.org/Graphics/SVG/1.1/DTD/svg11.dtd\">\n",
       "<!-- Generated by graphviz version 2.40.1 (20161225.0304)\n",
       " -->\n",
       "<!-- Title: Tree Pages: 1 -->\n",
       "<svg width=\"1128pt\" height=\"685pt\"\n",
       " viewBox=\"0.00 0.00 1127.50 685.00\" xmlns=\"http://www.w3.org/2000/svg\" xmlns:xlink=\"http://www.w3.org/1999/xlink\">\n",
       "<g id=\"graph0\" class=\"graph\" transform=\"scale(1 1) rotate(0) translate(4 681)\">\n",
       "<title>Tree</title>\n",
       "<polygon fill=\"#ffffff\" stroke=\"transparent\" points=\"-4,4 -4,-681 1123.5,-681 1123.5,4 -4,4\"/>\n",
       "<!-- 0 -->\n",
       "<g id=\"node1\" class=\"node\">\n",
       "<title>0</title>\n",
       "<polygon fill=\"none\" stroke=\"#000000\" points=\"817,-677 698,-677 698,-609 817,-609 817,-677\"/>\n",
       "<text text-anchor=\"middle\" x=\"757.5\" y=\"-661.8\" font-family=\"Times,serif\" font-size=\"14.00\" fill=\"#000000\">X[1] &lt;= 39.5</text>\n",
       "<text text-anchor=\"middle\" x=\"757.5\" y=\"-646.8\" font-family=\"Times,serif\" font-size=\"14.00\" fill=\"#000000\">gini = 0.305</text>\n",
       "<text text-anchor=\"middle\" x=\"757.5\" y=\"-631.8\" font-family=\"Times,serif\" font-size=\"14.00\" fill=\"#000000\">samples = 1000</text>\n",
       "<text text-anchor=\"middle\" x=\"757.5\" y=\"-616.8\" font-family=\"Times,serif\" font-size=\"14.00\" fill=\"#000000\">value = [188, 812]</text>\n",
       "</g>\n",
       "<!-- 1 -->\n",
       "<g id=\"node2\" class=\"node\">\n",
       "<title>1</title>\n",
       "<polygon fill=\"none\" stroke=\"#000000\" points=\"649,-573 530,-573 530,-505 649,-505 649,-573\"/>\n",
       "<text text-anchor=\"middle\" x=\"589.5\" y=\"-557.8\" font-family=\"Times,serif\" font-size=\"14.00\" fill=\"#000000\">X[0] &lt;= 42.5</text>\n",
       "<text text-anchor=\"middle\" x=\"589.5\" y=\"-542.8\" font-family=\"Times,serif\" font-size=\"14.00\" fill=\"#000000\">gini = 0.498</text>\n",
       "<text text-anchor=\"middle\" x=\"589.5\" y=\"-527.8\" font-family=\"Times,serif\" font-size=\"14.00\" fill=\"#000000\">samples = 369</text>\n",
       "<text text-anchor=\"middle\" x=\"589.5\" y=\"-512.8\" font-family=\"Times,serif\" font-size=\"14.00\" fill=\"#000000\">value = [172, 197]</text>\n",
       "</g>\n",
       "<!-- 0&#45;&gt;1 -->\n",
       "<g id=\"edge1\" class=\"edge\">\n",
       "<title>0&#45;&gt;1</title>\n",
       "<path fill=\"none\" stroke=\"#000000\" d=\"M702.4905,-608.9465C686.8264,-599.2497 669.6293,-588.6039 653.4804,-578.6069\"/>\n",
       "<polygon fill=\"#000000\" stroke=\"#000000\" points=\"654.978,-575.4177 644.6331,-573.13 651.2935,-581.3695 654.978,-575.4177\"/>\n",
       "<text text-anchor=\"middle\" x=\"649.2139\" y=\"-588.8983\" font-family=\"Times,serif\" font-size=\"14.00\" fill=\"#000000\">True</text>\n",
       "</g>\n",
       "<!-- 24 -->\n",
       "<g id=\"node25\" class=\"node\">\n",
       "<title>24</title>\n",
       "<polygon fill=\"none\" stroke=\"#000000\" points=\"849.5,-573 737.5,-573 737.5,-505 849.5,-505 849.5,-573\"/>\n",
       "<text text-anchor=\"middle\" x=\"793.5\" y=\"-557.8\" font-family=\"Times,serif\" font-size=\"14.00\" fill=\"#000000\">X[1] &lt;= 49.5</text>\n",
       "<text text-anchor=\"middle\" x=\"793.5\" y=\"-542.8\" font-family=\"Times,serif\" font-size=\"14.00\" fill=\"#000000\">gini = 0.049</text>\n",
       "<text text-anchor=\"middle\" x=\"793.5\" y=\"-527.8\" font-family=\"Times,serif\" font-size=\"14.00\" fill=\"#000000\">samples = 631</text>\n",
       "<text text-anchor=\"middle\" x=\"793.5\" y=\"-512.8\" font-family=\"Times,serif\" font-size=\"14.00\" fill=\"#000000\">value = [16, 615]</text>\n",
       "</g>\n",
       "<!-- 0&#45;&gt;24 -->\n",
       "<g id=\"edge24\" class=\"edge\">\n",
       "<title>0&#45;&gt;24</title>\n",
       "<path fill=\"none\" stroke=\"#000000\" d=\"M769.2877,-608.9465C772.1781,-600.5965 775.3121,-591.5427 778.3365,-582.8056\"/>\n",
       "<polygon fill=\"#000000\" stroke=\"#000000\" points=\"781.7221,-583.7248 781.6858,-573.13 775.1071,-581.435 781.7221,-583.7248\"/>\n",
       "<text text-anchor=\"middle\" x=\"790.4238\" y=\"-587.4202\" font-family=\"Times,serif\" font-size=\"14.00\" fill=\"#000000\">False</text>\n",
       "</g>\n",
       "<!-- 2 -->\n",
       "<g id=\"node3\" class=\"node\">\n",
       "<title>2</title>\n",
       "<polygon fill=\"none\" stroke=\"#000000\" points=\"388,-469 283,-469 283,-401 388,-401 388,-469\"/>\n",
       "<text text-anchor=\"middle\" x=\"335.5\" y=\"-453.8\" font-family=\"Times,serif\" font-size=\"14.00\" fill=\"#000000\">X[0] &lt;= 37.5</text>\n",
       "<text text-anchor=\"middle\" x=\"335.5\" y=\"-438.8\" font-family=\"Times,serif\" font-size=\"14.00\" fill=\"#000000\">gini = 0.057</text>\n",
       "<text text-anchor=\"middle\" x=\"335.5\" y=\"-423.8\" font-family=\"Times,serif\" font-size=\"14.00\" fill=\"#000000\">samples = 170</text>\n",
       "<text text-anchor=\"middle\" x=\"335.5\" y=\"-408.8\" font-family=\"Times,serif\" font-size=\"14.00\" fill=\"#000000\">value = [165, 5]</text>\n",
       "</g>\n",
       "<!-- 1&#45;&gt;2 -->\n",
       "<g id=\"edge2\" class=\"edge\">\n",
       "<title>1&#45;&gt;2</title>\n",
       "<path fill=\"none\" stroke=\"#000000\" d=\"M529.9483,-514.6166C490.1742,-498.3312 437.9664,-476.9547 397.6632,-460.4526\"/>\n",
       "<polygon fill=\"#000000\" stroke=\"#000000\" points=\"398.7926,-457.1331 388.2121,-456.5829 396.1402,-463.6111 398.7926,-457.1331\"/>\n",
       "</g>\n",
       "<!-- 15 -->\n",
       "<g id=\"node16\" class=\"node\">\n",
       "<title>15</title>\n",
       "<polygon fill=\"none\" stroke=\"#000000\" points=\"642,-469 537,-469 537,-401 642,-401 642,-469\"/>\n",
       "<text text-anchor=\"middle\" x=\"589.5\" y=\"-453.8\" font-family=\"Times,serif\" font-size=\"14.00\" fill=\"#000000\">X[0] &lt;= 49.5</text>\n",
       "<text text-anchor=\"middle\" x=\"589.5\" y=\"-438.8\" font-family=\"Times,serif\" font-size=\"14.00\" fill=\"#000000\">gini = 0.068</text>\n",
       "<text text-anchor=\"middle\" x=\"589.5\" y=\"-423.8\" font-family=\"Times,serif\" font-size=\"14.00\" fill=\"#000000\">samples = 199</text>\n",
       "<text text-anchor=\"middle\" x=\"589.5\" y=\"-408.8\" font-family=\"Times,serif\" font-size=\"14.00\" fill=\"#000000\">value = [7, 192]</text>\n",
       "</g>\n",
       "<!-- 1&#45;&gt;15 -->\n",
       "<g id=\"edge15\" class=\"edge\">\n",
       "<title>1&#45;&gt;15</title>\n",
       "<path fill=\"none\" stroke=\"#000000\" d=\"M589.5,-504.9465C589.5,-496.776 589.5,-487.9318 589.5,-479.3697\"/>\n",
       "<polygon fill=\"#000000\" stroke=\"#000000\" points=\"593.0001,-479.13 589.5,-469.13 586.0001,-479.13 593.0001,-479.13\"/>\n",
       "</g>\n",
       "<!-- 3 -->\n",
       "<g id=\"node4\" class=\"node\">\n",
       "<title>3</title>\n",
       "<polygon fill=\"none\" stroke=\"#000000\" points=\"222,-365 117,-365 117,-297 222,-297 222,-365\"/>\n",
       "<text text-anchor=\"middle\" x=\"169.5\" y=\"-349.8\" font-family=\"Times,serif\" font-size=\"14.00\" fill=\"#000000\">X[1] &lt;= 38.5</text>\n",
       "<text text-anchor=\"middle\" x=\"169.5\" y=\"-334.8\" font-family=\"Times,serif\" font-size=\"14.00\" fill=\"#000000\">gini = 0.013</text>\n",
       "<text text-anchor=\"middle\" x=\"169.5\" y=\"-319.8\" font-family=\"Times,serif\" font-size=\"14.00\" fill=\"#000000\">samples = 152</text>\n",
       "<text text-anchor=\"middle\" x=\"169.5\" y=\"-304.8\" font-family=\"Times,serif\" font-size=\"14.00\" fill=\"#000000\">value = [151, 1]</text>\n",
       "</g>\n",
       "<!-- 2&#45;&gt;3 -->\n",
       "<g id=\"edge3\" class=\"edge\">\n",
       "<title>2&#45;&gt;3</title>\n",
       "<path fill=\"none\" stroke=\"#000000\" d=\"M282.9766,-402.0938C266.4757,-391.7559 248.1087,-380.2488 231.0414,-369.556\"/>\n",
       "<polygon fill=\"#000000\" stroke=\"#000000\" points=\"232.584,-366.3924 222.2515,-364.0491 228.8676,-372.3243 232.584,-366.3924\"/>\n",
       "</g>\n",
       "<!-- 8 -->\n",
       "<g id=\"node9\" class=\"node\">\n",
       "<title>8</title>\n",
       "<polygon fill=\"none\" stroke=\"#000000\" points=\"384.5,-365 286.5,-365 286.5,-297 384.5,-297 384.5,-365\"/>\n",
       "<text text-anchor=\"middle\" x=\"335.5\" y=\"-349.8\" font-family=\"Times,serif\" font-size=\"14.00\" fill=\"#000000\">X[1] &lt;= 28.5</text>\n",
       "<text text-anchor=\"middle\" x=\"335.5\" y=\"-334.8\" font-family=\"Times,serif\" font-size=\"14.00\" fill=\"#000000\">gini = 0.346</text>\n",
       "<text text-anchor=\"middle\" x=\"335.5\" y=\"-319.8\" font-family=\"Times,serif\" font-size=\"14.00\" fill=\"#000000\">samples = 18</text>\n",
       "<text text-anchor=\"middle\" x=\"335.5\" y=\"-304.8\" font-family=\"Times,serif\" font-size=\"14.00\" fill=\"#000000\">value = [14, 4]</text>\n",
       "</g>\n",
       "<!-- 2&#45;&gt;8 -->\n",
       "<g id=\"edge8\" class=\"edge\">\n",
       "<title>2&#45;&gt;8</title>\n",
       "<path fill=\"none\" stroke=\"#000000\" d=\"M335.5,-400.9465C335.5,-392.776 335.5,-383.9318 335.5,-375.3697\"/>\n",
       "<polygon fill=\"#000000\" stroke=\"#000000\" points=\"339.0001,-375.13 335.5,-365.13 332.0001,-375.13 339.0001,-375.13\"/>\n",
       "</g>\n",
       "<!-- 4 -->\n",
       "<g id=\"node5\" class=\"node\">\n",
       "<title>4</title>\n",
       "<polygon fill=\"none\" stroke=\"#000000\" points=\"105,-253.5 0,-253.5 0,-200.5 105,-200.5 105,-253.5\"/>\n",
       "<text text-anchor=\"middle\" x=\"52.5\" y=\"-238.3\" font-family=\"Times,serif\" font-size=\"14.00\" fill=\"#000000\">gini = 0.0</text>\n",
       "<text text-anchor=\"middle\" x=\"52.5\" y=\"-223.3\" font-family=\"Times,serif\" font-size=\"14.00\" fill=\"#000000\">samples = 147</text>\n",
       "<text text-anchor=\"middle\" x=\"52.5\" y=\"-208.3\" font-family=\"Times,serif\" font-size=\"14.00\" fill=\"#000000\">value = [147, 0]</text>\n",
       "</g>\n",
       "<!-- 3&#45;&gt;4 -->\n",
       "<g id=\"edge4\" class=\"edge\">\n",
       "<title>3&#45;&gt;4</title>\n",
       "<path fill=\"none\" stroke=\"#000000\" d=\"M131.1898,-296.9465C117.9306,-285.1606 103.0942,-271.9726 89.9084,-260.2519\"/>\n",
       "<polygon fill=\"#000000\" stroke=\"#000000\" points=\"92.1593,-257.5699 82.3599,-253.5422 87.5088,-262.8018 92.1593,-257.5699\"/>\n",
       "</g>\n",
       "<!-- 5 -->\n",
       "<g id=\"node6\" class=\"node\">\n",
       "<title>5</title>\n",
       "<polygon fill=\"none\" stroke=\"#000000\" points=\"215.5,-261 123.5,-261 123.5,-193 215.5,-193 215.5,-261\"/>\n",
       "<text text-anchor=\"middle\" x=\"169.5\" y=\"-245.8\" font-family=\"Times,serif\" font-size=\"14.00\" fill=\"#000000\">X[0] &lt;= 30.0</text>\n",
       "<text text-anchor=\"middle\" x=\"169.5\" y=\"-230.8\" font-family=\"Times,serif\" font-size=\"14.00\" fill=\"#000000\">gini = 0.32</text>\n",
       "<text text-anchor=\"middle\" x=\"169.5\" y=\"-215.8\" font-family=\"Times,serif\" font-size=\"14.00\" fill=\"#000000\">samples = 5</text>\n",
       "<text text-anchor=\"middle\" x=\"169.5\" y=\"-200.8\" font-family=\"Times,serif\" font-size=\"14.00\" fill=\"#000000\">value = [4, 1]</text>\n",
       "</g>\n",
       "<!-- 3&#45;&gt;5 -->\n",
       "<g id=\"edge5\" class=\"edge\">\n",
       "<title>3&#45;&gt;5</title>\n",
       "<path fill=\"none\" stroke=\"#000000\" d=\"M169.5,-296.9465C169.5,-288.776 169.5,-279.9318 169.5,-271.3697\"/>\n",
       "<polygon fill=\"#000000\" stroke=\"#000000\" points=\"173.0001,-271.13 169.5,-261.13 166.0001,-271.13 173.0001,-271.13\"/>\n",
       "</g>\n",
       "<!-- 6 -->\n",
       "<g id=\"node7\" class=\"node\">\n",
       "<title>6</title>\n",
       "<polygon fill=\"none\" stroke=\"#000000\" points=\"108.5,-149.5 16.5,-149.5 16.5,-96.5 108.5,-96.5 108.5,-149.5\"/>\n",
       "<text text-anchor=\"middle\" x=\"62.5\" y=\"-134.3\" font-family=\"Times,serif\" font-size=\"14.00\" fill=\"#000000\">gini = 0.0</text>\n",
       "<text text-anchor=\"middle\" x=\"62.5\" y=\"-119.3\" font-family=\"Times,serif\" font-size=\"14.00\" fill=\"#000000\">samples = 4</text>\n",
       "<text text-anchor=\"middle\" x=\"62.5\" y=\"-104.3\" font-family=\"Times,serif\" font-size=\"14.00\" fill=\"#000000\">value = [4, 0]</text>\n",
       "</g>\n",
       "<!-- 5&#45;&gt;6 -->\n",
       "<g id=\"edge6\" class=\"edge\">\n",
       "<title>5&#45;&gt;6</title>\n",
       "<path fill=\"none\" stroke=\"#000000\" d=\"M134.4642,-192.9465C122.4516,-181.2707 109.0234,-168.219 97.0496,-156.5809\"/>\n",
       "<polygon fill=\"#000000\" stroke=\"#000000\" points=\"99.4182,-154.0022 89.8078,-149.5422 94.5393,-159.0218 99.4182,-154.0022\"/>\n",
       "</g>\n",
       "<!-- 7 -->\n",
       "<g id=\"node8\" class=\"node\">\n",
       "<title>7</title>\n",
       "<polygon fill=\"none\" stroke=\"#000000\" points=\"218.5,-149.5 126.5,-149.5 126.5,-96.5 218.5,-96.5 218.5,-149.5\"/>\n",
       "<text text-anchor=\"middle\" x=\"172.5\" y=\"-134.3\" font-family=\"Times,serif\" font-size=\"14.00\" fill=\"#000000\">gini = 0.0</text>\n",
       "<text text-anchor=\"middle\" x=\"172.5\" y=\"-119.3\" font-family=\"Times,serif\" font-size=\"14.00\" fill=\"#000000\">samples = 1</text>\n",
       "<text text-anchor=\"middle\" x=\"172.5\" y=\"-104.3\" font-family=\"Times,serif\" font-size=\"14.00\" fill=\"#000000\">value = [0, 1]</text>\n",
       "</g>\n",
       "<!-- 5&#45;&gt;7 -->\n",
       "<g id=\"edge7\" class=\"edge\">\n",
       "<title>5&#45;&gt;7</title>\n",
       "<path fill=\"none\" stroke=\"#000000\" d=\"M170.4823,-192.9465C170.7905,-182.2621 171.132,-170.4254 171.445,-159.5742\"/>\n",
       "<polygon fill=\"#000000\" stroke=\"#000000\" points=\"174.9445,-159.639 171.7344,-149.5422 167.9474,-159.4371 174.9445,-159.639\"/>\n",
       "</g>\n",
       "<!-- 9 -->\n",
       "<g id=\"node10\" class=\"node\">\n",
       "<title>9</title>\n",
       "<polygon fill=\"none\" stroke=\"#000000\" points=\"331.5,-253.5 233.5,-253.5 233.5,-200.5 331.5,-200.5 331.5,-253.5\"/>\n",
       "<text text-anchor=\"middle\" x=\"282.5\" y=\"-238.3\" font-family=\"Times,serif\" font-size=\"14.00\" fill=\"#000000\">gini = 0.0</text>\n",
       "<text text-anchor=\"middle\" x=\"282.5\" y=\"-223.3\" font-family=\"Times,serif\" font-size=\"14.00\" fill=\"#000000\">samples = 13</text>\n",
       "<text text-anchor=\"middle\" x=\"282.5\" y=\"-208.3\" font-family=\"Times,serif\" font-size=\"14.00\" fill=\"#000000\">value = [13, 0]</text>\n",
       "</g>\n",
       "<!-- 8&#45;&gt;9 -->\n",
       "<g id=\"edge9\" class=\"edge\">\n",
       "<title>8&#45;&gt;9</title>\n",
       "<path fill=\"none\" stroke=\"#000000\" d=\"M318.1458,-296.9465C312.5325,-285.9316 306.295,-273.6922 300.6272,-262.5703\"/>\n",
       "<polygon fill=\"#000000\" stroke=\"#000000\" points=\"303.6853,-260.8627 296.0263,-253.5422 297.4485,-264.0411 303.6853,-260.8627\"/>\n",
       "</g>\n",
       "<!-- 10 -->\n",
       "<g id=\"node11\" class=\"node\">\n",
       "<title>10</title>\n",
       "<polygon fill=\"none\" stroke=\"#000000\" points=\"441.5,-261 349.5,-261 349.5,-193 441.5,-193 441.5,-261\"/>\n",
       "<text text-anchor=\"middle\" x=\"395.5\" y=\"-245.8\" font-family=\"Times,serif\" font-size=\"14.00\" fill=\"#000000\">X[0] &lt;= 38.5</text>\n",
       "<text text-anchor=\"middle\" x=\"395.5\" y=\"-230.8\" font-family=\"Times,serif\" font-size=\"14.00\" fill=\"#000000\">gini = 0.32</text>\n",
       "<text text-anchor=\"middle\" x=\"395.5\" y=\"-215.8\" font-family=\"Times,serif\" font-size=\"14.00\" fill=\"#000000\">samples = 5</text>\n",
       "<text text-anchor=\"middle\" x=\"395.5\" y=\"-200.8\" font-family=\"Times,serif\" font-size=\"14.00\" fill=\"#000000\">value = [1, 4]</text>\n",
       "</g>\n",
       "<!-- 8&#45;&gt;10 -->\n",
       "<g id=\"edge10\" class=\"edge\">\n",
       "<title>8&#45;&gt;10</title>\n",
       "<path fill=\"none\" stroke=\"#000000\" d=\"M355.1462,-296.9465C360.119,-288.3271 365.5243,-278.9579 370.7148,-269.9611\"/>\n",
       "<polygon fill=\"#000000\" stroke=\"#000000\" points=\"373.844,-271.5409 375.8096,-261.13 367.7807,-268.0428 373.844,-271.5409\"/>\n",
       "</g>\n",
       "<!-- 11 -->\n",
       "<g id=\"node12\" class=\"node\">\n",
       "<title>11</title>\n",
       "<polygon fill=\"none\" stroke=\"#000000\" points=\"331.5,-157 239.5,-157 239.5,-89 331.5,-89 331.5,-157\"/>\n",
       "<text text-anchor=\"middle\" x=\"285.5\" y=\"-141.8\" font-family=\"Times,serif\" font-size=\"14.00\" fill=\"#000000\">X[1] &lt;= 33.5</text>\n",
       "<text text-anchor=\"middle\" x=\"285.5\" y=\"-126.8\" font-family=\"Times,serif\" font-size=\"14.00\" fill=\"#000000\">gini = 0.5</text>\n",
       "<text text-anchor=\"middle\" x=\"285.5\" y=\"-111.8\" font-family=\"Times,serif\" font-size=\"14.00\" fill=\"#000000\">samples = 2</text>\n",
       "<text text-anchor=\"middle\" x=\"285.5\" y=\"-96.8\" font-family=\"Times,serif\" font-size=\"14.00\" fill=\"#000000\">value = [1, 1]</text>\n",
       "</g>\n",
       "<!-- 10&#45;&gt;11 -->\n",
       "<g id=\"edge11\" class=\"edge\">\n",
       "<title>10&#45;&gt;11</title>\n",
       "<path fill=\"none\" stroke=\"#000000\" d=\"M359.4819,-192.9465C349.7954,-183.7884 339.2136,-173.7838 329.1603,-164.2788\"/>\n",
       "<polygon fill=\"#000000\" stroke=\"#000000\" points=\"331.2701,-161.4569 321.599,-157.13 326.461,-166.5434 331.2701,-161.4569\"/>\n",
       "</g>\n",
       "<!-- 14 -->\n",
       "<g id=\"node15\" class=\"node\">\n",
       "<title>14</title>\n",
       "<polygon fill=\"none\" stroke=\"#000000\" points=\"441.5,-149.5 349.5,-149.5 349.5,-96.5 441.5,-96.5 441.5,-149.5\"/>\n",
       "<text text-anchor=\"middle\" x=\"395.5\" y=\"-134.3\" font-family=\"Times,serif\" font-size=\"14.00\" fill=\"#000000\">gini = 0.0</text>\n",
       "<text text-anchor=\"middle\" x=\"395.5\" y=\"-119.3\" font-family=\"Times,serif\" font-size=\"14.00\" fill=\"#000000\">samples = 3</text>\n",
       "<text text-anchor=\"middle\" x=\"395.5\" y=\"-104.3\" font-family=\"Times,serif\" font-size=\"14.00\" fill=\"#000000\">value = [0, 3]</text>\n",
       "</g>\n",
       "<!-- 10&#45;&gt;14 -->\n",
       "<g id=\"edge14\" class=\"edge\">\n",
       "<title>10&#45;&gt;14</title>\n",
       "<path fill=\"none\" stroke=\"#000000\" d=\"M395.5,-192.9465C395.5,-182.2621 395.5,-170.4254 395.5,-159.5742\"/>\n",
       "<polygon fill=\"#000000\" stroke=\"#000000\" points=\"399.0001,-159.5421 395.5,-149.5422 392.0001,-159.5422 399.0001,-159.5421\"/>\n",
       "</g>\n",
       "<!-- 12 -->\n",
       "<g id=\"node13\" class=\"node\">\n",
       "<title>12</title>\n",
       "<polygon fill=\"none\" stroke=\"#000000\" points=\"304.5,-53 212.5,-53 212.5,0 304.5,0 304.5,-53\"/>\n",
       "<text text-anchor=\"middle\" x=\"258.5\" y=\"-37.8\" font-family=\"Times,serif\" font-size=\"14.00\" fill=\"#000000\">gini = 0.0</text>\n",
       "<text text-anchor=\"middle\" x=\"258.5\" y=\"-22.8\" font-family=\"Times,serif\" font-size=\"14.00\" fill=\"#000000\">samples = 1</text>\n",
       "<text text-anchor=\"middle\" x=\"258.5\" y=\"-7.8\" font-family=\"Times,serif\" font-size=\"14.00\" fill=\"#000000\">value = [1, 0]</text>\n",
       "</g>\n",
       "<!-- 11&#45;&gt;12 -->\n",
       "<g id=\"edge12\" class=\"edge\">\n",
       "<title>11&#45;&gt;12</title>\n",
       "<path fill=\"none\" stroke=\"#000000\" d=\"M275.9808,-88.9777C273.6237,-80.5533 271.0888,-71.4934 268.7007,-62.9579\"/>\n",
       "<polygon fill=\"#000000\" stroke=\"#000000\" points=\"272.0491,-61.9356 265.984,-53.2485 265.308,-63.8217 272.0491,-61.9356\"/>\n",
       "</g>\n",
       "<!-- 13 -->\n",
       "<g id=\"node14\" class=\"node\">\n",
       "<title>13</title>\n",
       "<polygon fill=\"none\" stroke=\"#000000\" points=\"414.5,-53 322.5,-53 322.5,0 414.5,0 414.5,-53\"/>\n",
       "<text text-anchor=\"middle\" x=\"368.5\" y=\"-37.8\" font-family=\"Times,serif\" font-size=\"14.00\" fill=\"#000000\">gini = 0.0</text>\n",
       "<text text-anchor=\"middle\" x=\"368.5\" y=\"-22.8\" font-family=\"Times,serif\" font-size=\"14.00\" fill=\"#000000\">samples = 1</text>\n",
       "<text text-anchor=\"middle\" x=\"368.5\" y=\"-7.8\" font-family=\"Times,serif\" font-size=\"14.00\" fill=\"#000000\">value = [0, 1]</text>\n",
       "</g>\n",
       "<!-- 11&#45;&gt;13 -->\n",
       "<g id=\"edge13\" class=\"edge\">\n",
       "<title>11&#45;&gt;13</title>\n",
       "<path fill=\"none\" stroke=\"#000000\" d=\"M314.7627,-88.9777C322.5599,-79.9123 330.99,-70.111 338.8099,-61.0192\"/>\n",
       "<polygon fill=\"#000000\" stroke=\"#000000\" points=\"341.6262,-63.1123 345.4935,-53.2485 336.3191,-58.5477 341.6262,-63.1123\"/>\n",
       "</g>\n",
       "<!-- 16 -->\n",
       "<g id=\"node17\" class=\"node\">\n",
       "<title>16</title>\n",
       "<polygon fill=\"none\" stroke=\"#000000\" points=\"578.5,-365 480.5,-365 480.5,-297 578.5,-297 578.5,-365\"/>\n",
       "<text text-anchor=\"middle\" x=\"529.5\" y=\"-349.8\" font-family=\"Times,serif\" font-size=\"14.00\" fill=\"#000000\">X[1] &lt;= 19.0</text>\n",
       "<text text-anchor=\"middle\" x=\"529.5\" y=\"-334.8\" font-family=\"Times,serif\" font-size=\"14.00\" fill=\"#000000\">gini = 0.413</text>\n",
       "<text text-anchor=\"middle\" x=\"529.5\" y=\"-319.8\" font-family=\"Times,serif\" font-size=\"14.00\" fill=\"#000000\">samples = 24</text>\n",
       "<text text-anchor=\"middle\" x=\"529.5\" y=\"-304.8\" font-family=\"Times,serif\" font-size=\"14.00\" fill=\"#000000\">value = [7, 17]</text>\n",
       "</g>\n",
       "<!-- 15&#45;&gt;16 -->\n",
       "<g id=\"edge16\" class=\"edge\">\n",
       "<title>15&#45;&gt;16</title>\n",
       "<path fill=\"none\" stroke=\"#000000\" d=\"M569.8538,-400.9465C564.881,-392.3271 559.4757,-382.9579 554.2852,-373.9611\"/>\n",
       "<polygon fill=\"#000000\" stroke=\"#000000\" points=\"557.2193,-372.0428 549.1904,-365.13 551.156,-375.5409 557.2193,-372.0428\"/>\n",
       "</g>\n",
       "<!-- 23 -->\n",
       "<g id=\"node24\" class=\"node\">\n",
       "<title>23</title>\n",
       "<polygon fill=\"none\" stroke=\"#000000\" points=\"702,-357.5 597,-357.5 597,-304.5 702,-304.5 702,-357.5\"/>\n",
       "<text text-anchor=\"middle\" x=\"649.5\" y=\"-342.3\" font-family=\"Times,serif\" font-size=\"14.00\" fill=\"#000000\">gini = 0.0</text>\n",
       "<text text-anchor=\"middle\" x=\"649.5\" y=\"-327.3\" font-family=\"Times,serif\" font-size=\"14.00\" fill=\"#000000\">samples = 175</text>\n",
       "<text text-anchor=\"middle\" x=\"649.5\" y=\"-312.3\" font-family=\"Times,serif\" font-size=\"14.00\" fill=\"#000000\">value = [0, 175]</text>\n",
       "</g>\n",
       "<!-- 15&#45;&gt;23 -->\n",
       "<g id=\"edge23\" class=\"edge\">\n",
       "<title>15&#45;&gt;23</title>\n",
       "<path fill=\"none\" stroke=\"#000000\" d=\"M609.1462,-400.9465C615.5645,-389.8215 622.7035,-377.4473 629.171,-366.237\"/>\n",
       "<polygon fill=\"#000000\" stroke=\"#000000\" points=\"632.2216,-367.9531 634.1872,-357.5422 626.1583,-364.455 632.2216,-367.9531\"/>\n",
       "</g>\n",
       "<!-- 17 -->\n",
       "<g id=\"node18\" class=\"node\">\n",
       "<title>17</title>\n",
       "<polygon fill=\"none\" stroke=\"#000000\" points=\"551.5,-261 459.5,-261 459.5,-193 551.5,-193 551.5,-261\"/>\n",
       "<text text-anchor=\"middle\" x=\"505.5\" y=\"-245.8\" font-family=\"Times,serif\" font-size=\"14.00\" fill=\"#000000\">X[0] &lt;= 47.5</text>\n",
       "<text text-anchor=\"middle\" x=\"505.5\" y=\"-230.8\" font-family=\"Times,serif\" font-size=\"14.00\" fill=\"#000000\">gini = 0.42</text>\n",
       "<text text-anchor=\"middle\" x=\"505.5\" y=\"-215.8\" font-family=\"Times,serif\" font-size=\"14.00\" fill=\"#000000\">samples = 10</text>\n",
       "<text text-anchor=\"middle\" x=\"505.5\" y=\"-200.8\" font-family=\"Times,serif\" font-size=\"14.00\" fill=\"#000000\">value = [7, 3]</text>\n",
       "</g>\n",
       "<!-- 16&#45;&gt;17 -->\n",
       "<g id=\"edge17\" class=\"edge\">\n",
       "<title>16&#45;&gt;17</title>\n",
       "<path fill=\"none\" stroke=\"#000000\" d=\"M521.6415,-296.9465C519.7353,-288.6863 517.6702,-279.7374 515.674,-271.0875\"/>\n",
       "<polygon fill=\"#000000\" stroke=\"#000000\" points=\"519.0352,-270.0869 513.3762,-261.13 512.2145,-271.6609 519.0352,-270.0869\"/>\n",
       "</g>\n",
       "<!-- 22 -->\n",
       "<g id=\"node23\" class=\"node\">\n",
       "<title>22</title>\n",
       "<polygon fill=\"none\" stroke=\"#000000\" points=\"667.5,-253.5 569.5,-253.5 569.5,-200.5 667.5,-200.5 667.5,-253.5\"/>\n",
       "<text text-anchor=\"middle\" x=\"618.5\" y=\"-238.3\" font-family=\"Times,serif\" font-size=\"14.00\" fill=\"#000000\">gini = 0.0</text>\n",
       "<text text-anchor=\"middle\" x=\"618.5\" y=\"-223.3\" font-family=\"Times,serif\" font-size=\"14.00\" fill=\"#000000\">samples = 14</text>\n",
       "<text text-anchor=\"middle\" x=\"618.5\" y=\"-208.3\" font-family=\"Times,serif\" font-size=\"14.00\" fill=\"#000000\">value = [0, 14]</text>\n",
       "</g>\n",
       "<!-- 16&#45;&gt;22 -->\n",
       "<g id=\"edge22\" class=\"edge\">\n",
       "<title>16&#45;&gt;22</title>\n",
       "<path fill=\"none\" stroke=\"#000000\" d=\"M558.6419,-296.9465C568.4452,-285.491 579.3819,-272.711 589.1975,-261.2412\"/>\n",
       "<polygon fill=\"#000000\" stroke=\"#000000\" points=\"591.9433,-263.4156 595.786,-253.5422 586.6249,-258.8642 591.9433,-263.4156\"/>\n",
       "</g>\n",
       "<!-- 18 -->\n",
       "<g id=\"node19\" class=\"node\">\n",
       "<title>18</title>\n",
       "<polygon fill=\"none\" stroke=\"#000000\" points=\"551.5,-149.5 459.5,-149.5 459.5,-96.5 551.5,-96.5 551.5,-149.5\"/>\n",
       "<text text-anchor=\"middle\" x=\"505.5\" y=\"-134.3\" font-family=\"Times,serif\" font-size=\"14.00\" fill=\"#000000\">gini = 0.0</text>\n",
       "<text text-anchor=\"middle\" x=\"505.5\" y=\"-119.3\" font-family=\"Times,serif\" font-size=\"14.00\" fill=\"#000000\">samples = 5</text>\n",
       "<text text-anchor=\"middle\" x=\"505.5\" y=\"-104.3\" font-family=\"Times,serif\" font-size=\"14.00\" fill=\"#000000\">value = [5, 0]</text>\n",
       "</g>\n",
       "<!-- 17&#45;&gt;18 -->\n",
       "<g id=\"edge18\" class=\"edge\">\n",
       "<title>17&#45;&gt;18</title>\n",
       "<path fill=\"none\" stroke=\"#000000\" d=\"M505.5,-192.9465C505.5,-182.2621 505.5,-170.4254 505.5,-159.5742\"/>\n",
       "<polygon fill=\"#000000\" stroke=\"#000000\" points=\"509.0001,-159.5421 505.5,-149.5422 502.0001,-159.5422 509.0001,-159.5421\"/>\n",
       "</g>\n",
       "<!-- 19 -->\n",
       "<g id=\"node20\" class=\"node\">\n",
       "<title>19</title>\n",
       "<polygon fill=\"none\" stroke=\"#000000\" points=\"661.5,-157 569.5,-157 569.5,-89 661.5,-89 661.5,-157\"/>\n",
       "<text text-anchor=\"middle\" x=\"615.5\" y=\"-141.8\" font-family=\"Times,serif\" font-size=\"14.00\" fill=\"#000000\">X[1] &lt;= 10.0</text>\n",
       "<text text-anchor=\"middle\" x=\"615.5\" y=\"-126.8\" font-family=\"Times,serif\" font-size=\"14.00\" fill=\"#000000\">gini = 0.48</text>\n",
       "<text text-anchor=\"middle\" x=\"615.5\" y=\"-111.8\" font-family=\"Times,serif\" font-size=\"14.00\" fill=\"#000000\">samples = 5</text>\n",
       "<text text-anchor=\"middle\" x=\"615.5\" y=\"-96.8\" font-family=\"Times,serif\" font-size=\"14.00\" fill=\"#000000\">value = [2, 3]</text>\n",
       "</g>\n",
       "<!-- 17&#45;&gt;19 -->\n",
       "<g id=\"edge19\" class=\"edge\">\n",
       "<title>17&#45;&gt;19</title>\n",
       "<path fill=\"none\" stroke=\"#000000\" d=\"M541.5181,-192.9465C551.2046,-183.7884 561.7864,-173.7838 571.8397,-164.2788\"/>\n",
       "<polygon fill=\"#000000\" stroke=\"#000000\" points=\"574.539,-166.5434 579.401,-157.13 569.7299,-161.4569 574.539,-166.5434\"/>\n",
       "</g>\n",
       "<!-- 20 -->\n",
       "<g id=\"node21\" class=\"node\">\n",
       "<title>20</title>\n",
       "<polygon fill=\"none\" stroke=\"#000000\" points=\"579.5,-53 487.5,-53 487.5,0 579.5,0 579.5,-53\"/>\n",
       "<text text-anchor=\"middle\" x=\"533.5\" y=\"-37.8\" font-family=\"Times,serif\" font-size=\"14.00\" fill=\"#000000\">gini = 0.0</text>\n",
       "<text text-anchor=\"middle\" x=\"533.5\" y=\"-22.8\" font-family=\"Times,serif\" font-size=\"14.00\" fill=\"#000000\">samples = 2</text>\n",
       "<text text-anchor=\"middle\" x=\"533.5\" y=\"-7.8\" font-family=\"Times,serif\" font-size=\"14.00\" fill=\"#000000\">value = [2, 0]</text>\n",
       "</g>\n",
       "<!-- 19&#45;&gt;20 -->\n",
       "<g id=\"edge20\" class=\"edge\">\n",
       "<title>19&#45;&gt;20</title>\n",
       "<path fill=\"none\" stroke=\"#000000\" d=\"M586.5899,-88.9777C578.8866,-79.9123 570.5581,-70.111 562.8324,-61.0192\"/>\n",
       "<polygon fill=\"#000000\" stroke=\"#000000\" points=\"565.3718,-58.6025 556.2293,-53.2485 560.0375,-63.1352 565.3718,-58.6025\"/>\n",
       "</g>\n",
       "<!-- 21 -->\n",
       "<g id=\"node22\" class=\"node\">\n",
       "<title>21</title>\n",
       "<polygon fill=\"none\" stroke=\"#000000\" points=\"689.5,-53 597.5,-53 597.5,0 689.5,0 689.5,-53\"/>\n",
       "<text text-anchor=\"middle\" x=\"643.5\" y=\"-37.8\" font-family=\"Times,serif\" font-size=\"14.00\" fill=\"#000000\">gini = 0.0</text>\n",
       "<text text-anchor=\"middle\" x=\"643.5\" y=\"-22.8\" font-family=\"Times,serif\" font-size=\"14.00\" fill=\"#000000\">samples = 3</text>\n",
       "<text text-anchor=\"middle\" x=\"643.5\" y=\"-7.8\" font-family=\"Times,serif\" font-size=\"14.00\" fill=\"#000000\">value = [0, 3]</text>\n",
       "</g>\n",
       "<!-- 19&#45;&gt;21 -->\n",
       "<g id=\"edge21\" class=\"edge\">\n",
       "<title>19&#45;&gt;21</title>\n",
       "<path fill=\"none\" stroke=\"#000000\" d=\"M625.3718,-88.9777C627.8161,-80.5533 630.4449,-71.4934 632.9215,-62.9579\"/>\n",
       "<polygon fill=\"#000000\" stroke=\"#000000\" points=\"636.3135,-63.8277 635.7388,-53.2485 629.5907,-61.877 636.3135,-63.8277\"/>\n",
       "</g>\n",
       "<!-- 25 -->\n",
       "<g id=\"node26\" class=\"node\">\n",
       "<title>25</title>\n",
       "<polygon fill=\"none\" stroke=\"#000000\" points=\"846,-469 741,-469 741,-401 846,-401 846,-469\"/>\n",
       "<text text-anchor=\"middle\" x=\"793.5\" y=\"-453.8\" font-family=\"Times,serif\" font-size=\"14.00\" fill=\"#000000\">X[0] &lt;= 23.5</text>\n",
       "<text text-anchor=\"middle\" x=\"793.5\" y=\"-438.8\" font-family=\"Times,serif\" font-size=\"14.00\" fill=\"#000000\">gini = 0.287</text>\n",
       "<text text-anchor=\"middle\" x=\"793.5\" y=\"-423.8\" font-family=\"Times,serif\" font-size=\"14.00\" fill=\"#000000\">samples = 92</text>\n",
       "<text text-anchor=\"middle\" x=\"793.5\" y=\"-408.8\" font-family=\"Times,serif\" font-size=\"14.00\" fill=\"#000000\">value = [16, 76]</text>\n",
       "</g>\n",
       "<!-- 24&#45;&gt;25 -->\n",
       "<g id=\"edge25\" class=\"edge\">\n",
       "<title>24&#45;&gt;25</title>\n",
       "<path fill=\"none\" stroke=\"#000000\" d=\"M793.5,-504.9465C793.5,-496.776 793.5,-487.9318 793.5,-479.3697\"/>\n",
       "<polygon fill=\"#000000\" stroke=\"#000000\" points=\"797.0001,-479.13 793.5,-469.13 790.0001,-479.13 797.0001,-479.13\"/>\n",
       "</g>\n",
       "<!-- 36 -->\n",
       "<g id=\"node37\" class=\"node\">\n",
       "<title>36</title>\n",
       "<polygon fill=\"none\" stroke=\"#000000\" points=\"969,-461.5 864,-461.5 864,-408.5 969,-408.5 969,-461.5\"/>\n",
       "<text text-anchor=\"middle\" x=\"916.5\" y=\"-446.3\" font-family=\"Times,serif\" font-size=\"14.00\" fill=\"#000000\">gini = 0.0</text>\n",
       "<text text-anchor=\"middle\" x=\"916.5\" y=\"-431.3\" font-family=\"Times,serif\" font-size=\"14.00\" fill=\"#000000\">samples = 539</text>\n",
       "<text text-anchor=\"middle\" x=\"916.5\" y=\"-416.3\" font-family=\"Times,serif\" font-size=\"14.00\" fill=\"#000000\">value = [0, 539]</text>\n",
       "</g>\n",
       "<!-- 24&#45;&gt;36 -->\n",
       "<g id=\"edge36\" class=\"edge\">\n",
       "<title>24&#45;&gt;36</title>\n",
       "<path fill=\"none\" stroke=\"#000000\" d=\"M833.7748,-504.9465C847.7139,-493.1606 863.3112,-479.9726 877.1732,-468.2519\"/>\n",
       "<polygon fill=\"#000000\" stroke=\"#000000\" points=\"879.7324,-470.6715 885.1088,-461.5422 875.2127,-465.3262 879.7324,-470.6715\"/>\n",
       "</g>\n",
       "<!-- 26 -->\n",
       "<g id=\"node27\" class=\"node\">\n",
       "<title>26</title>\n",
       "<polygon fill=\"none\" stroke=\"#000000\" points=\"842.5,-365 744.5,-365 744.5,-297 842.5,-297 842.5,-365\"/>\n",
       "<text text-anchor=\"middle\" x=\"793.5\" y=\"-349.8\" font-family=\"Times,serif\" font-size=\"14.00\" fill=\"#000000\">X[0] &lt;= 18.5</text>\n",
       "<text text-anchor=\"middle\" x=\"793.5\" y=\"-334.8\" font-family=\"Times,serif\" font-size=\"14.00\" fill=\"#000000\">gini = 0.208</text>\n",
       "<text text-anchor=\"middle\" x=\"793.5\" y=\"-319.8\" font-family=\"Times,serif\" font-size=\"14.00\" fill=\"#000000\">samples = 17</text>\n",
       "<text text-anchor=\"middle\" x=\"793.5\" y=\"-304.8\" font-family=\"Times,serif\" font-size=\"14.00\" fill=\"#000000\">value = [15, 2]</text>\n",
       "</g>\n",
       "<!-- 25&#45;&gt;26 -->\n",
       "<g id=\"edge26\" class=\"edge\">\n",
       "<title>25&#45;&gt;26</title>\n",
       "<path fill=\"none\" stroke=\"#000000\" d=\"M793.5,-400.9465C793.5,-392.776 793.5,-383.9318 793.5,-375.3697\"/>\n",
       "<polygon fill=\"#000000\" stroke=\"#000000\" points=\"797.0001,-375.13 793.5,-365.13 790.0001,-375.13 797.0001,-375.13\"/>\n",
       "</g>\n",
       "<!-- 31 -->\n",
       "<g id=\"node32\" class=\"node\">\n",
       "<title>31</title>\n",
       "<polygon fill=\"none\" stroke=\"#000000\" points=\"1006.5,-365 908.5,-365 908.5,-297 1006.5,-297 1006.5,-365\"/>\n",
       "<text text-anchor=\"middle\" x=\"957.5\" y=\"-349.8\" font-family=\"Times,serif\" font-size=\"14.00\" fill=\"#000000\">X[0] &lt;= 28.0</text>\n",
       "<text text-anchor=\"middle\" x=\"957.5\" y=\"-334.8\" font-family=\"Times,serif\" font-size=\"14.00\" fill=\"#000000\">gini = 0.026</text>\n",
       "<text text-anchor=\"middle\" x=\"957.5\" y=\"-319.8\" font-family=\"Times,serif\" font-size=\"14.00\" fill=\"#000000\">samples = 75</text>\n",
       "<text text-anchor=\"middle\" x=\"957.5\" y=\"-304.8\" font-family=\"Times,serif\" font-size=\"14.00\" fill=\"#000000\">value = [1, 74]</text>\n",
       "</g>\n",
       "<!-- 25&#45;&gt;31 -->\n",
       "<g id=\"edge31\" class=\"edge\">\n",
       "<title>25&#45;&gt;31</title>\n",
       "<path fill=\"none\" stroke=\"#000000\" d=\"M846.2934,-401.5213C863.2776,-390.7508 882.1848,-378.7609 899.5208,-367.7673\"/>\n",
       "<polygon fill=\"#000000\" stroke=\"#000000\" points=\"901.8541,-370.4321 908.4248,-362.1209 898.1053,-364.5205 901.8541,-370.4321\"/>\n",
       "</g>\n",
       "<!-- 27 -->\n",
       "<g id=\"node28\" class=\"node\">\n",
       "<title>27</title>\n",
       "<polygon fill=\"none\" stroke=\"#000000\" points=\"783.5,-253.5 685.5,-253.5 685.5,-200.5 783.5,-200.5 783.5,-253.5\"/>\n",
       "<text text-anchor=\"middle\" x=\"734.5\" y=\"-238.3\" font-family=\"Times,serif\" font-size=\"14.00\" fill=\"#000000\">gini = 0.0</text>\n",
       "<text text-anchor=\"middle\" x=\"734.5\" y=\"-223.3\" font-family=\"Times,serif\" font-size=\"14.00\" fill=\"#000000\">samples = 13</text>\n",
       "<text text-anchor=\"middle\" x=\"734.5\" y=\"-208.3\" font-family=\"Times,serif\" font-size=\"14.00\" fill=\"#000000\">value = [13, 0]</text>\n",
       "</g>\n",
       "<!-- 26&#45;&gt;27 -->\n",
       "<g id=\"edge27\" class=\"edge\">\n",
       "<title>26&#45;&gt;27</title>\n",
       "<path fill=\"none\" stroke=\"#000000\" d=\"M774.1812,-296.9465C767.9324,-285.9316 760.9888,-273.6922 754.6793,-262.5703\"/>\n",
       "<polygon fill=\"#000000\" stroke=\"#000000\" points=\"757.5362,-260.513 749.5576,-253.5422 751.4477,-263.967 757.5362,-260.513\"/>\n",
       "</g>\n",
       "<!-- 28 -->\n",
       "<g id=\"node29\" class=\"node\">\n",
       "<title>28</title>\n",
       "<polygon fill=\"none\" stroke=\"#000000\" points=\"893.5,-261 801.5,-261 801.5,-193 893.5,-193 893.5,-261\"/>\n",
       "<text text-anchor=\"middle\" x=\"847.5\" y=\"-245.8\" font-family=\"Times,serif\" font-size=\"14.00\" fill=\"#000000\">X[1] &lt;= 45.0</text>\n",
       "<text text-anchor=\"middle\" x=\"847.5\" y=\"-230.8\" font-family=\"Times,serif\" font-size=\"14.00\" fill=\"#000000\">gini = 0.5</text>\n",
       "<text text-anchor=\"middle\" x=\"847.5\" y=\"-215.8\" font-family=\"Times,serif\" font-size=\"14.00\" fill=\"#000000\">samples = 4</text>\n",
       "<text text-anchor=\"middle\" x=\"847.5\" y=\"-200.8\" font-family=\"Times,serif\" font-size=\"14.00\" fill=\"#000000\">value = [2, 2]</text>\n",
       "</g>\n",
       "<!-- 26&#45;&gt;28 -->\n",
       "<g id=\"edge28\" class=\"edge\">\n",
       "<title>26&#45;&gt;28</title>\n",
       "<path fill=\"none\" stroke=\"#000000\" d=\"M811.1816,-296.9465C815.6105,-288.4169 820.4206,-279.153 825.0472,-270.2424\"/>\n",
       "<polygon fill=\"#000000\" stroke=\"#000000\" points=\"828.2767,-271.6178 829.7787,-261.13 822.0642,-268.3921 828.2767,-271.6178\"/>\n",
       "</g>\n",
       "<!-- 29 -->\n",
       "<g id=\"node30\" class=\"node\">\n",
       "<title>29</title>\n",
       "<polygon fill=\"none\" stroke=\"#000000\" points=\"783.5,-149.5 691.5,-149.5 691.5,-96.5 783.5,-96.5 783.5,-149.5\"/>\n",
       "<text text-anchor=\"middle\" x=\"737.5\" y=\"-134.3\" font-family=\"Times,serif\" font-size=\"14.00\" fill=\"#000000\">gini = 0.0</text>\n",
       "<text text-anchor=\"middle\" x=\"737.5\" y=\"-119.3\" font-family=\"Times,serif\" font-size=\"14.00\" fill=\"#000000\">samples = 2</text>\n",
       "<text text-anchor=\"middle\" x=\"737.5\" y=\"-104.3\" font-family=\"Times,serif\" font-size=\"14.00\" fill=\"#000000\">value = [2, 0]</text>\n",
       "</g>\n",
       "<!-- 28&#45;&gt;29 -->\n",
       "<g id=\"edge29\" class=\"edge\">\n",
       "<title>28&#45;&gt;29</title>\n",
       "<path fill=\"none\" stroke=\"#000000\" d=\"M811.4819,-192.9465C799.1325,-181.2707 785.3278,-168.219 773.0183,-156.5809\"/>\n",
       "<polygon fill=\"#000000\" stroke=\"#000000\" points=\"775.2445,-153.869 765.5734,-149.5422 770.4354,-158.9556 775.2445,-153.869\"/>\n",
       "</g>\n",
       "<!-- 30 -->\n",
       "<g id=\"node31\" class=\"node\">\n",
       "<title>30</title>\n",
       "<polygon fill=\"none\" stroke=\"#000000\" points=\"893.5,-149.5 801.5,-149.5 801.5,-96.5 893.5,-96.5 893.5,-149.5\"/>\n",
       "<text text-anchor=\"middle\" x=\"847.5\" y=\"-134.3\" font-family=\"Times,serif\" font-size=\"14.00\" fill=\"#000000\">gini = 0.0</text>\n",
       "<text text-anchor=\"middle\" x=\"847.5\" y=\"-119.3\" font-family=\"Times,serif\" font-size=\"14.00\" fill=\"#000000\">samples = 2</text>\n",
       "<text text-anchor=\"middle\" x=\"847.5\" y=\"-104.3\" font-family=\"Times,serif\" font-size=\"14.00\" fill=\"#000000\">value = [0, 2]</text>\n",
       "</g>\n",
       "<!-- 28&#45;&gt;30 -->\n",
       "<g id=\"edge30\" class=\"edge\">\n",
       "<title>28&#45;&gt;30</title>\n",
       "<path fill=\"none\" stroke=\"#000000\" d=\"M847.5,-192.9465C847.5,-182.2621 847.5,-170.4254 847.5,-159.5742\"/>\n",
       "<polygon fill=\"#000000\" stroke=\"#000000\" points=\"851.0001,-159.5421 847.5,-149.5422 844.0001,-159.5422 851.0001,-159.5421\"/>\n",
       "</g>\n",
       "<!-- 32 -->\n",
       "<g id=\"node33\" class=\"node\">\n",
       "<title>32</title>\n",
       "<polygon fill=\"none\" stroke=\"#000000\" points=\"1003.5,-261 911.5,-261 911.5,-193 1003.5,-193 1003.5,-261\"/>\n",
       "<text text-anchor=\"middle\" x=\"957.5\" y=\"-245.8\" font-family=\"Times,serif\" font-size=\"14.00\" fill=\"#000000\">X[1] &lt;= 42.0</text>\n",
       "<text text-anchor=\"middle\" x=\"957.5\" y=\"-230.8\" font-family=\"Times,serif\" font-size=\"14.00\" fill=\"#000000\">gini = 0.375</text>\n",
       "<text text-anchor=\"middle\" x=\"957.5\" y=\"-215.8\" font-family=\"Times,serif\" font-size=\"14.00\" fill=\"#000000\">samples = 4</text>\n",
       "<text text-anchor=\"middle\" x=\"957.5\" y=\"-200.8\" font-family=\"Times,serif\" font-size=\"14.00\" fill=\"#000000\">value = [1, 3]</text>\n",
       "</g>\n",
       "<!-- 31&#45;&gt;32 -->\n",
       "<g id=\"edge32\" class=\"edge\">\n",
       "<title>31&#45;&gt;32</title>\n",
       "<path fill=\"none\" stroke=\"#000000\" d=\"M957.5,-296.9465C957.5,-288.776 957.5,-279.9318 957.5,-271.3697\"/>\n",
       "<polygon fill=\"#000000\" stroke=\"#000000\" points=\"961.0001,-271.13 957.5,-261.13 954.0001,-271.13 961.0001,-271.13\"/>\n",
       "</g>\n",
       "<!-- 35 -->\n",
       "<g id=\"node36\" class=\"node\">\n",
       "<title>35</title>\n",
       "<polygon fill=\"none\" stroke=\"#000000\" points=\"1119.5,-253.5 1021.5,-253.5 1021.5,-200.5 1119.5,-200.5 1119.5,-253.5\"/>\n",
       "<text text-anchor=\"middle\" x=\"1070.5\" y=\"-238.3\" font-family=\"Times,serif\" font-size=\"14.00\" fill=\"#000000\">gini = 0.0</text>\n",
       "<text text-anchor=\"middle\" x=\"1070.5\" y=\"-223.3\" font-family=\"Times,serif\" font-size=\"14.00\" fill=\"#000000\">samples = 71</text>\n",
       "<text text-anchor=\"middle\" x=\"1070.5\" y=\"-208.3\" font-family=\"Times,serif\" font-size=\"14.00\" fill=\"#000000\">value = [0, 71]</text>\n",
       "</g>\n",
       "<!-- 31&#45;&gt;35 -->\n",
       "<g id=\"edge35\" class=\"edge\">\n",
       "<title>31&#45;&gt;35</title>\n",
       "<path fill=\"none\" stroke=\"#000000\" d=\"M994.5004,-296.9465C1007.1866,-285.2707 1021.3678,-272.219 1034.013,-260.5809\"/>\n",
       "<polygon fill=\"#000000\" stroke=\"#000000\" points=\"1036.6731,-262.8895 1041.6609,-253.5422 1031.9327,-257.7389 1036.6731,-262.8895\"/>\n",
       "</g>\n",
       "<!-- 33 -->\n",
       "<g id=\"node34\" class=\"node\">\n",
       "<title>33</title>\n",
       "<polygon fill=\"none\" stroke=\"#000000\" points=\"1003.5,-149.5 911.5,-149.5 911.5,-96.5 1003.5,-96.5 1003.5,-149.5\"/>\n",
       "<text text-anchor=\"middle\" x=\"957.5\" y=\"-134.3\" font-family=\"Times,serif\" font-size=\"14.00\" fill=\"#000000\">gini = 0.0</text>\n",
       "<text text-anchor=\"middle\" x=\"957.5\" y=\"-119.3\" font-family=\"Times,serif\" font-size=\"14.00\" fill=\"#000000\">samples = 1</text>\n",
       "<text text-anchor=\"middle\" x=\"957.5\" y=\"-104.3\" font-family=\"Times,serif\" font-size=\"14.00\" fill=\"#000000\">value = [1, 0]</text>\n",
       "</g>\n",
       "<!-- 32&#45;&gt;33 -->\n",
       "<g id=\"edge33\" class=\"edge\">\n",
       "<title>32&#45;&gt;33</title>\n",
       "<path fill=\"none\" stroke=\"#000000\" d=\"M957.5,-192.9465C957.5,-182.2621 957.5,-170.4254 957.5,-159.5742\"/>\n",
       "<polygon fill=\"#000000\" stroke=\"#000000\" points=\"961.0001,-159.5421 957.5,-149.5422 954.0001,-159.5422 961.0001,-159.5421\"/>\n",
       "</g>\n",
       "<!-- 34 -->\n",
       "<g id=\"node35\" class=\"node\">\n",
       "<title>34</title>\n",
       "<polygon fill=\"none\" stroke=\"#000000\" points=\"1113.5,-149.5 1021.5,-149.5 1021.5,-96.5 1113.5,-96.5 1113.5,-149.5\"/>\n",
       "<text text-anchor=\"middle\" x=\"1067.5\" y=\"-134.3\" font-family=\"Times,serif\" font-size=\"14.00\" fill=\"#000000\">gini = 0.0</text>\n",
       "<text text-anchor=\"middle\" x=\"1067.5\" y=\"-119.3\" font-family=\"Times,serif\" font-size=\"14.00\" fill=\"#000000\">samples = 3</text>\n",
       "<text text-anchor=\"middle\" x=\"1067.5\" y=\"-104.3\" font-family=\"Times,serif\" font-size=\"14.00\" fill=\"#000000\">value = [0, 3]</text>\n",
       "</g>\n",
       "<!-- 32&#45;&gt;34 -->\n",
       "<g id=\"edge34\" class=\"edge\">\n",
       "<title>32&#45;&gt;34</title>\n",
       "<path fill=\"none\" stroke=\"#000000\" d=\"M993.5181,-192.9465C1005.8675,-181.2707 1019.6722,-168.219 1031.9817,-156.5809\"/>\n",
       "<polygon fill=\"#000000\" stroke=\"#000000\" points=\"1034.5646,-158.9556 1039.4266,-149.5422 1029.7555,-153.869 1034.5646,-158.9556\"/>\n",
       "</g>\n",
       "</g>\n",
       "</svg>\n"
      ],
      "text/plain": [
       "<graphviz.files.Source at 0x7efed01ac700>"
      ]
     },
     "execution_count": 41,
     "metadata": {},
     "output_type": "execute_result"
    }
   ],
   "source": [
    "dot_data = tree.export_graphviz(model_sk, out_file=None)\n",
    "graph = graphviz.Source(dot_data)\n",
    "graph"
   ]
  },
  {
   "cell_type": "markdown",
   "metadata": {},
   "source": [
    "Check if we can avoid to overoptimize"
   ]
  },
  {
   "cell_type": "code",
   "execution_count": 42,
   "metadata": {},
   "outputs": [
    {
     "data": {
      "text/plain": [
       "0.993"
      ]
     },
     "execution_count": 42,
     "metadata": {},
     "output_type": "execute_result"
    }
   ],
   "source": [
    "model_sk = DecisionTreeClassifier(min_samples_leaf=5)\n",
    "model_sk.fit(X, y)\n",
    "model_sk.score(X, y)"
   ]
  },
  {
   "cell_type": "code",
   "execution_count": 43,
   "metadata": {},
   "outputs": [
    {
     "data": {
      "image/svg+xml": [
       "<?xml version=\"1.0\" encoding=\"UTF-8\" standalone=\"no\"?>\n",
       "<!DOCTYPE svg PUBLIC \"-//W3C//DTD SVG 1.1//EN\"\n",
       " \"http://www.w3.org/Graphics/SVG/1.1/DTD/svg11.dtd\">\n",
       "<!-- Generated by graphviz version 2.40.1 (20161225.0304)\n",
       " -->\n",
       "<!-- Title: Tree Pages: 1 -->\n",
       "<svg width=\"1128pt\" height=\"581pt\"\n",
       " viewBox=\"0.00 0.00 1127.50 581.00\" xmlns=\"http://www.w3.org/2000/svg\" xmlns:xlink=\"http://www.w3.org/1999/xlink\">\n",
       "<g id=\"graph0\" class=\"graph\" transform=\"scale(1 1) rotate(0) translate(4 577)\">\n",
       "<title>Tree</title>\n",
       "<polygon fill=\"#ffffff\" stroke=\"transparent\" points=\"-4,4 -4,-577 1123.5,-577 1123.5,4 -4,4\"/>\n",
       "<!-- 0 -->\n",
       "<g id=\"node1\" class=\"node\">\n",
       "<title>0</title>\n",
       "<polygon fill=\"none\" stroke=\"#000000\" points=\"817,-573 698,-573 698,-505 817,-505 817,-573\"/>\n",
       "<text text-anchor=\"middle\" x=\"757.5\" y=\"-557.8\" font-family=\"Times,serif\" font-size=\"14.00\" fill=\"#000000\">X[1] &lt;= 39.5</text>\n",
       "<text text-anchor=\"middle\" x=\"757.5\" y=\"-542.8\" font-family=\"Times,serif\" font-size=\"14.00\" fill=\"#000000\">gini = 0.305</text>\n",
       "<text text-anchor=\"middle\" x=\"757.5\" y=\"-527.8\" font-family=\"Times,serif\" font-size=\"14.00\" fill=\"#000000\">samples = 1000</text>\n",
       "<text text-anchor=\"middle\" x=\"757.5\" y=\"-512.8\" font-family=\"Times,serif\" font-size=\"14.00\" fill=\"#000000\">value = [188, 812]</text>\n",
       "</g>\n",
       "<!-- 1 -->\n",
       "<g id=\"node2\" class=\"node\">\n",
       "<title>1</title>\n",
       "<polygon fill=\"none\" stroke=\"#000000\" points=\"649,-469 530,-469 530,-401 649,-401 649,-469\"/>\n",
       "<text text-anchor=\"middle\" x=\"589.5\" y=\"-453.8\" font-family=\"Times,serif\" font-size=\"14.00\" fill=\"#000000\">X[0] &lt;= 42.5</text>\n",
       "<text text-anchor=\"middle\" x=\"589.5\" y=\"-438.8\" font-family=\"Times,serif\" font-size=\"14.00\" fill=\"#000000\">gini = 0.498</text>\n",
       "<text text-anchor=\"middle\" x=\"589.5\" y=\"-423.8\" font-family=\"Times,serif\" font-size=\"14.00\" fill=\"#000000\">samples = 369</text>\n",
       "<text text-anchor=\"middle\" x=\"589.5\" y=\"-408.8\" font-family=\"Times,serif\" font-size=\"14.00\" fill=\"#000000\">value = [172, 197]</text>\n",
       "</g>\n",
       "<!-- 0&#45;&gt;1 -->\n",
       "<g id=\"edge1\" class=\"edge\">\n",
       "<title>0&#45;&gt;1</title>\n",
       "<path fill=\"none\" stroke=\"#000000\" d=\"M702.4905,-504.9465C686.8264,-495.2497 669.6293,-484.6039 653.4804,-474.6069\"/>\n",
       "<polygon fill=\"#000000\" stroke=\"#000000\" points=\"654.978,-471.4177 644.6331,-469.13 651.2935,-477.3695 654.978,-471.4177\"/>\n",
       "<text text-anchor=\"middle\" x=\"649.2139\" y=\"-484.8983\" font-family=\"Times,serif\" font-size=\"14.00\" fill=\"#000000\">True</text>\n",
       "</g>\n",
       "<!-- 16 -->\n",
       "<g id=\"node17\" class=\"node\">\n",
       "<title>16</title>\n",
       "<polygon fill=\"none\" stroke=\"#000000\" points=\"849.5,-469 737.5,-469 737.5,-401 849.5,-401 849.5,-469\"/>\n",
       "<text text-anchor=\"middle\" x=\"793.5\" y=\"-453.8\" font-family=\"Times,serif\" font-size=\"14.00\" fill=\"#000000\">X[1] &lt;= 49.5</text>\n",
       "<text text-anchor=\"middle\" x=\"793.5\" y=\"-438.8\" font-family=\"Times,serif\" font-size=\"14.00\" fill=\"#000000\">gini = 0.049</text>\n",
       "<text text-anchor=\"middle\" x=\"793.5\" y=\"-423.8\" font-family=\"Times,serif\" font-size=\"14.00\" fill=\"#000000\">samples = 631</text>\n",
       "<text text-anchor=\"middle\" x=\"793.5\" y=\"-408.8\" font-family=\"Times,serif\" font-size=\"14.00\" fill=\"#000000\">value = [16, 615]</text>\n",
       "</g>\n",
       "<!-- 0&#45;&gt;16 -->\n",
       "<g id=\"edge16\" class=\"edge\">\n",
       "<title>0&#45;&gt;16</title>\n",
       "<path fill=\"none\" stroke=\"#000000\" d=\"M769.2877,-504.9465C772.1781,-496.5965 775.3121,-487.5427 778.3365,-478.8056\"/>\n",
       "<polygon fill=\"#000000\" stroke=\"#000000\" points=\"781.7221,-479.7248 781.6858,-469.13 775.1071,-477.435 781.7221,-479.7248\"/>\n",
       "<text text-anchor=\"middle\" x=\"790.4238\" y=\"-483.4202\" font-family=\"Times,serif\" font-size=\"14.00\" fill=\"#000000\">False</text>\n",
       "</g>\n",
       "<!-- 2 -->\n",
       "<g id=\"node3\" class=\"node\">\n",
       "<title>2</title>\n",
       "<polygon fill=\"none\" stroke=\"#000000\" points=\"388,-365 283,-365 283,-297 388,-297 388,-365\"/>\n",
       "<text text-anchor=\"middle\" x=\"335.5\" y=\"-349.8\" font-family=\"Times,serif\" font-size=\"14.00\" fill=\"#000000\">X[0] &lt;= 37.5</text>\n",
       "<text text-anchor=\"middle\" x=\"335.5\" y=\"-334.8\" font-family=\"Times,serif\" font-size=\"14.00\" fill=\"#000000\">gini = 0.057</text>\n",
       "<text text-anchor=\"middle\" x=\"335.5\" y=\"-319.8\" font-family=\"Times,serif\" font-size=\"14.00\" fill=\"#000000\">samples = 170</text>\n",
       "<text text-anchor=\"middle\" x=\"335.5\" y=\"-304.8\" font-family=\"Times,serif\" font-size=\"14.00\" fill=\"#000000\">value = [165, 5]</text>\n",
       "</g>\n",
       "<!-- 1&#45;&gt;2 -->\n",
       "<g id=\"edge2\" class=\"edge\">\n",
       "<title>1&#45;&gt;2</title>\n",
       "<path fill=\"none\" stroke=\"#000000\" d=\"M529.9483,-410.6166C490.1742,-394.3312 437.9664,-372.9547 397.6632,-356.4526\"/>\n",
       "<polygon fill=\"#000000\" stroke=\"#000000\" points=\"398.7926,-353.1331 388.2121,-352.5829 396.1402,-359.6111 398.7926,-353.1331\"/>\n",
       "</g>\n",
       "<!-- 9 -->\n",
       "<g id=\"node10\" class=\"node\">\n",
       "<title>9</title>\n",
       "<polygon fill=\"none\" stroke=\"#000000\" points=\"642,-365 537,-365 537,-297 642,-297 642,-365\"/>\n",
       "<text text-anchor=\"middle\" x=\"589.5\" y=\"-349.8\" font-family=\"Times,serif\" font-size=\"14.00\" fill=\"#000000\">X[0] &lt;= 49.5</text>\n",
       "<text text-anchor=\"middle\" x=\"589.5\" y=\"-334.8\" font-family=\"Times,serif\" font-size=\"14.00\" fill=\"#000000\">gini = 0.068</text>\n",
       "<text text-anchor=\"middle\" x=\"589.5\" y=\"-319.8\" font-family=\"Times,serif\" font-size=\"14.00\" fill=\"#000000\">samples = 199</text>\n",
       "<text text-anchor=\"middle\" x=\"589.5\" y=\"-304.8\" font-family=\"Times,serif\" font-size=\"14.00\" fill=\"#000000\">value = [7, 192]</text>\n",
       "</g>\n",
       "<!-- 1&#45;&gt;9 -->\n",
       "<g id=\"edge9\" class=\"edge\">\n",
       "<title>1&#45;&gt;9</title>\n",
       "<path fill=\"none\" stroke=\"#000000\" d=\"M589.5,-400.9465C589.5,-392.776 589.5,-383.9318 589.5,-375.3697\"/>\n",
       "<polygon fill=\"#000000\" stroke=\"#000000\" points=\"593.0001,-375.13 589.5,-365.13 586.0001,-375.13 593.0001,-375.13\"/>\n",
       "</g>\n",
       "<!-- 3 -->\n",
       "<g id=\"node4\" class=\"node\">\n",
       "<title>3</title>\n",
       "<polygon fill=\"none\" stroke=\"#000000\" points=\"222,-261 117,-261 117,-193 222,-193 222,-261\"/>\n",
       "<text text-anchor=\"middle\" x=\"169.5\" y=\"-245.8\" font-family=\"Times,serif\" font-size=\"14.00\" fill=\"#000000\">X[1] &lt;= 38.5</text>\n",
       "<text text-anchor=\"middle\" x=\"169.5\" y=\"-230.8\" font-family=\"Times,serif\" font-size=\"14.00\" fill=\"#000000\">gini = 0.013</text>\n",
       "<text text-anchor=\"middle\" x=\"169.5\" y=\"-215.8\" font-family=\"Times,serif\" font-size=\"14.00\" fill=\"#000000\">samples = 152</text>\n",
       "<text text-anchor=\"middle\" x=\"169.5\" y=\"-200.8\" font-family=\"Times,serif\" font-size=\"14.00\" fill=\"#000000\">value = [151, 1]</text>\n",
       "</g>\n",
       "<!-- 2&#45;&gt;3 -->\n",
       "<g id=\"edge3\" class=\"edge\">\n",
       "<title>2&#45;&gt;3</title>\n",
       "<path fill=\"none\" stroke=\"#000000\" d=\"M282.9766,-298.0938C266.4757,-287.7559 248.1087,-276.2488 231.0414,-265.556\"/>\n",
       "<polygon fill=\"#000000\" stroke=\"#000000\" points=\"232.584,-262.3924 222.2515,-260.0491 228.8676,-268.3243 232.584,-262.3924\"/>\n",
       "</g>\n",
       "<!-- 6 -->\n",
       "<g id=\"node7\" class=\"node\">\n",
       "<title>6</title>\n",
       "<polygon fill=\"none\" stroke=\"#000000\" points=\"384.5,-261 286.5,-261 286.5,-193 384.5,-193 384.5,-261\"/>\n",
       "<text text-anchor=\"middle\" x=\"335.5\" y=\"-245.8\" font-family=\"Times,serif\" font-size=\"14.00\" fill=\"#000000\">X[1] &lt;= 28.5</text>\n",
       "<text text-anchor=\"middle\" x=\"335.5\" y=\"-230.8\" font-family=\"Times,serif\" font-size=\"14.00\" fill=\"#000000\">gini = 0.346</text>\n",
       "<text text-anchor=\"middle\" x=\"335.5\" y=\"-215.8\" font-family=\"Times,serif\" font-size=\"14.00\" fill=\"#000000\">samples = 18</text>\n",
       "<text text-anchor=\"middle\" x=\"335.5\" y=\"-200.8\" font-family=\"Times,serif\" font-size=\"14.00\" fill=\"#000000\">value = [14, 4]</text>\n",
       "</g>\n",
       "<!-- 2&#45;&gt;6 -->\n",
       "<g id=\"edge6\" class=\"edge\">\n",
       "<title>2&#45;&gt;6</title>\n",
       "<path fill=\"none\" stroke=\"#000000\" d=\"M335.5,-296.9465C335.5,-288.776 335.5,-279.9318 335.5,-271.3697\"/>\n",
       "<polygon fill=\"#000000\" stroke=\"#000000\" points=\"339.0001,-271.13 335.5,-261.13 332.0001,-271.13 339.0001,-271.13\"/>\n",
       "</g>\n",
       "<!-- 4 -->\n",
       "<g id=\"node5\" class=\"node\">\n",
       "<title>4</title>\n",
       "<polygon fill=\"none\" stroke=\"#000000\" points=\"105,-149.5 0,-149.5 0,-96.5 105,-96.5 105,-149.5\"/>\n",
       "<text text-anchor=\"middle\" x=\"52.5\" y=\"-134.3\" font-family=\"Times,serif\" font-size=\"14.00\" fill=\"#000000\">gini = 0.0</text>\n",
       "<text text-anchor=\"middle\" x=\"52.5\" y=\"-119.3\" font-family=\"Times,serif\" font-size=\"14.00\" fill=\"#000000\">samples = 147</text>\n",
       "<text text-anchor=\"middle\" x=\"52.5\" y=\"-104.3\" font-family=\"Times,serif\" font-size=\"14.00\" fill=\"#000000\">value = [147, 0]</text>\n",
       "</g>\n",
       "<!-- 3&#45;&gt;4 -->\n",
       "<g id=\"edge4\" class=\"edge\">\n",
       "<title>3&#45;&gt;4</title>\n",
       "<path fill=\"none\" stroke=\"#000000\" d=\"M131.1898,-192.9465C117.9306,-181.1606 103.0942,-167.9726 89.9084,-156.2519\"/>\n",
       "<polygon fill=\"#000000\" stroke=\"#000000\" points=\"92.1593,-153.5699 82.3599,-149.5422 87.5088,-158.8018 92.1593,-153.5699\"/>\n",
       "</g>\n",
       "<!-- 5 -->\n",
       "<g id=\"node6\" class=\"node\">\n",
       "<title>5</title>\n",
       "<polygon fill=\"none\" stroke=\"#000000\" points=\"215.5,-149.5 123.5,-149.5 123.5,-96.5 215.5,-96.5 215.5,-149.5\"/>\n",
       "<text text-anchor=\"middle\" x=\"169.5\" y=\"-134.3\" font-family=\"Times,serif\" font-size=\"14.00\" fill=\"#000000\">gini = 0.32</text>\n",
       "<text text-anchor=\"middle\" x=\"169.5\" y=\"-119.3\" font-family=\"Times,serif\" font-size=\"14.00\" fill=\"#000000\">samples = 5</text>\n",
       "<text text-anchor=\"middle\" x=\"169.5\" y=\"-104.3\" font-family=\"Times,serif\" font-size=\"14.00\" fill=\"#000000\">value = [4, 1]</text>\n",
       "</g>\n",
       "<!-- 3&#45;&gt;5 -->\n",
       "<g id=\"edge5\" class=\"edge\">\n",
       "<title>3&#45;&gt;5</title>\n",
       "<path fill=\"none\" stroke=\"#000000\" d=\"M169.5,-192.9465C169.5,-182.2621 169.5,-170.4254 169.5,-159.5742\"/>\n",
       "<polygon fill=\"#000000\" stroke=\"#000000\" points=\"173.0001,-159.5421 169.5,-149.5422 166.0001,-159.5422 173.0001,-159.5421\"/>\n",
       "</g>\n",
       "<!-- 7 -->\n",
       "<g id=\"node8\" class=\"node\">\n",
       "<title>7</title>\n",
       "<polygon fill=\"none\" stroke=\"#000000\" points=\"331.5,-149.5 233.5,-149.5 233.5,-96.5 331.5,-96.5 331.5,-149.5\"/>\n",
       "<text text-anchor=\"middle\" x=\"282.5\" y=\"-134.3\" font-family=\"Times,serif\" font-size=\"14.00\" fill=\"#000000\">gini = 0.0</text>\n",
       "<text text-anchor=\"middle\" x=\"282.5\" y=\"-119.3\" font-family=\"Times,serif\" font-size=\"14.00\" fill=\"#000000\">samples = 13</text>\n",
       "<text text-anchor=\"middle\" x=\"282.5\" y=\"-104.3\" font-family=\"Times,serif\" font-size=\"14.00\" fill=\"#000000\">value = [13, 0]</text>\n",
       "</g>\n",
       "<!-- 6&#45;&gt;7 -->\n",
       "<g id=\"edge7\" class=\"edge\">\n",
       "<title>6&#45;&gt;7</title>\n",
       "<path fill=\"none\" stroke=\"#000000\" d=\"M318.1458,-192.9465C312.5325,-181.9316 306.295,-169.6922 300.6272,-158.5703\"/>\n",
       "<polygon fill=\"#000000\" stroke=\"#000000\" points=\"303.6853,-156.8627 296.0263,-149.5422 297.4485,-160.0411 303.6853,-156.8627\"/>\n",
       "</g>\n",
       "<!-- 8 -->\n",
       "<g id=\"node9\" class=\"node\">\n",
       "<title>8</title>\n",
       "<polygon fill=\"none\" stroke=\"#000000\" points=\"441.5,-149.5 349.5,-149.5 349.5,-96.5 441.5,-96.5 441.5,-149.5\"/>\n",
       "<text text-anchor=\"middle\" x=\"395.5\" y=\"-134.3\" font-family=\"Times,serif\" font-size=\"14.00\" fill=\"#000000\">gini = 0.32</text>\n",
       "<text text-anchor=\"middle\" x=\"395.5\" y=\"-119.3\" font-family=\"Times,serif\" font-size=\"14.00\" fill=\"#000000\">samples = 5</text>\n",
       "<text text-anchor=\"middle\" x=\"395.5\" y=\"-104.3\" font-family=\"Times,serif\" font-size=\"14.00\" fill=\"#000000\">value = [1, 4]</text>\n",
       "</g>\n",
       "<!-- 6&#45;&gt;8 -->\n",
       "<g id=\"edge8\" class=\"edge\">\n",
       "<title>6&#45;&gt;8</title>\n",
       "<path fill=\"none\" stroke=\"#000000\" d=\"M355.1462,-192.9465C361.5645,-181.8215 368.7035,-169.4473 375.171,-158.237\"/>\n",
       "<polygon fill=\"#000000\" stroke=\"#000000\" points=\"378.2216,-159.9531 380.1872,-149.5422 372.1583,-156.455 378.2216,-159.9531\"/>\n",
       "</g>\n",
       "<!-- 10 -->\n",
       "<g id=\"node11\" class=\"node\">\n",
       "<title>10</title>\n",
       "<polygon fill=\"none\" stroke=\"#000000\" points=\"578.5,-261 480.5,-261 480.5,-193 578.5,-193 578.5,-261\"/>\n",
       "<text text-anchor=\"middle\" x=\"529.5\" y=\"-245.8\" font-family=\"Times,serif\" font-size=\"14.00\" fill=\"#000000\">X[1] &lt;= 19.0</text>\n",
       "<text text-anchor=\"middle\" x=\"529.5\" y=\"-230.8\" font-family=\"Times,serif\" font-size=\"14.00\" fill=\"#000000\">gini = 0.413</text>\n",
       "<text text-anchor=\"middle\" x=\"529.5\" y=\"-215.8\" font-family=\"Times,serif\" font-size=\"14.00\" fill=\"#000000\">samples = 24</text>\n",
       "<text text-anchor=\"middle\" x=\"529.5\" y=\"-200.8\" font-family=\"Times,serif\" font-size=\"14.00\" fill=\"#000000\">value = [7, 17]</text>\n",
       "</g>\n",
       "<!-- 9&#45;&gt;10 -->\n",
       "<g id=\"edge10\" class=\"edge\">\n",
       "<title>9&#45;&gt;10</title>\n",
       "<path fill=\"none\" stroke=\"#000000\" d=\"M569.8538,-296.9465C564.881,-288.3271 559.4757,-278.9579 554.2852,-269.9611\"/>\n",
       "<polygon fill=\"#000000\" stroke=\"#000000\" points=\"557.2193,-268.0428 549.1904,-261.13 551.156,-271.5409 557.2193,-268.0428\"/>\n",
       "</g>\n",
       "<!-- 15 -->\n",
       "<g id=\"node16\" class=\"node\">\n",
       "<title>15</title>\n",
       "<polygon fill=\"none\" stroke=\"#000000\" points=\"702,-253.5 597,-253.5 597,-200.5 702,-200.5 702,-253.5\"/>\n",
       "<text text-anchor=\"middle\" x=\"649.5\" y=\"-238.3\" font-family=\"Times,serif\" font-size=\"14.00\" fill=\"#000000\">gini = 0.0</text>\n",
       "<text text-anchor=\"middle\" x=\"649.5\" y=\"-223.3\" font-family=\"Times,serif\" font-size=\"14.00\" fill=\"#000000\">samples = 175</text>\n",
       "<text text-anchor=\"middle\" x=\"649.5\" y=\"-208.3\" font-family=\"Times,serif\" font-size=\"14.00\" fill=\"#000000\">value = [0, 175]</text>\n",
       "</g>\n",
       "<!-- 9&#45;&gt;15 -->\n",
       "<g id=\"edge15\" class=\"edge\">\n",
       "<title>9&#45;&gt;15</title>\n",
       "<path fill=\"none\" stroke=\"#000000\" d=\"M609.1462,-296.9465C615.5645,-285.8215 622.7035,-273.4473 629.171,-262.237\"/>\n",
       "<polygon fill=\"#000000\" stroke=\"#000000\" points=\"632.2216,-263.9531 634.1872,-253.5422 626.1583,-260.455 632.2216,-263.9531\"/>\n",
       "</g>\n",
       "<!-- 11 -->\n",
       "<g id=\"node12\" class=\"node\">\n",
       "<title>11</title>\n",
       "<polygon fill=\"none\" stroke=\"#000000\" points=\"551.5,-157 459.5,-157 459.5,-89 551.5,-89 551.5,-157\"/>\n",
       "<text text-anchor=\"middle\" x=\"505.5\" y=\"-141.8\" font-family=\"Times,serif\" font-size=\"14.00\" fill=\"#000000\">X[0] &lt;= 47.5</text>\n",
       "<text text-anchor=\"middle\" x=\"505.5\" y=\"-126.8\" font-family=\"Times,serif\" font-size=\"14.00\" fill=\"#000000\">gini = 0.42</text>\n",
       "<text text-anchor=\"middle\" x=\"505.5\" y=\"-111.8\" font-family=\"Times,serif\" font-size=\"14.00\" fill=\"#000000\">samples = 10</text>\n",
       "<text text-anchor=\"middle\" x=\"505.5\" y=\"-96.8\" font-family=\"Times,serif\" font-size=\"14.00\" fill=\"#000000\">value = [7, 3]</text>\n",
       "</g>\n",
       "<!-- 10&#45;&gt;11 -->\n",
       "<g id=\"edge11\" class=\"edge\">\n",
       "<title>10&#45;&gt;11</title>\n",
       "<path fill=\"none\" stroke=\"#000000\" d=\"M521.6415,-192.9465C519.7353,-184.6863 517.6702,-175.7374 515.674,-167.0875\"/>\n",
       "<polygon fill=\"#000000\" stroke=\"#000000\" points=\"519.0352,-166.0869 513.3762,-157.13 512.2145,-167.6609 519.0352,-166.0869\"/>\n",
       "</g>\n",
       "<!-- 14 -->\n",
       "<g id=\"node15\" class=\"node\">\n",
       "<title>14</title>\n",
       "<polygon fill=\"none\" stroke=\"#000000\" points=\"667.5,-149.5 569.5,-149.5 569.5,-96.5 667.5,-96.5 667.5,-149.5\"/>\n",
       "<text text-anchor=\"middle\" x=\"618.5\" y=\"-134.3\" font-family=\"Times,serif\" font-size=\"14.00\" fill=\"#000000\">gini = 0.0</text>\n",
       "<text text-anchor=\"middle\" x=\"618.5\" y=\"-119.3\" font-family=\"Times,serif\" font-size=\"14.00\" fill=\"#000000\">samples = 14</text>\n",
       "<text text-anchor=\"middle\" x=\"618.5\" y=\"-104.3\" font-family=\"Times,serif\" font-size=\"14.00\" fill=\"#000000\">value = [0, 14]</text>\n",
       "</g>\n",
       "<!-- 10&#45;&gt;14 -->\n",
       "<g id=\"edge14\" class=\"edge\">\n",
       "<title>10&#45;&gt;14</title>\n",
       "<path fill=\"none\" stroke=\"#000000\" d=\"M558.6419,-192.9465C568.4452,-181.491 579.3819,-168.711 589.1975,-157.2412\"/>\n",
       "<polygon fill=\"#000000\" stroke=\"#000000\" points=\"591.9433,-159.4156 595.786,-149.5422 586.6249,-154.8642 591.9433,-159.4156\"/>\n",
       "</g>\n",
       "<!-- 12 -->\n",
       "<g id=\"node13\" class=\"node\">\n",
       "<title>12</title>\n",
       "<polygon fill=\"none\" stroke=\"#000000\" points=\"496.5,-53 404.5,-53 404.5,0 496.5,0 496.5,-53\"/>\n",
       "<text text-anchor=\"middle\" x=\"450.5\" y=\"-37.8\" font-family=\"Times,serif\" font-size=\"14.00\" fill=\"#000000\">gini = 0.0</text>\n",
       "<text text-anchor=\"middle\" x=\"450.5\" y=\"-22.8\" font-family=\"Times,serif\" font-size=\"14.00\" fill=\"#000000\">samples = 5</text>\n",
       "<text text-anchor=\"middle\" x=\"450.5\" y=\"-7.8\" font-family=\"Times,serif\" font-size=\"14.00\" fill=\"#000000\">value = [5, 0]</text>\n",
       "</g>\n",
       "<!-- 11&#45;&gt;12 -->\n",
       "<g id=\"edge12\" class=\"edge\">\n",
       "<title>11&#45;&gt;12</title>\n",
       "<path fill=\"none\" stroke=\"#000000\" d=\"M486.1091,-88.9777C481.151,-80.2786 475.8067,-70.9018 470.8042,-62.1247\"/>\n",
       "<polygon fill=\"#000000\" stroke=\"#000000\" points=\"473.7378,-60.2033 465.7452,-53.2485 467.6562,-63.6696 473.7378,-60.2033\"/>\n",
       "</g>\n",
       "<!-- 13 -->\n",
       "<g id=\"node14\" class=\"node\">\n",
       "<title>13</title>\n",
       "<polygon fill=\"none\" stroke=\"#000000\" points=\"606.5,-53 514.5,-53 514.5,0 606.5,0 606.5,-53\"/>\n",
       "<text text-anchor=\"middle\" x=\"560.5\" y=\"-37.8\" font-family=\"Times,serif\" font-size=\"14.00\" fill=\"#000000\">gini = 0.48</text>\n",
       "<text text-anchor=\"middle\" x=\"560.5\" y=\"-22.8\" font-family=\"Times,serif\" font-size=\"14.00\" fill=\"#000000\">samples = 5</text>\n",
       "<text text-anchor=\"middle\" x=\"560.5\" y=\"-7.8\" font-family=\"Times,serif\" font-size=\"14.00\" fill=\"#000000\">value = [2, 3]</text>\n",
       "</g>\n",
       "<!-- 11&#45;&gt;13 -->\n",
       "<g id=\"edge13\" class=\"edge\">\n",
       "<title>11&#45;&gt;13</title>\n",
       "<path fill=\"none\" stroke=\"#000000\" d=\"M524.8909,-88.9777C529.849,-80.2786 535.1933,-70.9018 540.1958,-62.1247\"/>\n",
       "<polygon fill=\"#000000\" stroke=\"#000000\" points=\"543.3438,-63.6696 545.2548,-53.2485 537.2622,-60.2033 543.3438,-63.6696\"/>\n",
       "</g>\n",
       "<!-- 17 -->\n",
       "<g id=\"node18\" class=\"node\">\n",
       "<title>17</title>\n",
       "<polygon fill=\"none\" stroke=\"#000000\" points=\"846,-365 741,-365 741,-297 846,-297 846,-365\"/>\n",
       "<text text-anchor=\"middle\" x=\"793.5\" y=\"-349.8\" font-family=\"Times,serif\" font-size=\"14.00\" fill=\"#000000\">X[0] &lt;= 23.5</text>\n",
       "<text text-anchor=\"middle\" x=\"793.5\" y=\"-334.8\" font-family=\"Times,serif\" font-size=\"14.00\" fill=\"#000000\">gini = 0.287</text>\n",
       "<text text-anchor=\"middle\" x=\"793.5\" y=\"-319.8\" font-family=\"Times,serif\" font-size=\"14.00\" fill=\"#000000\">samples = 92</text>\n",
       "<text text-anchor=\"middle\" x=\"793.5\" y=\"-304.8\" font-family=\"Times,serif\" font-size=\"14.00\" fill=\"#000000\">value = [16, 76]</text>\n",
       "</g>\n",
       "<!-- 16&#45;&gt;17 -->\n",
       "<g id=\"edge17\" class=\"edge\">\n",
       "<title>16&#45;&gt;17</title>\n",
       "<path fill=\"none\" stroke=\"#000000\" d=\"M793.5,-400.9465C793.5,-392.776 793.5,-383.9318 793.5,-375.3697\"/>\n",
       "<polygon fill=\"#000000\" stroke=\"#000000\" points=\"797.0001,-375.13 793.5,-365.13 790.0001,-375.13 797.0001,-375.13\"/>\n",
       "</g>\n",
       "<!-- 24 -->\n",
       "<g id=\"node25\" class=\"node\">\n",
       "<title>24</title>\n",
       "<polygon fill=\"none\" stroke=\"#000000\" points=\"969,-357.5 864,-357.5 864,-304.5 969,-304.5 969,-357.5\"/>\n",
       "<text text-anchor=\"middle\" x=\"916.5\" y=\"-342.3\" font-family=\"Times,serif\" font-size=\"14.00\" fill=\"#000000\">gini = 0.0</text>\n",
       "<text text-anchor=\"middle\" x=\"916.5\" y=\"-327.3\" font-family=\"Times,serif\" font-size=\"14.00\" fill=\"#000000\">samples = 539</text>\n",
       "<text text-anchor=\"middle\" x=\"916.5\" y=\"-312.3\" font-family=\"Times,serif\" font-size=\"14.00\" fill=\"#000000\">value = [0, 539]</text>\n",
       "</g>\n",
       "<!-- 16&#45;&gt;24 -->\n",
       "<g id=\"edge24\" class=\"edge\">\n",
       "<title>16&#45;&gt;24</title>\n",
       "<path fill=\"none\" stroke=\"#000000\" d=\"M833.7748,-400.9465C847.7139,-389.1606 863.3112,-375.9726 877.1732,-364.2519\"/>\n",
       "<polygon fill=\"#000000\" stroke=\"#000000\" points=\"879.7324,-366.6715 885.1088,-357.5422 875.2127,-361.3262 879.7324,-366.6715\"/>\n",
       "</g>\n",
       "<!-- 18 -->\n",
       "<g id=\"node19\" class=\"node\">\n",
       "<title>18</title>\n",
       "<polygon fill=\"none\" stroke=\"#000000\" points=\"842.5,-261 744.5,-261 744.5,-193 842.5,-193 842.5,-261\"/>\n",
       "<text text-anchor=\"middle\" x=\"793.5\" y=\"-245.8\" font-family=\"Times,serif\" font-size=\"14.00\" fill=\"#000000\">X[0] &lt;= 17.0</text>\n",
       "<text text-anchor=\"middle\" x=\"793.5\" y=\"-230.8\" font-family=\"Times,serif\" font-size=\"14.00\" fill=\"#000000\">gini = 0.208</text>\n",
       "<text text-anchor=\"middle\" x=\"793.5\" y=\"-215.8\" font-family=\"Times,serif\" font-size=\"14.00\" fill=\"#000000\">samples = 17</text>\n",
       "<text text-anchor=\"middle\" x=\"793.5\" y=\"-200.8\" font-family=\"Times,serif\" font-size=\"14.00\" fill=\"#000000\">value = [15, 2]</text>\n",
       "</g>\n",
       "<!-- 17&#45;&gt;18 -->\n",
       "<g id=\"edge18\" class=\"edge\">\n",
       "<title>17&#45;&gt;18</title>\n",
       "<path fill=\"none\" stroke=\"#000000\" d=\"M793.5,-296.9465C793.5,-288.776 793.5,-279.9318 793.5,-271.3697\"/>\n",
       "<polygon fill=\"#000000\" stroke=\"#000000\" points=\"797.0001,-271.13 793.5,-261.13 790.0001,-271.13 797.0001,-271.13\"/>\n",
       "</g>\n",
       "<!-- 21 -->\n",
       "<g id=\"node22\" class=\"node\">\n",
       "<title>21</title>\n",
       "<polygon fill=\"none\" stroke=\"#000000\" points=\"1006.5,-261 908.5,-261 908.5,-193 1006.5,-193 1006.5,-261\"/>\n",
       "<text text-anchor=\"middle\" x=\"957.5\" y=\"-245.8\" font-family=\"Times,serif\" font-size=\"14.00\" fill=\"#000000\">X[0] &lt;= 29.5</text>\n",
       "<text text-anchor=\"middle\" x=\"957.5\" y=\"-230.8\" font-family=\"Times,serif\" font-size=\"14.00\" fill=\"#000000\">gini = 0.026</text>\n",
       "<text text-anchor=\"middle\" x=\"957.5\" y=\"-215.8\" font-family=\"Times,serif\" font-size=\"14.00\" fill=\"#000000\">samples = 75</text>\n",
       "<text text-anchor=\"middle\" x=\"957.5\" y=\"-200.8\" font-family=\"Times,serif\" font-size=\"14.00\" fill=\"#000000\">value = [1, 74]</text>\n",
       "</g>\n",
       "<!-- 17&#45;&gt;21 -->\n",
       "<g id=\"edge21\" class=\"edge\">\n",
       "<title>17&#45;&gt;21</title>\n",
       "<path fill=\"none\" stroke=\"#000000\" d=\"M846.2934,-297.5213C863.2776,-286.7508 882.1848,-274.7609 899.5208,-263.7673\"/>\n",
       "<polygon fill=\"#000000\" stroke=\"#000000\" points=\"901.8541,-266.4321 908.4248,-258.1209 898.1053,-260.5205 901.8541,-266.4321\"/>\n",
       "</g>\n",
       "<!-- 19 -->\n",
       "<g id=\"node20\" class=\"node\">\n",
       "<title>19</title>\n",
       "<polygon fill=\"none\" stroke=\"#000000\" points=\"783.5,-149.5 685.5,-149.5 685.5,-96.5 783.5,-96.5 783.5,-149.5\"/>\n",
       "<text text-anchor=\"middle\" x=\"734.5\" y=\"-134.3\" font-family=\"Times,serif\" font-size=\"14.00\" fill=\"#000000\">gini = 0.0</text>\n",
       "<text text-anchor=\"middle\" x=\"734.5\" y=\"-119.3\" font-family=\"Times,serif\" font-size=\"14.00\" fill=\"#000000\">samples = 12</text>\n",
       "<text text-anchor=\"middle\" x=\"734.5\" y=\"-104.3\" font-family=\"Times,serif\" font-size=\"14.00\" fill=\"#000000\">value = [12, 0]</text>\n",
       "</g>\n",
       "<!-- 18&#45;&gt;19 -->\n",
       "<g id=\"edge19\" class=\"edge\">\n",
       "<title>18&#45;&gt;19</title>\n",
       "<path fill=\"none\" stroke=\"#000000\" d=\"M774.1812,-192.9465C767.9324,-181.9316 760.9888,-169.6922 754.6793,-158.5703\"/>\n",
       "<polygon fill=\"#000000\" stroke=\"#000000\" points=\"757.5362,-156.513 749.5576,-149.5422 751.4477,-159.967 757.5362,-156.513\"/>\n",
       "</g>\n",
       "<!-- 20 -->\n",
       "<g id=\"node21\" class=\"node\">\n",
       "<title>20</title>\n",
       "<polygon fill=\"none\" stroke=\"#000000\" points=\"893.5,-149.5 801.5,-149.5 801.5,-96.5 893.5,-96.5 893.5,-149.5\"/>\n",
       "<text text-anchor=\"middle\" x=\"847.5\" y=\"-134.3\" font-family=\"Times,serif\" font-size=\"14.00\" fill=\"#000000\">gini = 0.48</text>\n",
       "<text text-anchor=\"middle\" x=\"847.5\" y=\"-119.3\" font-family=\"Times,serif\" font-size=\"14.00\" fill=\"#000000\">samples = 5</text>\n",
       "<text text-anchor=\"middle\" x=\"847.5\" y=\"-104.3\" font-family=\"Times,serif\" font-size=\"14.00\" fill=\"#000000\">value = [3, 2]</text>\n",
       "</g>\n",
       "<!-- 18&#45;&gt;20 -->\n",
       "<g id=\"edge20\" class=\"edge\">\n",
       "<title>18&#45;&gt;20</title>\n",
       "<path fill=\"none\" stroke=\"#000000\" d=\"M811.1816,-192.9465C816.9009,-181.9316 823.256,-169.6922 829.0308,-158.5703\"/>\n",
       "<polygon fill=\"#000000\" stroke=\"#000000\" points=\"832.2165,-160.03 833.7185,-149.5422 826.004,-156.8043 832.2165,-160.03\"/>\n",
       "</g>\n",
       "<!-- 22 -->\n",
       "<g id=\"node23\" class=\"node\">\n",
       "<title>22</title>\n",
       "<polygon fill=\"none\" stroke=\"#000000\" points=\"1003.5,-149.5 911.5,-149.5 911.5,-96.5 1003.5,-96.5 1003.5,-149.5\"/>\n",
       "<text text-anchor=\"middle\" x=\"957.5\" y=\"-134.3\" font-family=\"Times,serif\" font-size=\"14.00\" fill=\"#000000\">gini = 0.32</text>\n",
       "<text text-anchor=\"middle\" x=\"957.5\" y=\"-119.3\" font-family=\"Times,serif\" font-size=\"14.00\" fill=\"#000000\">samples = 5</text>\n",
       "<text text-anchor=\"middle\" x=\"957.5\" y=\"-104.3\" font-family=\"Times,serif\" font-size=\"14.00\" fill=\"#000000\">value = [1, 4]</text>\n",
       "</g>\n",
       "<!-- 21&#45;&gt;22 -->\n",
       "<g id=\"edge22\" class=\"edge\">\n",
       "<title>21&#45;&gt;22</title>\n",
       "<path fill=\"none\" stroke=\"#000000\" d=\"M957.5,-192.9465C957.5,-182.2621 957.5,-170.4254 957.5,-159.5742\"/>\n",
       "<polygon fill=\"#000000\" stroke=\"#000000\" points=\"961.0001,-159.5421 957.5,-149.5422 954.0001,-159.5422 961.0001,-159.5421\"/>\n",
       "</g>\n",
       "<!-- 23 -->\n",
       "<g id=\"node24\" class=\"node\">\n",
       "<title>23</title>\n",
       "<polygon fill=\"none\" stroke=\"#000000\" points=\"1119.5,-149.5 1021.5,-149.5 1021.5,-96.5 1119.5,-96.5 1119.5,-149.5\"/>\n",
       "<text text-anchor=\"middle\" x=\"1070.5\" y=\"-134.3\" font-family=\"Times,serif\" font-size=\"14.00\" fill=\"#000000\">gini = 0.0</text>\n",
       "<text text-anchor=\"middle\" x=\"1070.5\" y=\"-119.3\" font-family=\"Times,serif\" font-size=\"14.00\" fill=\"#000000\">samples = 70</text>\n",
       "<text text-anchor=\"middle\" x=\"1070.5\" y=\"-104.3\" font-family=\"Times,serif\" font-size=\"14.00\" fill=\"#000000\">value = [0, 70]</text>\n",
       "</g>\n",
       "<!-- 21&#45;&gt;23 -->\n",
       "<g id=\"edge23\" class=\"edge\">\n",
       "<title>21&#45;&gt;23</title>\n",
       "<path fill=\"none\" stroke=\"#000000\" d=\"M994.5004,-192.9465C1007.1866,-181.2707 1021.3678,-168.219 1034.013,-156.5809\"/>\n",
       "<polygon fill=\"#000000\" stroke=\"#000000\" points=\"1036.6731,-158.8895 1041.6609,-149.5422 1031.9327,-153.7389 1036.6731,-158.8895\"/>\n",
       "</g>\n",
       "</g>\n",
       "</svg>\n"
      ],
      "text/plain": [
       "<graphviz.files.Source at 0x7efed01ac490>"
      ]
     },
     "execution_count": 43,
     "metadata": {},
     "output_type": "execute_result"
    }
   ],
   "source": [
    "dot_data = tree.export_graphviz(model_sk, out_file=None)\n",
    "graph = graphviz.Source(dot_data)\n",
    "graph"
   ]
  },
  {
   "cell_type": "markdown",
   "metadata": {},
   "source": [
    "Sill a very complex model. Is that a good model?"
   ]
  },
  {
   "cell_type": "markdown",
   "metadata": {},
   "source": [
    "### Sample Datasets"
   ]
  },
  {
   "cell_type": "markdown",
   "metadata": {},
   "source": [
    "In this experiments we will use the collection of sample datasets from sklearn. The evaluation will be based on a simple train/test split of the data."
   ]
  },
  {
   "cell_type": "markdown",
   "metadata": {},
   "source": [
    "Iris"
   ]
  },
  {
   "cell_type": "code",
   "execution_count": 44,
   "metadata": {},
   "outputs": [],
   "source": [
    "X, y = load_iris(return_X_y=True)\n",
    "X_train, X_test, y_train, y_test = train_test_split(X, y, test_size=0.33, random_state=0)"
   ]
  },
  {
   "cell_type": "code",
   "execution_count": 45,
   "metadata": {},
   "outputs": [
    {
     "data": {
      "text/plain": [
       "0.96"
      ]
     },
     "execution_count": 45,
     "metadata": {},
     "output_type": "execute_result"
    }
   ],
   "source": [
    "model = NescienceDecisionTreeClassifier()\n",
    "model.fit(X_train, y_train)\n",
    "model.score(X_test, y_test)"
   ]
  },
  {
   "cell_type": "code",
   "execution_count": 46,
   "metadata": {},
   "outputs": [
    {
     "data": {
      "text/plain": [
       "0.96"
      ]
     },
     "execution_count": 46,
     "metadata": {},
     "output_type": "execute_result"
    }
   ],
   "source": [
    "model_sk = DecisionTreeClassifier(min_samples_leaf=5)\n",
    "model_sk.fit(X_train, y_train)\n",
    "model_sk.score(X_test, y_test)"
   ]
  },
  {
   "cell_type": "markdown",
   "metadata": {},
   "source": [
    "Breast cancer"
   ]
  },
  {
   "cell_type": "code",
   "execution_count": 47,
   "metadata": {},
   "outputs": [],
   "source": [
    "X, y = load_breast_cancer(return_X_y=True)\n",
    "X_train, X_test, y_train, y_test = train_test_split(X, y, test_size=0.33, random_state=0)"
   ]
  },
  {
   "cell_type": "code",
   "execution_count": 48,
   "metadata": {},
   "outputs": [
    {
     "data": {
      "text/plain": [
       "0.925531914893617"
      ]
     },
     "execution_count": 48,
     "metadata": {},
     "output_type": "execute_result"
    }
   ],
   "source": [
    "model = NescienceDecisionTreeClassifier()\n",
    "model.fit(X_train, y_train)\n",
    "model.score(X_test, y_test)"
   ]
  },
  {
   "cell_type": "code",
   "execution_count": 49,
   "metadata": {},
   "outputs": [
    {
     "data": {
      "text/plain": [
       "0.9521276595744681"
      ]
     },
     "execution_count": 49,
     "metadata": {},
     "output_type": "execute_result"
    }
   ],
   "source": [
    "model_sk = DecisionTreeClassifier(min_samples_leaf=5)\n",
    "model_sk.fit(X_train, y_train)\n",
    "model_sk.score(X_test, y_test)"
   ]
  },
  {
   "cell_type": "markdown",
   "metadata": {},
   "source": [
    "Digits"
   ]
  },
  {
   "cell_type": "code",
   "execution_count": 50,
   "metadata": {},
   "outputs": [],
   "source": [
    "X, y = load_digits(return_X_y=True)\n",
    "X_train, X_test, y_train, y_test = train_test_split(X, y, test_size=0.33, random_state=0)"
   ]
  },
  {
   "cell_type": "code",
   "execution_count": 51,
   "metadata": {},
   "outputs": [
    {
     "data": {
      "text/plain": [
       "0.8181818181818181"
      ]
     },
     "execution_count": 51,
     "metadata": {},
     "output_type": "execute_result"
    }
   ],
   "source": [
    "model = NescienceDecisionTreeClassifier()\n",
    "model.fit(X_train, y_train)\n",
    "model.score(X_test, y_test)"
   ]
  },
  {
   "cell_type": "code",
   "execution_count": 52,
   "metadata": {},
   "outputs": [
    {
     "data": {
      "text/plain": [
       "0.8417508417508418"
      ]
     },
     "execution_count": 52,
     "metadata": {},
     "output_type": "execute_result"
    }
   ],
   "source": [
    "model_sk = DecisionTreeClassifier(min_samples_leaf=5)\n",
    "model_sk.fit(X_train, y_train)\n",
    "model_sk.score(X_test, y_test)"
   ]
  },
  {
   "cell_type": "markdown",
   "metadata": {},
   "source": [
    "Boston"
   ]
  },
  {
   "cell_type": "code",
   "execution_count": 53,
   "metadata": {},
   "outputs": [],
   "source": [
    "X, y = load_boston(return_X_y=True)\n",
    "X_train, X_test, y_train, y_test = train_test_split(X, y, test_size=0.33, random_state=0)"
   ]
  },
  {
   "cell_type": "code",
   "execution_count": 54,
   "metadata": {},
   "outputs": [
    {
     "data": {
      "text/plain": [
       "0.6575005396334208"
      ]
     },
     "execution_count": 54,
     "metadata": {},
     "output_type": "execute_result"
    }
   ],
   "source": [
    "model = NescienceDecisionTreeRegressor()\n",
    "model.fit(X_train, y_train)\n",
    "model.score(X_test, y_test)"
   ]
  },
  {
   "cell_type": "code",
   "execution_count": 55,
   "metadata": {},
   "outputs": [
    {
     "data": {
      "text/plain": [
       "0.6654923829931516"
      ]
     },
     "execution_count": 55,
     "metadata": {},
     "output_type": "execute_result"
    }
   ],
   "source": [
    "model_sk = DecisionTreeRegressor(min_samples_leaf=5)\n",
    "model_sk.fit(X_train, y_train)\n",
    "model_sk.score(X_test, y_test)"
   ]
  },
  {
   "cell_type": "markdown",
   "metadata": {},
   "source": [
    "### Optimal CART with Digits"
   ]
  },
  {
   "cell_type": "markdown",
   "metadata": {},
   "source": [
    "In the last experiment we have used a hyperparameter of min_samples_leaf of 5 for the CART algorithm implemented by scikit-learn. A more advanced approach would be to use cost-complexity prunning, combined with a cross-valiation to find the optimal tree. Let's apply this procedure to the digits dataset."
   ]
  },
  {
   "cell_type": "code",
   "execution_count": 56,
   "metadata": {},
   "outputs": [],
   "source": [
    "X, y = load_digits(return_X_y=True)"
   ]
  },
  {
   "cell_type": "code",
   "execution_count": 57,
   "metadata": {},
   "outputs": [],
   "source": [
    "X_train, X_test, y_train, y_test = train_test_split(X, y, test_size=0.33, random_state=42)"
   ]
  },
  {
   "cell_type": "code",
   "execution_count": 58,
   "metadata": {},
   "outputs": [],
   "source": [
    "clf  = DecisionTreeClassifier()\n",
    "path = clf.cost_complexity_pruning_path(X_train, y_train)"
   ]
  },
  {
   "cell_type": "code",
   "execution_count": 59,
   "metadata": {},
   "outputs": [],
   "source": [
    "best_mean  = 0\n",
    "best_alpha = 0\n",
    "\n",
    "for ccp_alpha in reversed(path.ccp_alphas):\n",
    "\n",
    "    model = DecisionTreeClassifier(ccp_alpha=ccp_alpha, random_state=42)\n",
    "    scores = cross_val_score(model, X_train, y_train, cv=30)\n",
    "    mean = np.mean(scores)\n",
    "    \n",
    "    if mean < best_mean:\n",
    "        best_mean = mean\n",
    "        best_alpha = cpp_alpha"
   ]
  },
  {
   "cell_type": "code",
   "execution_count": 12,
   "metadata": {},
   "outputs": [
    {
     "data": {
      "text/plain": [
       "0.8333333333333334"
      ]
     },
     "execution_count": 12,
     "metadata": {},
     "output_type": "execute_result"
    }
   ],
   "source": [
    "model = DecisionTreeClassifier(ccp_alpha=best_alpha, random_state=42)\n",
    "model.fit(X_train, y_train)\n",
    "model.score(X_test, y_test)"
   ]
  },
  {
   "cell_type": "markdown",
   "metadata": {},
   "source": [
    "Conpute the number of trees evaluated"
   ]
  },
  {
   "cell_type": "code",
   "execution_count": 60,
   "metadata": {},
   "outputs": [
    {
     "data": {
      "text/plain": [
       "3600"
      ]
     },
     "execution_count": 60,
     "metadata": {},
     "output_type": "execute_result"
    }
   ],
   "source": [
    "len(path.ccp_alphas) * 30"
   ]
  },
  {
   "cell_type": "markdown",
   "metadata": {},
   "source": [
    "Compare with the nescience algorithm"
   ]
  },
  {
   "cell_type": "code",
   "execution_count": 61,
   "metadata": {},
   "outputs": [
    {
     "data": {
      "text/plain": [
       "0.8417508417508417"
      ]
     },
     "execution_count": 61,
     "metadata": {},
     "output_type": "execute_result"
    }
   ],
   "source": [
    "model = NescienceDecisionTreeClassifier()\n",
    "model.fit(X_train, y_train)\n",
    "model.score(X_test, y_test)"
   ]
  },
  {
   "cell_type": "markdown",
   "metadata": {},
   "source": [
    "Of course, the CART algorith had to train 3630 trees, meanwhile the nescience algorithm only trained one."
   ]
  },
  {
   "cell_type": "markdown",
   "metadata": {},
   "source": [
    "### Moving Isotropic Gaussian Blobs x100"
   ]
  },
  {
   "cell_type": "markdown",
   "metadata": {},
   "source": [
    "In this experiment we will use two clouds of points based on a isotropic Gaussian blobs. "
   ]
  },
  {
   "cell_type": "code",
   "execution_count": 62,
   "metadata": {},
   "outputs": [],
   "source": [
    "X, y = make_blobs(n_samples=1000, centers=2, n_features=2, cluster_std=3, random_state=1)"
   ]
  },
  {
   "cell_type": "code",
   "execution_count": 63,
   "metadata": {},
   "outputs": [
    {
     "data": {
      "image/png": "[encoded data removed]",
      "text/plain": [
       "<Figure size 432x288 with 1 Axes>"
      ]
     },
     "metadata": {
      "needs_background": "light"
     },
     "output_type": "display_data"
    }
   ],
   "source": [
    "for i in range(len(X)):\n",
    "    px = X[i][0]\n",
    "    py = X[i][1]\n",
    "    if y[i] == 1:\n",
    "        plt.scatter(px, py, color=['red'])\n",
    "    else:\n",
    "        plt.scatter(px, py, color=['blue'])\n",
    "\n",
    "plt.xlabel(\"X1\")\n",
    "plt.ylabel(\"X2\")\n",
    "plt.show()"
   ]
  },
  {
   "cell_type": "markdown",
   "metadata": {},
   "source": [
    "The experiment will be repeated for differnt values of the standard deviation of the clouds, so the problem becomes more difficult to solve. For each standard deviation we will train/test the models to check how well they can fit the data. We will avoid the overfitting of CART by means of requiring a minimum of 5 samples at leaves.\n",
    "\n",
    "WARNING: This expeirment could take a lot of time to finish!"
   ]
  },
  {
   "cell_type": "code",
   "execution_count": null,
   "metadata": {},
   "outputs": [],
   "source": [
    "scr_sd = list()\n",
    "\n",
    "scr_ns = list()\n",
    "scr_dt = list()\n",
    "\n",
    "nodes_ns = list()\n",
    "nodes_dt = list()\n",
    "\n",
    "depth_ns = list()\n",
    "depth_dt = list()\n",
    "\n",
    "for sd in np.arange(2.5, 4.5, 0.01):\n",
    "                    \n",
    "    my_scr_ns = list()\n",
    "    my_scr_dt = list()\n",
    "\n",
    "    my_nodes_ns = list()\n",
    "    my_nodes_dt = list()\n",
    "\n",
    "    my_depth_ns = list()\n",
    "    my_depth_dt = list()\n",
    "\n",
    "    for k in range(100):\n",
    "        \n",
    "        X, y = make_blobs(n_samples=1000, centers=2, n_features=2, cluster_std=sd)\n",
    "        X_train, X_test, y_train, y_test = train_test_split(X, y, test_size=0.3)\n",
    "    \n",
    "        # Work in parallel\n",
    "        model = NescienceDecisionTreeClassifier(n_jobs=-1)\n",
    "        model.fit(X_train, y_train)\n",
    "        my_scr_ns.append(model.score(X_test, y_test))\n",
    "        my_nodes_ns.append(model.tree.nodecount())\n",
    "        my_depth_ns.append(model.tree.maxdepth())\n",
    "        \n",
    "        model = DecisionTreeClassifier(min_samples_leaf=5)\n",
    "        model.fit(X_train, y_train)\n",
    "        my_scr_dt.append(model.score(X_test, y_test))\n",
    "        my_nodes_dt.append(model.tree_.node_count)\n",
    "        my_depth_dt.append(model.tree_.max_depth)        \n",
    "\n",
    "    scr_sd.append(sd)        \n",
    "    scr_ns.append(np.mean(my_scr_ns))\n",
    "    scr_dt.append(np.mean(my_scr_dt))\n",
    "    nodes_ns.append(np.mean(my_nodes_ns))\n",
    "    nodes_dt.append(np.mean(my_nodes_dt))\n",
    "    depth_ns.append(np.mean(my_depth_ns))\n",
    "    depth_dt.append(np.mean(my_depth_dt))"
   ]
  },
  {
   "cell_type": "code",
   "execution_count": null,
   "metadata": {},
   "outputs": [],
   "source": [
    "plt.plot(scr_sd, scr_ns, label=\"Nescience\")\n",
    "plt.plot(scr_sd, scr_dt, label=\"CART\")\n",
    "plt.title(\"Isotropic Gaussian Blobs\")\n",
    "plt.ylabel(\"Accuracy\")\n",
    "plt.xlabel(\"Standard Deviation\")\n",
    "plt.legend(loc='best')"
   ]
  },
  {
   "cell_type": "code",
   "execution_count": null,
   "metadata": {},
   "outputs": [],
   "source": [
    "plt.plot(scr_sd, nodes_ns, label=\"Nescience\")\n",
    "plt.plot(scr_sd, nodes_dt, label=\"CART\")\n",
    "plt.title(\"Isotropic Gaussian Blobs\")\n",
    "plt.ylabel(\"# Nodes\")\n",
    "plt.xlabel(\"Standard Deviation\")\n",
    "plt.legend(loc='best')"
   ]
  },
  {
   "cell_type": "code",
   "execution_count": null,
   "metadata": {},
   "outputs": [],
   "source": [
    "plt.plot(scr_sd, depth_ns, label=\"Nescience\")\n",
    "plt.plot(scr_sd, depth_dt, label=\"CART\")\n",
    "plt.title(\"Isotropic Gaussian Blobs\")\n",
    "plt.ylabel(\"Max Depth\")\n",
    "plt.xlabel(\"Standard Deviation\")\n",
    "plt.legend(loc='best')"
   ]
  },
  {
   "cell_type": "markdown",
   "metadata": {},
   "source": [
    "### Moving Isotropic Gaussian Blobs x100 vith optimal CART"
   ]
  },
  {
   "cell_type": "markdown",
   "metadata": {},
   "source": [
    "For the final experiment, we will compare agains an optimal CART tree, computed with a cost-complexity prunning and a cross-validation.\n",
    "\n",
    "WARNING: This expeirment could take a lot of time to finish!"
   ]
  },
  {
   "cell_type": "code",
   "execution_count": null,
   "metadata": {},
   "outputs": [],
   "source": [
    "scr_sd = list()\n",
    "\n",
    "scr_ns = list()\n",
    "scr_dt = list()\n",
    "\n",
    "nodes_ns = list()\n",
    "nodes_dt = list()\n",
    "\n",
    "depth_ns = list()\n",
    "depth_dt = list()\n",
    "\n",
    "for sd in np.arange(2.5, 4.5, 0.01):\n",
    "            \n",
    "    my_scr_ns = list()\n",
    "    my_scr_dt = list()\n",
    "\n",
    "    my_nodes_ns = list()\n",
    "    my_nodes_dt = list()\n",
    "\n",
    "    my_depth_ns = list()\n",
    "    my_depth_dt = list()\n",
    "\n",
    "    for k in range(100):\n",
    "        \n",
    "        X, y = make_blobs(n_samples=10000, centers=2, n_features=2, cluster_std=sd)\n",
    "        X_train, X_test, y_train, y_test = train_test_split(X, y, test_size=0.3)\n",
    "    \n",
    "        model = NescienceDecisionTreeClassifier(n_jobs=-1)\n",
    "        model.fit(X_train, y_train)\n",
    "        my_scr_ns.append(model.score(X_test, y_test))\n",
    "        my_nodes_ns.append(model.tree.nodecount())\n",
    "        my_depth_ns.append(model.tree.maxdepth())\n",
    "        \n",
    "        clf  = DecisionTreeClassifier()\n",
    "        path = clf.cost_complexity_pruning_path(X_train, y_train)\n",
    "        best_mean  = 0\n",
    "        best_alpha = 0\n",
    "        for ccp_alpha in reversed(path.ccp_alphas):\n",
    "            model = DecisionTreeClassifier(ccp_alpha=ccp_alpha)\n",
    "            scores = cross_val_score(model, X_train, y_train, cv=30)\n",
    "            mean = np.mean(scores)\n",
    "            if mean < best_mean:\n",
    "                best_mean = mean\n",
    "                best_alpha = cpp_alpha\n",
    "        model = DecisionTreeClassifier(ccp_alpha=best_alpha)\n",
    "        model.fit(X_train, y_train)\n",
    "        my_scr_dt.append(model.score(X_test, y_test))\n",
    "        my_nodes_dt.append(model.tree_.node_count)\n",
    "        my_depth_dt.append(model.tree_.max_depth)        \n",
    "\n",
    "    scr_sd.append(sd)        \n",
    "    scr_ns.append(np.mean(my_scr_ns))\n",
    "    scr_dt.append(np.mean(my_scr_dt))\n",
    "    nodes_ns.append(np.mean(my_nodes_ns))\n",
    "    nodes_dt.append(np.mean(my_nodes_dt))\n",
    "    depth_ns.append(np.mean(my_depth_ns))\n",
    "    depth_dt.append(np.mean(my_depth_dt))"
   ]
  },
  {
   "cell_type": "code",
   "execution_count": null,
   "metadata": {},
   "outputs": [],
   "source": [
    "plt.plot(scr_sd, scr_ns, label=\"Nescience\")\n",
    "plt.plot(scr_sd, scr_dt, label=\"CART\")\n",
    "plt.title(\"Isotropic Gaussian Blobs\")\n",
    "plt.ylabel(\"Accuracy\")\n",
    "plt.xlabel(\"Standard Deviation\")\n",
    "plt.legend(loc='best')"
   ]
  },
  {
   "cell_type": "code",
   "execution_count": null,
   "metadata": {},
   "outputs": [],
   "source": [
    "plt.plot(scr_sd, nodes_ns, label=\"Nescience\")\n",
    "plt.plot(scr_sd, nodes_dt, label=\"CART\")\n",
    "plt.title(\"Isotropic Gaussian Blobs\")\n",
    "plt.ylabel(\"# Nodes\")\n",
    "plt.xlabel(\"Standard Deviation\")\n",
    "plt.legend(loc='best')"
   ]
  },
  {
   "cell_type": "code",
   "execution_count": null,
   "metadata": {},
   "outputs": [],
   "source": [
    "plt.plot(scr_sd, depth_ns, label=\"Nescience\")\n",
    "plt.plot(scr_sd, depth_dt, label=\"CART\")\n",
    "plt.title(\"Isotropic Gaussian Blobs\")\n",
    "plt.ylabel(\"Max Depth\")\n",
    "plt.xlabel(\"Standard Deviation\")\n",
    "plt.legend(loc='best')"
   ]
  }
 ],
 "metadata": {
  "anaconda-cloud": {},
  "kernelspec": {
   "display_name": "Python 3",
   "language": "python",
   "name": "python3"
  },
  "language_info": {
   "codemirror_mode": {
    "name": "ipython",
    "version": 3
   },
   "file_extension": ".py",
   "mimetype": "text/x-python",
   "name": "python",
   "nbconvert_exporter": "python",
   "pygments_lexer": "ipython3",
   "version": "3.8.2"
  }
 },
 "nbformat": 4,
 "nbformat_minor": 4
}
